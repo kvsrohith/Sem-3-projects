{
  "nbformat": 4,
  "nbformat_minor": 0,
  "metadata": {
    "colab": {
      "provenance": []
    },
    "kernelspec": {
      "name": "python3",
      "display_name": "Python 3"
    },
    "language_info": {
      "name": "python"
    }
  },
  "cells": [
    {
      "cell_type": "markdown",
      "source": [
        "#Knowledge Check - 4\n",
        "\n",
        "**Answer the following questions, download the .ipynb file and submit the file.**\n",
        "* **Name** : KANDIKATTU VENKATA SAI ROHITH\n",
        "* **Session** : 6:10 - 9:00\n",
        "* **CRN** : 72541"
      ],
      "metadata": {
        "id": "gxkjKzABrdEf"
      }
    },
    {
      "cell_type": "markdown",
      "source": [
        "## OOPS"
      ],
      "metadata": {
        "id": "NWTw0yI-ri9c"
      }
    },
    {
      "cell_type": "markdown",
      "source": [
        "1 - Write a Python program to create a **Vehicle class** with **max_speed** and **mileage** instance attributes."
      ],
      "metadata": {
        "id": "-0TqKPinrhNM"
      }
    },
    {
      "cell_type": "code",
      "execution_count": 1,
      "metadata": {
        "colab": {
          "base_uri": "https://localhost:8080/"
        },
        "id": "2PYTvaohrWAq",
        "outputId": "b6d75227-f02a-4b52-a04d-adf9354f6cb0"
      },
      "outputs": [
        {
          "output_type": "stream",
          "name": "stdout",
          "text": [
            "Max Speed: 120 mph\n",
            "Mileage: 25 miles per gallon\n"
          ]
        }
      ],
      "source": [
        "#Write code here!\n",
        "class Vehicle:\n",
        "    def __init__(self, max_speed, mileage):\n",
        "        self.max_speed = max_speed\n",
        "        self.mileage = mileage\n",
        "\n",
        "    def display_info(self):\n",
        "        print(f\"Max Speed: {self.max_speed} mph\")\n",
        "        print(f\"Mileage: {self.mileage} miles per gallon\")\n",
        "\n",
        "my_car = Vehicle(120, 25)\n",
        "\n",
        "my_car.display_info()\n"
      ]
    },
    {
      "cell_type": "markdown",
      "source": [
        "2 - Create a **Vehicle class** without any variables and methods"
      ],
      "metadata": {
        "id": "kEST1D-orn8X"
      }
    },
    {
      "cell_type": "code",
      "source": [
        "#Write code here!\n",
        "class Vehicle:\n",
        "    pass\n",
        "\n",
        "my_car = Vehicle()\n"
      ],
      "metadata": {
        "id": "R6MKqIforp7M"
      },
      "execution_count": 2,
      "outputs": []
    },
    {
      "cell_type": "markdown",
      "source": [
        "3 - Create a child **class Bus** that will inherit all of the variables and methods of the Vehicle class"
      ],
      "metadata": {
        "id": "ywjcloskrqFj"
      }
    },
    {
      "cell_type": "code",
      "source": [
        "class Vehicle:\n",
        "\n",
        "    def __init__(self, name, max_speed, mileage):\n",
        "        self.name = name\n",
        "        self.max_speed = max_speed\n",
        "        self.mileage = mileage\n",
        "\n",
        "class Bus(Vehicle):\n",
        "    pass\n",
        "\n",
        "my_bus = Bus(\"My Bus\", 60, 10)\n",
        "\n",
        "print(f\"Bus Name: {my_bus.name}\")\n",
        "print(f\"Max Speed: {my_bus.max_speed} mph\")\n",
        "print(f\"Mileage: {my_bus.mileage} miles per gallon\")\n"
      ],
      "metadata": {
        "id": "JrKhx97grsk_",
        "colab": {
          "base_uri": "https://localhost:8080/"
        },
        "outputId": "f39ca17b-ad37-4a7b-8e16-670db29f83d6"
      },
      "execution_count": 3,
      "outputs": [
        {
          "output_type": "stream",
          "name": "stdout",
          "text": [
            "Bus Name: My Bus\n",
            "Max Speed: 60 mph\n",
            "Mileage: 10 miles per gallon\n"
          ]
        }
      ]
    },
    {
      "cell_type": "markdown",
      "source": [
        "Create a Bus object that will inherit all of the variables and methods of the parent Vehicle class and display it.\n",
        "\n",
        "**Expected Output:**\n",
        "\n",
        "`Vehicle Name: School Volvo Speed: 180 Mileage: 12`"
      ],
      "metadata": {
        "id": "DgsxLyx2tLIl"
      }
    },
    {
      "cell_type": "code",
      "source": [
        "#Write code here!\n",
        "class Vehicle:\n",
        "    def __init__(self, name, max_speed, mileage):\n",
        "        self.name = name\n",
        "        self.max_speed = max_speed\n",
        "        self.mileage = mileage\n",
        "\n",
        "class Bus(Vehicle):\n",
        "    pass\n",
        "\n",
        "my_bus = Bus(\"School Volvo\", 180, 12)\n",
        "\n",
        "print(f\"Vehicle Name: {my_bus.name}\")\n",
        "print(f\"Speed: {my_bus.max_speed}\")\n",
        "print(f\"Mileage: {my_bus.mileage}\")\n",
        "\n"
      ],
      "metadata": {
        "id": "A7j-XRJxtIr0",
        "colab": {
          "base_uri": "https://localhost:8080/"
        },
        "outputId": "d36cceb0-0446-419c-9567-6fea0a9ad954"
      },
      "execution_count": 4,
      "outputs": [
        {
          "output_type": "stream",
          "name": "stdout",
          "text": [
            "Vehicle Name: School Volvo\n",
            "Speed: 180\n",
            "Mileage: 12\n"
          ]
        }
      ]
    },
    {
      "cell_type": "markdown",
      "source": [
        "4 - Create a **Bus object** that will inherit all of the variables and methods of the parent Vehicle class and display it."
      ],
      "metadata": {
        "id": "2K_XaVg7rssy"
      }
    },
    {
      "cell_type": "code",
      "source": [
        "#Write code here!\n",
        "class Vehicle:\n",
        "    def __init__(self, name, max_speed, mileage):\n",
        "        self.name = name\n",
        "        self.max_speed = max_speed\n",
        "        self.mileage = mileage\n",
        "\n",
        "class Bus(Vehicle):\n",
        "    def display_info(self):\n",
        "        print(f\"Vehicle Name: {self.name}\")\n",
        "        print(f\"Speed: {self.max_speed}\")\n",
        "        print(f\"Mileage: {self.mileage}\")\n",
        "\n",
        "my_bus = Bus(\"School Volvo\", 180, 12)\n",
        "\n",
        "my_bus.display_info()\n"
      ],
      "metadata": {
        "colab": {
          "base_uri": "https://localhost:8080/"
        },
        "id": "QWWPA9kTrwqw",
        "outputId": "e05b1ec8-8105-4df5-804f-f1daadcaab3a"
      },
      "execution_count": 5,
      "outputs": [
        {
          "output_type": "stream",
          "name": "stdout",
          "text": [
            "Vehicle Name: School Volvo\n",
            "Speed: 180\n",
            "Mileage: 12\n"
          ]
        }
      ]
    },
    {
      "cell_type": "markdown",
      "source": [
        "### Inheritance and Polymorphism"
      ],
      "metadata": {
        "id": "wPwNIteqrwxh"
      }
    },
    {
      "cell_type": "markdown",
      "source": [
        "5 - Create a **Bus class** that inherits from the Vehicle class. Give the capacity argument of `Bus.seating_capacity()` a default value of 50.\n",
        "\n",
        "Use the following code for your parent Vehicle class."
      ],
      "metadata": {
        "id": "3MHtSASur9xd"
      }
    },
    {
      "cell_type": "code",
      "source": [
        "class Vehicle:\n",
        "    def __init__(self, name, max_speed, mileage):\n",
        "        self.name = name\n",
        "        self.max_speed = max_speed\n",
        "        self.mileage = mileage\n",
        "\n",
        "    def seating_capacity(self, capacity):\n",
        "        return f\"The seating capacity of a {self.name} is {capacity} passengers\"\n",
        "class Bus(Vehicle):\n",
        "    def seating_capacity(self, capacity=50):\n",
        "        return super().seating_capacity(capacity)\n",
        "\n",
        "my_bus = Bus(\"School Volvo\", 180, 12)\n",
        "\n",
        "capacity = my_bus.seating_capacity()\n",
        "print(capacity)"
      ],
      "metadata": {
        "id": "_i8Tw7VbsCGH",
        "colab": {
          "base_uri": "https://localhost:8080/"
        },
        "outputId": "fb877f37-403b-4b60-a517-4494c1dd580d"
      },
      "execution_count": 8,
      "outputs": [
        {
          "output_type": "stream",
          "name": "stdout",
          "text": [
            "The seating capacity of a School Volvo is 50 passengers\n"
          ]
        }
      ]
    },
    {
      "cell_type": "markdown",
      "source": [
        "**Expected Output:**\n",
        "\n",
        "```The seating capacity of a bus is 50 passengers```"
      ],
      "metadata": {
        "id": "IOm_s63_tbgE"
      }
    },
    {
      "cell_type": "markdown",
      "source": [
        "**HINT** - First, use method overriding.\n",
        "Next, use default method argument in the seating_capacity() method definition of a bus class."
      ],
      "metadata": {
        "id": "UjsK0BnU-j89"
      }
    },
    {
      "cell_type": "code",
      "source": [
        "#Write code here!\n",
        "class Vehicle:\n",
        "    def __init__(self, name, max_speed, mileage):\n",
        "        self.name = name\n",
        "        self.max_speed = max_speed\n",
        "        self.mileage = mileage\n",
        "\n",
        "    def seating_capacity(self, capacity):\n",
        "        return f\"The seating capacity of a {self.name} is {capacity} passengers\"\n",
        "\n",
        "class Bus(Vehicle):\n",
        "    def seating_capacity(self, capacity=50):\n",
        "        return super().seating_capacity(capacity)\n",
        "\n",
        "my_bus = Bus(\"School Volvo\", 180, 12)\n",
        "\n",
        "capacity_message = my_bus.seating_capacity()\n",
        "\n",
        "print(capacity_message)\n"
      ],
      "metadata": {
        "colab": {
          "base_uri": "https://localhost:8080/"
        },
        "id": "FyG1R1OGsFJC",
        "outputId": "4d2a46c4-b7cb-40f5-9d8e-7ec1c61db542"
      },
      "execution_count": 10,
      "outputs": [
        {
          "output_type": "stream",
          "name": "stdout",
          "text": [
            "The seating capacity of a School Volvo is 50 passengers\n"
          ]
        }
      ]
    },
    {
      "cell_type": "markdown",
      "source": [
        "6 - Define a property that must have the same value for every class instance (object)\n",
        "\n",
        "Define a class **attribute”color”** with a default value white. I.e., Every Vehicle should be white.\n",
        "\n",
        "Use the following code for this exercise."
      ],
      "metadata": {
        "id": "areOtYYVsENj"
      }
    },
    {
      "cell_type": "code",
      "source": [
        "class Vehicle:\n",
        "    color = 'white'\n",
        "\n",
        "    def __init__(self, name, max_speed, mileage):\n",
        "        self.name = name\n",
        "        self.max_speed = max_speed\n",
        "        self.mileage = mileage\n",
        "\n",
        "class Bus(Vehicle):\n",
        "    pass\n",
        "\n",
        "class Car(Vehicle):\n",
        "    pass\n",
        "school_bus = Bus(\"School Volvo\", 180, 12)\n",
        "audi_q5 = Car(\"Audi Q5\", 240, 18)\n",
        "print(f\"Color: {school_bus.color}, Vehicle name: {school_bus.name}, Speed: {school_bus.max_speed}, Mileage: {school_bus.mileage}\")\n",
        "print(f\"Color: {audi_q5.color}, Vehicle name: {audi_q5.name}, Speed: {audi_q5.max_speed}, Mileage: {audi_q5.mileage}\")\n"
      ],
      "metadata": {
        "id": "I5Vyz6CWsOTB",
        "colab": {
          "base_uri": "https://localhost:8080/"
        },
        "outputId": "2614f031-5fc6-43f3-ca48-e91b5afc8931"
      },
      "execution_count": 13,
      "outputs": [
        {
          "output_type": "stream",
          "name": "stdout",
          "text": [
            "Color: white, Vehicle name: School Volvo, Speed: 180, Mileage: 12\n",
            "Color: white, Vehicle name: Audi Q5, Speed: 240, Mileage: 18\n"
          ]
        }
      ]
    },
    {
      "cell_type": "markdown",
      "source": [
        "**Expected Output:**\n",
        "\n",
        "```\n",
        "Color: White, Vehicle name: School Volvo, Speed: 180, Mileage: 12\n",
        "Color: White, Vehicle name: Audi Q5, Speed: 240, Mileage: 18\n",
        "```\n",
        "\n",
        "\n",
        "\n"
      ],
      "metadata": {
        "id": "sVc9k2JNtiiI"
      }
    },
    {
      "cell_type": "markdown",
      "source": [
        "**HINT** - Define a color as a class variable in a Vehicle class"
      ],
      "metadata": {
        "id": "IMnIsZHp-ZBC"
      }
    },
    {
      "cell_type": "code",
      "source": [
        "#Write code here!\n",
        "class Vehicle:\n",
        "    color = \"White\"\n",
        "\n",
        "    def __init__(self, name, max_speed, mileage):\n",
        "        self.name = name\n",
        "        self.max_speed = max_speed\n",
        "        self.mileage = mileage\n",
        "\n",
        "    def display_info(self):\n",
        "        return f\"{self.color} {self.name} Speed: {self.max_speed} Mileage: {self.mileage}\"\n",
        "\n",
        "class Bus(Vehicle):\n",
        "    pass\n",
        "\n",
        "class Car(Vehicle):\n",
        "    pass\n",
        "\n",
        "school_bus = Bus(\"School Volvo\", 180, 12)\n",
        "audi_q5 = Car(\"Audi Q5\", 240, 18)\n",
        "\n",
        "print(school_bus.display_info())\n",
        "print(audi_q5.display_info())\n"
      ],
      "metadata": {
        "colab": {
          "base_uri": "https://localhost:8080/"
        },
        "id": "OQeSPkW1sP-o",
        "outputId": "a4ffedce-981d-4be7-a9d6-169ea2648e88"
      },
      "execution_count": 14,
      "outputs": [
        {
          "output_type": "stream",
          "name": "stdout",
          "text": [
            "White School Volvo Speed: 180 Mileage: 12\n",
            "White Audi Q5 Speed: 240 Mileage: 18\n"
          ]
        }
      ]
    },
    {
      "cell_type": "markdown",
      "source": [
        "7 - Create a **Bus child class** that inherits from the Vehicle class. The default fare charge of any vehicle is seating capacity * 100. If Vehicle is Bus instance, we need to add an extra 10% on full fare as a maintenance charge. So total fare for bus instance will become the final amount = total fare + 10% of the total fare.\n",
        "\n",
        "**Note:** The bus seating capacity is 50. so the final fare amount should be 5500. You need to override the `fare()` method of a Vehicle class in Bus class.\n",
        "\n",
        "Use the following code for your parent Vehicle class. We need to access the parent class from inside a method of a child class."
      ],
      "metadata": {
        "id": "rln9JhrQsa5Z"
      }
    },
    {
      "cell_type": "code",
      "source": [
        "class Vehicle:\n",
        "    def __init__(self, name, mileage, capacity):\n",
        "        self.name = name\n",
        "        self.mileage = mileage\n",
        "        self.capacity = capacity\n",
        "\n",
        "    def fare(self):\n",
        "        return self.capacity * 100\n",
        "\n",
        "class Bus(Vehicle):\n",
        "    pass\n",
        "\n",
        "School_bus = Bus(\"School Volvo\", 12, 50)\n",
        "print(\"Total Bus fare is:\", School_bus.fare())"
      ],
      "metadata": {
        "colab": {
          "base_uri": "https://localhost:8080/"
        },
        "id": "SajXd-Nkshw3",
        "outputId": "8ecd2018-be8e-47a2-f8de-6e9430a18b0c"
      },
      "execution_count": null,
      "outputs": [
        {
          "output_type": "stream",
          "name": "stdout",
          "text": [
            "Total Bus fare is: 5000\n"
          ]
        }
      ]
    },
    {
      "cell_type": "markdown",
      "source": [
        "**Expected Output:**\n",
        "\n",
        "```Total Bus fare is: 5500.0```"
      ],
      "metadata": {
        "id": "gZsqbz4Zt4mu"
      }
    },
    {
      "cell_type": "code",
      "source": [
        "#Write code here!\n",
        "class Vehicle:\n",
        "    def __init__(self, name, max_speed, mileage, capacity):\n",
        "        self.name = name\n",
        "        self.max_speed = max_speed\n",
        "        self.mileage = mileage\n",
        "        self.capacity = capacity\n",
        "\n",
        "    def fare(self):\n",
        "        base_fare = self.capacity * 100\n",
        "        return base_fare\n",
        "\n",
        "class Bus(Vehicle):\n",
        "    def __init__(self, name, max_speed, mileage):\n",
        "        super().__init__(name, max_speed, mileage, capacity=50)\n",
        "\n",
        "    def fare(self):\n",
        "        base_fare = super().fare()\n",
        "        maintenance_charge = base_fare * 0.1\n",
        "        total_fare = base_fare + maintenance_charge\n",
        "        return total_fare\n",
        "\n",
        "school_bus = Bus(\"School Volvo\", 180, 12)\n",
        "\n",
        "total_fare = school_bus.fare()\n",
        "print(f\"Total Bus fare is: {total_fare}\")\n"
      ],
      "metadata": {
        "colab": {
          "base_uri": "https://localhost:8080/"
        },
        "id": "BvWiv-PHsiYb",
        "outputId": "9854e76b-957d-4f95-f17a-88c7ba048b33"
      },
      "execution_count": 15,
      "outputs": [
        {
          "output_type": "stream",
          "name": "stdout",
          "text": [
            "Total Bus fare is: 5500.0\n"
          ]
        }
      ]
    },
    {
      "cell_type": "markdown",
      "source": [
        "8 - Check type of an object\n",
        "Write a program to determine which class a given Bus object belongs to."
      ],
      "metadata": {
        "id": "mZ5MacGmsifs"
      }
    },
    {
      "cell_type": "code",
      "source": [
        "class Vehicle:\n",
        "    def __init__(self, name, mileage, capacity):\n",
        "        self.name = name\n",
        "        self.mileage = mileage\n",
        "        self.capacity = capacity\n",
        "\n",
        "class Bus(Vehicle):\n",
        "    pass\n",
        "\n",
        "School_bus = Bus(\"School Volvo\", 12, 50)"
      ],
      "metadata": {
        "id": "u7VBPG1XsmhI"
      },
      "execution_count": null,
      "outputs": []
    },
    {
      "cell_type": "markdown",
      "source": [
        "**HINT** - Use Python’s built-in function `type()`."
      ],
      "metadata": {
        "id": "6imiR7BQ-Nhn"
      }
    },
    {
      "cell_type": "code",
      "source": [
        "#Write code here!\n",
        "class Vehicle:\n",
        "    def __init__(self, name, mileage, capacity):\n",
        "        self.name = name\n",
        "        self.mileage = mileage\n",
        "        self.capacity = capacity\n",
        "\n",
        "class Bus(Vehicle):\n",
        "    pass\n",
        "\n",
        "School_bus = Bus(\"School Volvo\", 12, 50)\n",
        "\n",
        "obj_type = type(School_bus)\n",
        "\n",
        "is_bus_instance = isinstance(School_bus, Bus)\n",
        "is_vehicle_instance = isinstance(School_bus, Vehicle)\n",
        "\n",
        "print(f\"The object belongs to the class: {obj_type}\")\n",
        "print(f\"Is it an instance of Bus class? {is_bus_instance}\")\n",
        "print(f\"Is it an instance of Vehicle class? {is_vehicle_instance}\")\n"
      ],
      "metadata": {
        "colab": {
          "base_uri": "https://localhost:8080/"
        },
        "id": "UKEMpcN5sqit",
        "outputId": "1b401c6c-53fa-4993-83fd-f41ca3b2bf80"
      },
      "execution_count": 17,
      "outputs": [
        {
          "output_type": "stream",
          "name": "stdout",
          "text": [
            "The object belongs to the class: <class '__main__.Bus'>\n",
            "Is it an instance of Bus class? True\n",
            "Is it an instance of Vehicle class? True\n"
          ]
        }
      ]
    },
    {
      "cell_type": "markdown",
      "source": [
        "9 - Determine if School_bus is also an instance of the **Vehicle class**"
      ],
      "metadata": {
        "id": "s2a4sl9dsqqg"
      }
    },
    {
      "cell_type": "code",
      "source": [
        "class Vehicle:\n",
        "    def __init__(self, name, mileage, capacity):\n",
        "        self.name = name\n",
        "        self.mileage = mileage\n",
        "        self.capacity = capacity\n",
        "\n",
        "class Bus(Vehicle):\n",
        "    pass\n",
        "\n",
        "School_bus = Bus(\"School Volvo\", 12, 50)"
      ],
      "metadata": {
        "id": "YTyiS5V3suKf"
      },
      "execution_count": null,
      "outputs": []
    },
    {
      "cell_type": "markdown",
      "source": [
        "**HINT** - Use `isinstance()` function"
      ],
      "metadata": {
        "id": "eonmG31P-GYQ"
      }
    },
    {
      "cell_type": "code",
      "source": [
        "#Write code here!\n",
        "class Vehicle:\n",
        "    def __init__(self, name, mileage, capacity):\n",
        "        self.name = name\n",
        "        self.mileage = mileage\n",
        "        self.capacity = capacity\n",
        "\n",
        "class Bus(Vehicle):\n",
        "    pass\n",
        "\n",
        "School_bus = Bus(\"School Volvo\", 12, 50)\n",
        "\n",
        "is_vehicle_instance = isinstance(School_bus, Vehicle)\n",
        "\n",
        "print(f\"Is School_bus an instance of the Vehicle class? {is_vehicle_instance}\")\n"
      ],
      "metadata": {
        "colab": {
          "base_uri": "https://localhost:8080/"
        },
        "id": "iRIzSCJrsuhd",
        "outputId": "ae3aeb15-b9ca-4dea-cf18-6dc6294e695b"
      },
      "execution_count": 20,
      "outputs": [
        {
          "output_type": "stream",
          "name": "stdout",
          "text": [
            "Is School_bus an instance of the Vehicle class? True\n"
          ]
        }
      ]
    },
    {
      "cell_type": "code",
      "source": [],
      "metadata": {
        "id": "UVENU8wB_JT7"
      },
      "execution_count": null,
      "outputs": []
    }
  ]
}