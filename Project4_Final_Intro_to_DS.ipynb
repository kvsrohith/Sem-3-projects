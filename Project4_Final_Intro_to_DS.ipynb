{
 "cells": [
  {
   "cell_type": "code",
   "execution_count": 1,
   "metadata": {
    "colab": {
     "base_uri": "https://localhost:8080/"
    },
    "id": "iFe9MZBLiW8b",
    "outputId": "f88ff940-3ca9-46d4-c531-e812e9d05914",
    "scrolled": true
   },
   "outputs": [
    {
     "name": "stdout",
     "output_type": "stream",
     "text": [
      "Defaulting to user installation because normal site-packages is not writeable\n",
      "Requirement already satisfied: prophet in c:\\users\\sreeja karukonda\\appdata\\roaming\\python\\python39\\site-packages (1.1.5)\n",
      "Requirement already satisfied: numpy>=1.15.4 in c:\\users\\sreeja karukonda\\appdata\\roaming\\python\\python39\\site-packages (from prophet) (1.24.3)\n",
      "Requirement already satisfied: cmdstanpy>=1.0.4 in c:\\users\\sreeja karukonda\\appdata\\roaming\\python\\python39\\site-packages (from prophet) (1.2.0)\n",
      "Requirement already satisfied: pandas>=1.0.4 in c:\\programdata\\anaconda3\\lib\\site-packages (from prophet) (1.4.4)\n",
      "Requirement already satisfied: holidays>=0.25 in c:\\users\\sreeja karukonda\\appdata\\roaming\\python\\python39\\site-packages (from prophet) (0.38)\n",
      "Requirement already satisfied: importlib-resources in c:\\users\\sreeja karukonda\\appdata\\roaming\\python\\python39\\site-packages (from prophet) (6.1.0)\n",
      "Requirement already satisfied: tqdm>=4.36.1 in c:\\programdata\\anaconda3\\lib\\site-packages (from prophet) (4.64.1)\n",
      "Requirement already satisfied: matplotlib>=2.0.0 in c:\\programdata\\anaconda3\\lib\\site-packages (from prophet) (3.5.2)\n",
      "Requirement already satisfied: stanio~=0.3.0 in c:\\users\\sreeja karukonda\\appdata\\roaming\\python\\python39\\site-packages (from cmdstanpy>=1.0.4->prophet) (0.3.0)\n",
      "Requirement already satisfied: python-dateutil in c:\\programdata\\anaconda3\\lib\\site-packages (from holidays>=0.25->prophet) (2.8.2)\n",
      "Requirement already satisfied: kiwisolver>=1.0.1 in c:\\programdata\\anaconda3\\lib\\site-packages (from matplotlib>=2.0.0->prophet) (1.4.2)\n",
      "Requirement already satisfied: fonttools>=4.22.0 in c:\\programdata\\anaconda3\\lib\\site-packages (from matplotlib>=2.0.0->prophet) (4.25.0)\n",
      "Requirement already satisfied: packaging>=20.0 in c:\\users\\sreeja karukonda\\appdata\\roaming\\python\\python39\\site-packages (from matplotlib>=2.0.0->prophet) (20.9)\n",
      "Requirement already satisfied: pillow>=6.2.0 in c:\\users\\sreeja karukonda\\appdata\\roaming\\python\\python39\\site-packages (from matplotlib>=2.0.0->prophet) (10.1.0)\n",
      "Requirement already satisfied: pyparsing>=2.2.1 in c:\\programdata\\anaconda3\\lib\\site-packages (from matplotlib>=2.0.0->prophet) (3.0.9)\n",
      "Requirement already satisfied: cycler>=0.10 in c:\\programdata\\anaconda3\\lib\\site-packages (from matplotlib>=2.0.0->prophet) (0.11.0)\n",
      "Requirement already satisfied: pytz>=2020.1 in c:\\programdata\\anaconda3\\lib\\site-packages (from pandas>=1.0.4->prophet) (2022.1)\n",
      "Requirement already satisfied: colorama in c:\\programdata\\anaconda3\\lib\\site-packages (from tqdm>=4.36.1->prophet) (0.4.5)\n",
      "Requirement already satisfied: zipp>=3.1.0 in c:\\programdata\\anaconda3\\lib\\site-packages (from importlib-resources->prophet) (3.8.0)\n",
      "Requirement already satisfied: six>=1.5 in c:\\programdata\\anaconda3\\lib\\site-packages (from python-dateutil->holidays>=0.25->prophet) (1.16.0)\n",
      "Defaulting to user installation because normal site-packages is not writeable\n",
      "Requirement already satisfied: prophet in c:\\users\\sreeja karukonda\\appdata\\roaming\\python\\python39\\site-packages (1.1.5)\n",
      "Requirement already satisfied: pandas>=1.0.4 in c:\\programdata\\anaconda3\\lib\\site-packages (from prophet) (1.4.4)\n",
      "Requirement already satisfied: holidays>=0.25 in c:\\users\\sreeja karukonda\\appdata\\roaming\\python\\python39\\site-packages (from prophet) (0.38)\n",
      "Requirement already satisfied: cmdstanpy>=1.0.4 in c:\\users\\sreeja karukonda\\appdata\\roaming\\python\\python39\\site-packages (from prophet) (1.2.0)\n",
      "Requirement already satisfied: numpy>=1.15.4 in c:\\users\\sreeja karukonda\\appdata\\roaming\\python\\python39\\site-packages (from prophet) (1.24.3)\n",
      "Requirement already satisfied: matplotlib>=2.0.0 in c:\\programdata\\anaconda3\\lib\\site-packages (from prophet) (3.5.2)\n",
      "Requirement already satisfied: importlib-resources in c:\\users\\sreeja karukonda\\appdata\\roaming\\python\\python39\\site-packages (from prophet) (6.1.0)\n",
      "Requirement already satisfied: tqdm>=4.36.1 in c:\\programdata\\anaconda3\\lib\\site-packages (from prophet) (4.64.1)\n",
      "Requirement already satisfied: stanio~=0.3.0 in c:\\users\\sreeja karukonda\\appdata\\roaming\\python\\python39\\site-packages (from cmdstanpy>=1.0.4->prophet) (0.3.0)\n",
      "Requirement already satisfied: python-dateutil in c:\\programdata\\anaconda3\\lib\\site-packages (from holidays>=0.25->prophet) (2.8.2)\n",
      "Requirement already satisfied: fonttools>=4.22.0 in c:\\programdata\\anaconda3\\lib\\site-packages (from matplotlib>=2.0.0->prophet) (4.25.0)\n",
      "Requirement already satisfied: pillow>=6.2.0 in c:\\users\\sreeja karukonda\\appdata\\roaming\\python\\python39\\site-packages (from matplotlib>=2.0.0->prophet) (10.1.0)\n",
      "Requirement already satisfied: cycler>=0.10 in c:\\programdata\\anaconda3\\lib\\site-packages (from matplotlib>=2.0.0->prophet) (0.11.0)\n",
      "Requirement already satisfied: pyparsing>=2.2.1 in c:\\programdata\\anaconda3\\lib\\site-packages (from matplotlib>=2.0.0->prophet) (3.0.9)\n",
      "Requirement already satisfied: kiwisolver>=1.0.1 in c:\\programdata\\anaconda3\\lib\\site-packages (from matplotlib>=2.0.0->prophet) (1.4.2)\n",
      "Requirement already satisfied: packaging>=20.0 in c:\\users\\sreeja karukonda\\appdata\\roaming\\python\\python39\\site-packages (from matplotlib>=2.0.0->prophet) (20.9)\n",
      "Requirement already satisfied: pytz>=2020.1 in c:\\programdata\\anaconda3\\lib\\site-packages (from pandas>=1.0.4->prophet) (2022.1)\n",
      "Requirement already satisfied: colorama in c:\\programdata\\anaconda3\\lib\\site-packages (from tqdm>=4.36.1->prophet) (0.4.5)\n",
      "Requirement already satisfied: zipp>=3.1.0 in c:\\programdata\\anaconda3\\lib\\site-packages (from importlib-resources->prophet) (3.8.0)\n",
      "Requirement already satisfied: six>=1.5 in c:\\programdata\\anaconda3\\lib\\site-packages (from python-dateutil->holidays>=0.25->prophet) (1.16.0)\n"
     ]
    }
   ],
   "source": [
    "!pip install prophet\n",
    "!pip install --upgrade prophet"
   ]
  },
  {
   "cell_type": "code",
   "execution_count": 16,
   "metadata": {
    "id": "BJ7D4IYdjJ7g"
   },
   "outputs": [],
   "source": [
    "import pandas as pd\n",
    "import numpy as np\n",
    "import seaborn as sns\n",
    "from prophet import Prophet\n",
    "import matplotlib.pyplot as plt\n",
    "from sklearn.metrics import mean_absolute_error, mean_absolute_percentage_error, r2_score"
   ]
  },
  {
   "cell_type": "code",
   "execution_count": 17,
   "metadata": {
    "id": "ml4T91i2fNOh"
   },
   "outputs": [],
   "source": [
    "import plotly as py"
   ]
  },
  {
   "cell_type": "code",
   "execution_count": 18,
   "metadata": {},
   "outputs": [
    {
     "name": "stderr",
     "output_type": "stream",
     "text": [
      "Columns (17) have mixed types. Specify dtype option on import or set low_memory=False.\n"
     ]
    },
    {
     "data": {
      "text/html": [
       "<div>\n",
       "<style scoped>\n",
       "    .dataframe tbody tr th:only-of-type {\n",
       "        vertical-align: middle;\n",
       "    }\n",
       "\n",
       "    .dataframe tbody tr th {\n",
       "        vertical-align: top;\n",
       "    }\n",
       "\n",
       "    .dataframe thead th {\n",
       "        text-align: right;\n",
       "    }\n",
       "</style>\n",
       "<table border=\"1\" class=\"dataframe\">\n",
       "  <thead>\n",
       "    <tr style=\"text-align: right;\">\n",
       "      <th></th>\n",
       "      <th>Development Name</th>\n",
       "      <th>Borough</th>\n",
       "      <th>Account Name</th>\n",
       "      <th>Location</th>\n",
       "      <th>Meter AMR</th>\n",
       "      <th>Meter Scope</th>\n",
       "      <th>TDS #</th>\n",
       "      <th>EDP</th>\n",
       "      <th>RC Code</th>\n",
       "      <th>Funding Source</th>\n",
       "      <th>...</th>\n",
       "      <th>Meter Number</th>\n",
       "      <th>Estimated</th>\n",
       "      <th>Current Charges</th>\n",
       "      <th>Rate Class</th>\n",
       "      <th>Bill Analyzed</th>\n",
       "      <th>Consumption (KWH)</th>\n",
       "      <th>KWH Charges</th>\n",
       "      <th>Consumption (KW)</th>\n",
       "      <th>KW Charges</th>\n",
       "      <th>Other charges</th>\n",
       "    </tr>\n",
       "  </thead>\n",
       "  <tbody>\n",
       "    <tr>\n",
       "      <th>0</th>\n",
       "      <td>ADAMS</td>\n",
       "      <td>BRONX</td>\n",
       "      <td>ADAMS</td>\n",
       "      <td>BLD 05</td>\n",
       "      <td>NONE</td>\n",
       "      <td>BLD 01 to 07</td>\n",
       "      <td>118.0</td>\n",
       "      <td>248</td>\n",
       "      <td>B011800</td>\n",
       "      <td>FEDERAL</td>\n",
       "      <td>...</td>\n",
       "      <td>7223256</td>\n",
       "      <td>N</td>\n",
       "      <td>15396.82</td>\n",
       "      <td>GOV/NYC/068</td>\n",
       "      <td>Yes</td>\n",
       "      <td>128800.0</td>\n",
       "      <td>7387.97</td>\n",
       "      <td>216.0</td>\n",
       "      <td>2808.0</td>\n",
       "      <td>5200.85</td>\n",
       "    </tr>\n",
       "    <tr>\n",
       "      <th>1</th>\n",
       "      <td>ADAMS</td>\n",
       "      <td>BRONX</td>\n",
       "      <td>ADAMS</td>\n",
       "      <td>BLD 05</td>\n",
       "      <td>NONE</td>\n",
       "      <td>BLD 01 to 07</td>\n",
       "      <td>118.0</td>\n",
       "      <td>248</td>\n",
       "      <td>B011800</td>\n",
       "      <td>FEDERAL</td>\n",
       "      <td>...</td>\n",
       "      <td>7223256</td>\n",
       "      <td>N</td>\n",
       "      <td>14556.34</td>\n",
       "      <td>GOV/NYC/068</td>\n",
       "      <td>Yes</td>\n",
       "      <td>115200.0</td>\n",
       "      <td>6607.87</td>\n",
       "      <td>224.0</td>\n",
       "      <td>2912.0</td>\n",
       "      <td>5036.47</td>\n",
       "    </tr>\n",
       "    <tr>\n",
       "      <th>2</th>\n",
       "      <td>ADAMS</td>\n",
       "      <td>BRONX</td>\n",
       "      <td>ADAMS</td>\n",
       "      <td>BLD 05</td>\n",
       "      <td>NONE</td>\n",
       "      <td>BLD 01 to 07</td>\n",
       "      <td>118.0</td>\n",
       "      <td>248</td>\n",
       "      <td>B011800</td>\n",
       "      <td>FEDERAL</td>\n",
       "      <td>...</td>\n",
       "      <td>7223256</td>\n",
       "      <td>N</td>\n",
       "      <td>13904.98</td>\n",
       "      <td>GOV/NYC/068</td>\n",
       "      <td>Yes</td>\n",
       "      <td>103200.0</td>\n",
       "      <td>5919.55</td>\n",
       "      <td>216.0</td>\n",
       "      <td>2808.0</td>\n",
       "      <td>5177.43</td>\n",
       "    </tr>\n",
       "    <tr>\n",
       "      <th>3</th>\n",
       "      <td>ADAMS</td>\n",
       "      <td>BRONX</td>\n",
       "      <td>ADAMS</td>\n",
       "      <td>BLD 05</td>\n",
       "      <td>NONE</td>\n",
       "      <td>BLD 01 to 07</td>\n",
       "      <td>118.0</td>\n",
       "      <td>248</td>\n",
       "      <td>B011800</td>\n",
       "      <td>FEDERAL</td>\n",
       "      <td>...</td>\n",
       "      <td>7223256</td>\n",
       "      <td>N</td>\n",
       "      <td>14764.04</td>\n",
       "      <td>GOV/NYC/068</td>\n",
       "      <td>Yes</td>\n",
       "      <td>105600.0</td>\n",
       "      <td>6057.22</td>\n",
       "      <td>208.0</td>\n",
       "      <td>2704.0</td>\n",
       "      <td>6002.82</td>\n",
       "    </tr>\n",
       "    <tr>\n",
       "      <th>4</th>\n",
       "      <td>ADAMS</td>\n",
       "      <td>BRONX</td>\n",
       "      <td>ADAMS</td>\n",
       "      <td>BLD 05</td>\n",
       "      <td>NONE</td>\n",
       "      <td>BLD 01 to 07</td>\n",
       "      <td>118.0</td>\n",
       "      <td>248</td>\n",
       "      <td>B011800</td>\n",
       "      <td>FEDERAL</td>\n",
       "      <td>...</td>\n",
       "      <td>7223256</td>\n",
       "      <td>N</td>\n",
       "      <td>13729.54</td>\n",
       "      <td>GOV/NYC/068</td>\n",
       "      <td>Yes</td>\n",
       "      <td>97600.0</td>\n",
       "      <td>5598.34</td>\n",
       "      <td>216.0</td>\n",
       "      <td>2808.0</td>\n",
       "      <td>5323.20</td>\n",
       "    </tr>\n",
       "  </tbody>\n",
       "</table>\n",
       "<p>5 rows × 27 columns</p>\n",
       "</div>"
      ],
      "text/plain": [
       "  Development Name Borough Account Name Location Meter AMR   Meter Scope  \\\n",
       "0            ADAMS   BRONX        ADAMS   BLD 05      NONE  BLD 01 to 07   \n",
       "1            ADAMS   BRONX        ADAMS   BLD 05      NONE  BLD 01 to 07   \n",
       "2            ADAMS   BRONX        ADAMS   BLD 05      NONE  BLD 01 to 07   \n",
       "3            ADAMS   BRONX        ADAMS   BLD 05      NONE  BLD 01 to 07   \n",
       "4            ADAMS   BRONX        ADAMS   BLD 05      NONE  BLD 01 to 07   \n",
       "\n",
       "   TDS #  EDP  RC Code Funding Source  ... Meter Number Estimated  \\\n",
       "0  118.0  248  B011800        FEDERAL  ...      7223256         N   \n",
       "1  118.0  248  B011800        FEDERAL  ...      7223256         N   \n",
       "2  118.0  248  B011800        FEDERAL  ...      7223256         N   \n",
       "3  118.0  248  B011800        FEDERAL  ...      7223256         N   \n",
       "4  118.0  248  B011800        FEDERAL  ...      7223256         N   \n",
       "\n",
       "   Current Charges   Rate Class Bill Analyzed Consumption (KWH)  KWH Charges  \\\n",
       "0         15396.82  GOV/NYC/068           Yes          128800.0      7387.97   \n",
       "1         14556.34  GOV/NYC/068           Yes          115200.0      6607.87   \n",
       "2         13904.98  GOV/NYC/068           Yes          103200.0      5919.55   \n",
       "3         14764.04  GOV/NYC/068           Yes          105600.0      6057.22   \n",
       "4         13729.54  GOV/NYC/068           Yes           97600.0      5598.34   \n",
       "\n",
       "  Consumption (KW) KW Charges  Other charges  \n",
       "0            216.0     2808.0        5200.85  \n",
       "1            224.0     2912.0        5036.47  \n",
       "2            216.0     2808.0        5177.43  \n",
       "3            208.0     2704.0        6002.82  \n",
       "4            216.0     2808.0        5323.20  \n",
       "\n",
       "[5 rows x 27 columns]"
      ]
     },
     "execution_count": 18,
     "metadata": {},
     "output_type": "execute_result"
    }
   ],
   "source": [
    "data = pd.read_csv('Electric_Consumption_And_Cost.csv')\n",
    "data.head()"
   ]
  },
  {
   "cell_type": "code",
   "execution_count": 19,
   "metadata": {},
   "outputs": [
    {
     "name": "stdout",
     "output_type": "stream",
     "text": [
      "<class 'pandas.core.frame.DataFrame'>\n",
      "RangeIndex: 447849 entries, 0 to 447848\n",
      "Data columns (total 27 columns):\n",
      " #   Column              Non-Null Count   Dtype  \n",
      "---  ------              --------------   -----  \n",
      " 0   Development Name    446368 non-null  object \n",
      " 1   Borough             447849 non-null  object \n",
      " 2   Account Name        447849 non-null  object \n",
      " 3   Location            436128 non-null  object \n",
      " 4   Meter AMR           447622 non-null  object \n",
      " 5   Meter Scope         23867 non-null   object \n",
      " 6   TDS #               445111 non-null  float64\n",
      " 7   EDP                 447849 non-null  int64  \n",
      " 8   RC Code             447849 non-null  object \n",
      " 9   Funding Source      447849 non-null  object \n",
      " 10  AMP #               445962 non-null  object \n",
      " 11  Vendor Name         447849 non-null  object \n",
      " 12  UMIS BILL ID        447849 non-null  int64  \n",
      " 13  Revenue Month       447849 non-null  object \n",
      " 14  Service Start Date  447841 non-null  object \n",
      " 15  Service End Date    447841 non-null  object \n",
      " 16  # days              447841 non-null  float64\n",
      " 17  Meter Number        447849 non-null  object \n",
      " 18  Estimated           447507 non-null  object \n",
      " 19  Current Charges     447849 non-null  float64\n",
      " 20  Rate Class          447849 non-null  object \n",
      " 21  Bill Analyzed       447849 non-null  object \n",
      " 22  Consumption (KWH)   447849 non-null  float64\n",
      " 23  KWH Charges         447849 non-null  float64\n",
      " 24  Consumption (KW)    447849 non-null  float64\n",
      " 25  KW Charges          447849 non-null  float64\n",
      " 26  Other charges       447849 non-null  float64\n",
      "dtypes: float64(8), int64(2), object(17)\n",
      "memory usage: 92.3+ MB\n"
     ]
    }
   ],
   "source": [
    "data.info()"
   ]
  },
  {
   "cell_type": "code",
   "execution_count": 20,
   "metadata": {},
   "outputs": [
    {
     "data": {
      "text/plain": [
       "(447849, 27)"
      ]
     },
     "execution_count": 20,
     "metadata": {},
     "output_type": "execute_result"
    }
   ],
   "source": [
    "data.shape"
   ]
  },
  {
   "cell_type": "code",
   "execution_count": 22,
   "metadata": {},
   "outputs": [
    {
     "data": {
      "image/png": "[encoded data removed]",
      "text/plain": [
       "<Figure size 640x480 with 2 Axes>"
      ]
     },
     "metadata": {},
     "output_type": "display_data"
    }
   ],
   "source": [
    "sns.heatmap(data.corr(), annot=True)\n",
    "plt.show()"
   ]
  },
  {
   "cell_type": "code",
   "execution_count": 25,
   "metadata": {},
   "outputs": [
    {
     "name": "stdout",
     "output_type": "stream",
     "text": [
      "Index(['Development Name', 'Borough', 'Account Name', 'Location', 'Meter AMR',\n",
      "       'Meter Scope', 'TDS #', 'EDP', 'RC Code', 'Funding Source', 'AMP #',\n",
      "       'Vendor Name', 'UMIS BILL ID', 'Revenue Month', 'Service Start Date',\n",
      "       'Service End Date', '# days', 'Meter Number', 'Estimated',\n",
      "       'Current Charges', 'Rate Class', 'Bill Analyzed', 'Consumption (KWH)',\n",
      "       'KWH Charges', 'Consumption (KW)', 'KW Charges', 'Other charges'],\n",
      "      dtype='object')\n"
     ]
    }
   ],
   "source": [
    "print(data.columns)\n"
   ]
  },
  {
   "cell_type": "code",
   "execution_count": 26,
   "metadata": {},
   "outputs": [],
   "source": [
    "df = data[['Service Start Date', '# days', 'Service End Date', 'Consumption (KWH)']]\n"
   ]
  },
  {
   "cell_type": "code",
   "execution_count": 27,
   "metadata": {},
   "outputs": [
    {
     "data": {
      "text/html": [
       "<div>\n",
       "<style scoped>\n",
       "    .dataframe tbody tr th:only-of-type {\n",
       "        vertical-align: middle;\n",
       "    }\n",
       "\n",
       "    .dataframe tbody tr th {\n",
       "        vertical-align: top;\n",
       "    }\n",
       "\n",
       "    .dataframe thead th {\n",
       "        text-align: right;\n",
       "    }\n",
       "</style>\n",
       "<table border=\"1\" class=\"dataframe\">\n",
       "  <thead>\n",
       "    <tr style=\"text-align: right;\">\n",
       "      <th></th>\n",
       "      <th>Service Start Date</th>\n",
       "      <th># days</th>\n",
       "      <th>Service End Date</th>\n",
       "      <th>Consumption (KWH)</th>\n",
       "    </tr>\n",
       "  </thead>\n",
       "  <tbody>\n",
       "    <tr>\n",
       "      <th>0</th>\n",
       "      <td>12/24/2009</td>\n",
       "      <td>33.0</td>\n",
       "      <td>01/26/2010</td>\n",
       "      <td>128800.0</td>\n",
       "    </tr>\n",
       "    <tr>\n",
       "      <th>1</th>\n",
       "      <td>01/26/2010</td>\n",
       "      <td>30.0</td>\n",
       "      <td>02/25/2010</td>\n",
       "      <td>115200.0</td>\n",
       "    </tr>\n",
       "    <tr>\n",
       "      <th>2</th>\n",
       "      <td>02/25/2010</td>\n",
       "      <td>29.0</td>\n",
       "      <td>03/26/2010</td>\n",
       "      <td>103200.0</td>\n",
       "    </tr>\n",
       "    <tr>\n",
       "      <th>3</th>\n",
       "      <td>03/26/2010</td>\n",
       "      <td>31.0</td>\n",
       "      <td>04/26/2010</td>\n",
       "      <td>105600.0</td>\n",
       "    </tr>\n",
       "    <tr>\n",
       "      <th>4</th>\n",
       "      <td>04/26/2010</td>\n",
       "      <td>28.0</td>\n",
       "      <td>05/24/2010</td>\n",
       "      <td>97600.0</td>\n",
       "    </tr>\n",
       "    <tr>\n",
       "      <th>...</th>\n",
       "      <td>...</td>\n",
       "      <td>...</td>\n",
       "      <td>...</td>\n",
       "      <td>...</td>\n",
       "    </tr>\n",
       "    <tr>\n",
       "      <th>447844</th>\n",
       "      <td>12/23/2022</td>\n",
       "      <td>33.0</td>\n",
       "      <td>01/25/2023</td>\n",
       "      <td>0.0</td>\n",
       "    </tr>\n",
       "    <tr>\n",
       "      <th>447845</th>\n",
       "      <td>12/23/2022</td>\n",
       "      <td>33.0</td>\n",
       "      <td>01/25/2023</td>\n",
       "      <td>0.0</td>\n",
       "    </tr>\n",
       "    <tr>\n",
       "      <th>447846</th>\n",
       "      <td>12/23/2022</td>\n",
       "      <td>33.0</td>\n",
       "      <td>01/25/2023</td>\n",
       "      <td>82800.0</td>\n",
       "    </tr>\n",
       "    <tr>\n",
       "      <th>447847</th>\n",
       "      <td>12/23/2022</td>\n",
       "      <td>33.0</td>\n",
       "      <td>01/25/2023</td>\n",
       "      <td>90400.0</td>\n",
       "    </tr>\n",
       "    <tr>\n",
       "      <th>447848</th>\n",
       "      <td>12/23/2022</td>\n",
       "      <td>33.0</td>\n",
       "      <td>01/25/2023</td>\n",
       "      <td>98400.0</td>\n",
       "    </tr>\n",
       "  </tbody>\n",
       "</table>\n",
       "<p>447849 rows × 4 columns</p>\n",
       "</div>"
      ],
      "text/plain": [
       "       Service Start Date  # days Service End Date  Consumption (KWH)\n",
       "0              12/24/2009    33.0       01/26/2010           128800.0\n",
       "1              01/26/2010    30.0       02/25/2010           115200.0\n",
       "2              02/25/2010    29.0       03/26/2010           103200.0\n",
       "3              03/26/2010    31.0       04/26/2010           105600.0\n",
       "4              04/26/2010    28.0       05/24/2010            97600.0\n",
       "...                   ...     ...              ...                ...\n",
       "447844         12/23/2022    33.0       01/25/2023                0.0\n",
       "447845         12/23/2022    33.0       01/25/2023                0.0\n",
       "447846         12/23/2022    33.0       01/25/2023            82800.0\n",
       "447847         12/23/2022    33.0       01/25/2023            90400.0\n",
       "447848         12/23/2022    33.0       01/25/2023            98400.0\n",
       "\n",
       "[447849 rows x 4 columns]"
      ]
     },
     "execution_count": 27,
     "metadata": {},
     "output_type": "execute_result"
    }
   ],
   "source": [
    "df"
   ]
  },
  {
   "cell_type": "code",
   "execution_count": 28,
   "metadata": {},
   "outputs": [
    {
     "data": {
      "text/plain": [
       "Service Start Date    8\n",
       "# days                8\n",
       "Service End Date      8\n",
       "Consumption (KWH)     0\n",
       "dtype: int64"
      ]
     },
     "execution_count": 28,
     "metadata": {},
     "output_type": "execute_result"
    }
   ],
   "source": [
    "df.isnull().sum()"
   ]
  },
  {
   "cell_type": "code",
   "execution_count": 30,
   "metadata": {},
   "outputs": [
    {
     "name": "stderr",
     "output_type": "stream",
     "text": [
      "\n",
      "A value is trying to be set on a copy of a slice from a DataFrame\n",
      "\n",
      "See the caveats in the documentation: https://pandas.pydata.org/pandas-docs/stable/user_guide/indexing.html#returning-a-view-versus-a-copy\n"
     ]
    }
   ],
   "source": [
    "df.dropna(inplace=True)\n"
   ]
  },
  {
   "cell_type": "code",
   "execution_count": 31,
   "metadata": {
    "collapsed": true
   },
   "outputs": [
    {
     "data": {
      "text/plain": [
       "Service Start Date    0\n",
       "# days                0\n",
       "Service End Date      0\n",
       "Consumption (KWH)     0\n",
       "dtype: int64"
      ]
     },
     "execution_count": 31,
     "metadata": {},
     "output_type": "execute_result"
    }
   ],
   "source": [
    "df.isnull().sum()"
   ]
  },
  {
   "cell_type": "code",
   "execution_count": 32,
   "metadata": {},
   "outputs": [
    {
     "data": {
      "text/plain": [
       "(447841, 4)"
      ]
     },
     "execution_count": 32,
     "metadata": {},
     "output_type": "execute_result"
    }
   ],
   "source": [
    "df.shape"
   ]
  },
  {
   "cell_type": "code",
   "execution_count": 33,
   "metadata": {},
   "outputs": [
    {
     "name": "stderr",
     "output_type": "stream",
     "text": [
      "\n",
      "A value is trying to be set on a copy of a slice from a DataFrame.\n",
      "Try using .loc[row_indexer,col_indexer] = value instead\n",
      "\n",
      "See the caveats in the documentation: https://pandas.pydata.org/pandas-docs/stable/user_guide/indexing.html#returning-a-view-versus-a-copy\n",
      "\n",
      "A value is trying to be set on a copy of a slice from a DataFrame.\n",
      "Try using .loc[row_indexer,col_indexer] = value instead\n",
      "\n",
      "See the caveats in the documentation: https://pandas.pydata.org/pandas-docs/stable/user_guide/indexing.html#returning-a-view-versus-a-copy\n"
     ]
    }
   ],
   "source": [
    "#converting the date fields from object to datetime dtype\n",
    "df['Serviced Start Date']= pd.to_datetime(df['Service Start Date'])\n",
    "df['Service End Date'] = pd.to_datetime(df['Service End Date'])"
   ]
  },
  {
   "cell_type": "code",
   "execution_count": 34,
   "metadata": {},
   "outputs": [
    {
     "data": {
      "text/plain": [
       "Service Start Date             object\n",
       "# days                        float64\n",
       "Service End Date       datetime64[ns]\n",
       "Consumption (KWH)             float64\n",
       "Serviced Start Date    datetime64[ns]\n",
       "dtype: object"
      ]
     },
     "execution_count": 34,
     "metadata": {},
     "output_type": "execute_result"
    }
   ],
   "source": [
    "df.dtypes"
   ]
  },
  {
   "cell_type": "code",
   "execution_count": null,
   "metadata": {},
   "outputs": [],
   "source": [
    "#Finding outliers in #days and deleting those records from the data"
   ]
  },
  {
   "cell_type": "code",
   "execution_count": 37,
   "metadata": {},
   "outputs": [
    {
     "data": {
      "image/png": "[encoded data removed]",
      "text/plain": [
       "<Figure size 640x480 with 1 Axes>"
      ]
     },
     "metadata": {},
     "output_type": "display_data"
    }
   ],
   "source": [
    "sns.boxplot(x=data['# days'])\n",
    "plt.title('Box plot of number of Days per Consumption Period')\n",
    "plt.show()\n"
   ]
  },
  {
   "cell_type": "code",
   "execution_count": 41,
   "metadata": {},
   "outputs": [],
   "source": [
    "# Identify the rows where '# days' is less than 20 or greater than 33\n",
    "outlier_rows = df[(df['# days'] == 28) | (df['# days'] == 33)].index"
   ]
  },
  {
   "cell_type": "code",
   "execution_count": 43,
   "metadata": {},
   "outputs": [],
   "source": [
    "#drop these rows from the dataframe\n",
    "data_cleaned = df.drop(outlier_rows)"
   ]
  },
  {
   "cell_type": "code",
   "execution_count": null,
   "metadata": {},
   "outputs": [],
   "source": [
    "#calculate daily consumption\n",
    "data_cleaned['Daily Consumption'] = data_cleaned['Consumption (KWH)'] / data_cleaned['# days']"
   ]
  },
  {
   "cell_type": "code",
   "execution_count": 45,
   "metadata": {},
   "outputs": [],
   "source": [
    "#create a daily date range for each record \n",
    "data_cleaned['Date Range'] = data_cleaned.apply(lambda row: pd.date_range(row['Service Start Date'], row['Service End Date']), axis=1)"
   ]
  },
  {
   "cell_type": "code",
   "execution_count": 47,
   "metadata": {},
   "outputs": [],
   "source": [
    "#explode the data frame to have a row for each day\n",
    "daily_data = data_cleaned.explode('Date Range')"
   ]
  },
  {
   "cell_type": "code",
   "execution_count": 53,
   "metadata": {},
   "outputs": [
    {
     "name": "stdout",
     "output_type": "stream",
     "text": [
      "Index(['Service Start Date', '# days', 'Service End Date', 'Consumption (KWH)',\n",
      "       'Serviced Start Date', 'Date Range'],\n",
      "      dtype='object')\n"
     ]
    }
   ],
   "source": [
    "# Print columns after renaming\n",
    "print(daily_data.columns)\n"
   ]
  },
  {
   "cell_type": "code",
   "execution_count": 54,
   "metadata": {},
   "outputs": [],
   "source": [
    "# Assuming 'daily_data' is your DataFrame\n",
    "daily_data['Daily Consumption'] = daily_data.apply(lambda row: row['Consumption (KWH)'] / row['# days'], axis=1)\n",
    "\n",
    "# Rename and select relevant columns\n",
    "daily_data = daily_data.rename(columns={'Date Range': 'Each Date'})[['Each Date', 'Daily Consumption']]\n"
   ]
  },
  {
   "cell_type": "code",
   "execution_count": 55,
   "metadata": {},
   "outputs": [
    {
     "name": "stdout",
     "output_type": "stream",
     "text": [
      "        Each Date  Daily Consumption\n",
      "1      2010-01-26        3840.000000\n",
      "1      2010-01-27        3840.000000\n",
      "1      2010-01-28        3840.000000\n",
      "1      2010-01-29        3840.000000\n",
      "1      2010-01-30        3840.000000\n",
      "...           ...                ...\n",
      "447842 2022-12-19        3032.258065\n",
      "447842 2022-12-20        3032.258065\n",
      "447842 2022-12-21        3032.258065\n",
      "447842 2022-12-22        3032.258065\n",
      "447842 2022-12-23        3032.258065\n",
      "\n",
      "[12425619 rows x 2 columns]\n"
     ]
    }
   ],
   "source": [
    "#display the new dataframe\n",
    "print(daily_data)"
   ]
  },
  {
   "cell_type": "code",
   "execution_count": 56,
   "metadata": {},
   "outputs": [
    {
     "data": {
      "text/plain": [
       "Timestamp('2023-12-23 00:00:00')"
      ]
     },
     "execution_count": 56,
     "metadata": {},
     "output_type": "execute_result"
    }
   ],
   "source": [
    "daily_data['Each Date'].max()"
   ]
  },
  {
   "cell_type": "code",
   "execution_count": 57,
   "metadata": {},
   "outputs": [
    {
     "data": {
      "text/plain": [
       "2021-01-26    13583\n",
       "2020-03-25    13510\n",
       "2020-02-25    13490\n",
       "2020-01-24    13478\n",
       "2021-02-25    10183\n",
       "              ...  \n",
       "2011-01-05        1\n",
       "2011-01-06        1\n",
       "2011-01-07        1\n",
       "2011-01-08        1\n",
       "2011-01-02        1\n",
       "Name: Each Date, Length: 4437, dtype: int64"
      ]
     },
     "execution_count": 57,
     "metadata": {},
     "output_type": "execute_result"
    }
   ],
   "source": [
    "daily_data['Each Date'].value_counts()"
   ]
  },
  {
   "cell_type": "code",
   "execution_count": 61,
   "metadata": {},
   "outputs": [
    {
     "data": {
      "text/html": [
       "<div>\n",
       "<style scoped>\n",
       "    .dataframe tbody tr th:only-of-type {\n",
       "        vertical-align: middle;\n",
       "    }\n",
       "\n",
       "    .dataframe tbody tr th {\n",
       "        vertical-align: top;\n",
       "    }\n",
       "\n",
       "    .dataframe thead th {\n",
       "        text-align: right;\n",
       "    }\n",
       "</style>\n",
       "<table border=\"1\" class=\"dataframe\">\n",
       "  <thead>\n",
       "    <tr style=\"text-align: right;\">\n",
       "      <th></th>\n",
       "      <th>Daily Consumption</th>\n",
       "    </tr>\n",
       "    <tr>\n",
       "      <th>Each Date</th>\n",
       "      <th></th>\n",
       "    </tr>\n",
       "  </thead>\n",
       "  <tbody>\n",
       "    <tr>\n",
       "      <th>2009-12-17</th>\n",
       "      <td>0.970588</td>\n",
       "    </tr>\n",
       "    <tr>\n",
       "      <th>2009-12-18</th>\n",
       "      <td>0.970588</td>\n",
       "    </tr>\n",
       "    <tr>\n",
       "      <th>2009-12-19</th>\n",
       "      <td>0.970588</td>\n",
       "    </tr>\n",
       "    <tr>\n",
       "      <th>2009-12-20</th>\n",
       "      <td>0.970588</td>\n",
       "    </tr>\n",
       "    <tr>\n",
       "      <th>2009-12-21</th>\n",
       "      <td>0.970588</td>\n",
       "    </tr>\n",
       "    <tr>\n",
       "      <th>...</th>\n",
       "      <td>...</td>\n",
       "    </tr>\n",
       "    <tr>\n",
       "      <th>2023-12-19</th>\n",
       "      <td>273.000000</td>\n",
       "    </tr>\n",
       "    <tr>\n",
       "      <th>2023-12-20</th>\n",
       "      <td>273.000000</td>\n",
       "    </tr>\n",
       "    <tr>\n",
       "      <th>2023-12-21</th>\n",
       "      <td>273.000000</td>\n",
       "    </tr>\n",
       "    <tr>\n",
       "      <th>2023-12-22</th>\n",
       "      <td>273.000000</td>\n",
       "    </tr>\n",
       "    <tr>\n",
       "      <th>2023-12-23</th>\n",
       "      <td>273.000000</td>\n",
       "    </tr>\n",
       "  </tbody>\n",
       "</table>\n",
       "<p>4437 rows × 1 columns</p>\n",
       "</div>"
      ],
      "text/plain": [
       "            Daily Consumption\n",
       "Each Date                    \n",
       "2009-12-17           0.970588\n",
       "2009-12-18           0.970588\n",
       "2009-12-19           0.970588\n",
       "2009-12-20           0.970588\n",
       "2009-12-21           0.970588\n",
       "...                       ...\n",
       "2023-12-19         273.000000\n",
       "2023-12-20         273.000000\n",
       "2023-12-21         273.000000\n",
       "2023-12-22         273.000000\n",
       "2023-12-23         273.000000\n",
       "\n",
       "[4437 rows x 1 columns]"
      ]
     },
     "execution_count": 61,
     "metadata": {},
     "output_type": "execute_result"
    }
   ],
   "source": [
    "#create the daily dataset\n",
    "daily_data_sum = daily_data.groupby('Each Date')['Daily Consumption'].sum()\n",
    "daily_data_sum = pd.DataFrame(daily_data_sum)\n",
    "daily_data_sum"
   ]
  },
  {
   "cell_type": "code",
   "execution_count": 62,
   "metadata": {},
   "outputs": [
    {
     "data": {
      "text/plain": [
       "<AxesSubplot:xlabel='Each Date'>"
      ]
     },
     "execution_count": 62,
     "metadata": {},
     "output_type": "execute_result"
    },
    {
     "data": {
      "image/png": "[encoded data removed]",
      "text/plain": [
       "<Figure size 640x480 with 1 Axes>"
      ]
     },
     "metadata": {},
     "output_type": "display_data"
    }
   ],
   "source": [
    "daily_data_sum.plot()"
   ]
  },
  {
   "cell_type": "code",
   "execution_count": 63,
   "metadata": {},
   "outputs": [],
   "source": [
    "daily_data_sum.reset_index(inplace=True)"
   ]
  },
  {
   "cell_type": "code",
   "execution_count": 66,
   "metadata": {},
   "outputs": [],
   "source": [
    "daily_data_sum = daily_data_sum.rename(columns={'Each Date':'Service Start Date','Daily Consumption':'Consumption(KWH)'})"
   ]
  },
  {
   "cell_type": "code",
   "execution_count": 75,
   "metadata": {},
   "outputs": [],
   "source": [
    "#creating daily data set with numeric features\n",
    "df = df.rename(columns={'Service Start Date':'ds','Consumption(KWH)':'y'})\n",
    "df = daily_data_sum.rename(columns={'Each Date': 'Service Start Date', 'Daily Consumption':'Consumption(KWH)'})"
   ]
  },
  {
   "cell_type": "code",
   "execution_count": 77,
   "metadata": {},
   "outputs": [
    {
     "data": {
      "text/html": [
       "<div>\n",
       "<style scoped>\n",
       "    .dataframe tbody tr th:only-of-type {\n",
       "        vertical-align: middle;\n",
       "    }\n",
       "\n",
       "    .dataframe tbody tr th {\n",
       "        vertical-align: top;\n",
       "    }\n",
       "\n",
       "    .dataframe thead th {\n",
       "        text-align: right;\n",
       "    }\n",
       "</style>\n",
       "<table border=\"1\" class=\"dataframe\">\n",
       "  <thead>\n",
       "    <tr style=\"text-align: right;\">\n",
       "      <th></th>\n",
       "      <th>Service Start Date</th>\n",
       "      <th>Consumption(KWH)</th>\n",
       "    </tr>\n",
       "  </thead>\n",
       "  <tbody>\n",
       "    <tr>\n",
       "      <th>0</th>\n",
       "      <td>2009-12-17</td>\n",
       "      <td>0.970588</td>\n",
       "    </tr>\n",
       "    <tr>\n",
       "      <th>1</th>\n",
       "      <td>2009-12-18</td>\n",
       "      <td>0.970588</td>\n",
       "    </tr>\n",
       "    <tr>\n",
       "      <th>2</th>\n",
       "      <td>2009-12-19</td>\n",
       "      <td>0.970588</td>\n",
       "    </tr>\n",
       "    <tr>\n",
       "      <th>3</th>\n",
       "      <td>2009-12-20</td>\n",
       "      <td>0.970588</td>\n",
       "    </tr>\n",
       "    <tr>\n",
       "      <th>4</th>\n",
       "      <td>2009-12-21</td>\n",
       "      <td>0.970588</td>\n",
       "    </tr>\n",
       "    <tr>\n",
       "      <th>...</th>\n",
       "      <td>...</td>\n",
       "      <td>...</td>\n",
       "    </tr>\n",
       "    <tr>\n",
       "      <th>4432</th>\n",
       "      <td>2023-12-19</td>\n",
       "      <td>273.000000</td>\n",
       "    </tr>\n",
       "    <tr>\n",
       "      <th>4433</th>\n",
       "      <td>2023-12-20</td>\n",
       "      <td>273.000000</td>\n",
       "    </tr>\n",
       "    <tr>\n",
       "      <th>4434</th>\n",
       "      <td>2023-12-21</td>\n",
       "      <td>273.000000</td>\n",
       "    </tr>\n",
       "    <tr>\n",
       "      <th>4435</th>\n",
       "      <td>2023-12-22</td>\n",
       "      <td>273.000000</td>\n",
       "    </tr>\n",
       "    <tr>\n",
       "      <th>4436</th>\n",
       "      <td>2023-12-23</td>\n",
       "      <td>273.000000</td>\n",
       "    </tr>\n",
       "  </tbody>\n",
       "</table>\n",
       "<p>4437 rows × 2 columns</p>\n",
       "</div>"
      ],
      "text/plain": [
       "     Service Start Date  Consumption(KWH)\n",
       "0            2009-12-17          0.970588\n",
       "1            2009-12-18          0.970588\n",
       "2            2009-12-19          0.970588\n",
       "3            2009-12-20          0.970588\n",
       "4            2009-12-21          0.970588\n",
       "...                 ...               ...\n",
       "4432         2023-12-19        273.000000\n",
       "4433         2023-12-20        273.000000\n",
       "4434         2023-12-21        273.000000\n",
       "4435         2023-12-22        273.000000\n",
       "4436         2023-12-23        273.000000\n",
       "\n",
       "[4437 rows x 2 columns]"
      ]
     },
     "execution_count": 77,
     "metadata": {},
     "output_type": "execute_result"
    }
   ],
   "source": [
    "df"
   ]
  },
  {
   "cell_type": "code",
   "execution_count": 79,
   "metadata": {},
   "outputs": [
    {
     "data": {
      "text/html": [
       "<div>\n",
       "<style scoped>\n",
       "    .dataframe tbody tr th:only-of-type {\n",
       "        vertical-align: middle;\n",
       "    }\n",
       "\n",
       "    .dataframe tbody tr th {\n",
       "        vertical-align: top;\n",
       "    }\n",
       "\n",
       "    .dataframe thead th {\n",
       "        text-align: right;\n",
       "    }\n",
       "</style>\n",
       "<table border=\"1\" class=\"dataframe\">\n",
       "  <thead>\n",
       "    <tr style=\"text-align: right;\">\n",
       "      <th></th>\n",
       "      <th>Service Start Date</th>\n",
       "      <th>Consumption(KWH)</th>\n",
       "    </tr>\n",
       "  </thead>\n",
       "  <tbody>\n",
       "    <tr>\n",
       "      <th>0</th>\n",
       "      <td>2009-12-17</td>\n",
       "      <td>0.970588</td>\n",
       "    </tr>\n",
       "    <tr>\n",
       "      <th>1</th>\n",
       "      <td>2009-12-18</td>\n",
       "      <td>0.970588</td>\n",
       "    </tr>\n",
       "    <tr>\n",
       "      <th>2</th>\n",
       "      <td>2009-12-19</td>\n",
       "      <td>0.970588</td>\n",
       "    </tr>\n",
       "    <tr>\n",
       "      <th>3</th>\n",
       "      <td>2009-12-20</td>\n",
       "      <td>0.970588</td>\n",
       "    </tr>\n",
       "    <tr>\n",
       "      <th>4</th>\n",
       "      <td>2009-12-21</td>\n",
       "      <td>0.970588</td>\n",
       "    </tr>\n",
       "    <tr>\n",
       "      <th>...</th>\n",
       "      <td>...</td>\n",
       "      <td>...</td>\n",
       "    </tr>\n",
       "    <tr>\n",
       "      <th>4432</th>\n",
       "      <td>2023-12-19</td>\n",
       "      <td>273.000000</td>\n",
       "    </tr>\n",
       "    <tr>\n",
       "      <th>4433</th>\n",
       "      <td>2023-12-20</td>\n",
       "      <td>273.000000</td>\n",
       "    </tr>\n",
       "    <tr>\n",
       "      <th>4434</th>\n",
       "      <td>2023-12-21</td>\n",
       "      <td>273.000000</td>\n",
       "    </tr>\n",
       "    <tr>\n",
       "      <th>4435</th>\n",
       "      <td>2023-12-22</td>\n",
       "      <td>273.000000</td>\n",
       "    </tr>\n",
       "    <tr>\n",
       "      <th>4436</th>\n",
       "      <td>2023-12-23</td>\n",
       "      <td>273.000000</td>\n",
       "    </tr>\n",
       "  </tbody>\n",
       "</table>\n",
       "<p>4437 rows × 2 columns</p>\n",
       "</div>"
      ],
      "text/plain": [
       "     Service Start Date  Consumption(KWH)\n",
       "0            2009-12-17          0.970588\n",
       "1            2009-12-18          0.970588\n",
       "2            2009-12-19          0.970588\n",
       "3            2009-12-20          0.970588\n",
       "4            2009-12-21          0.970588\n",
       "...                 ...               ...\n",
       "4432         2023-12-19        273.000000\n",
       "4433         2023-12-20        273.000000\n",
       "4434         2023-12-21        273.000000\n",
       "4435         2023-12-22        273.000000\n",
       "4436         2023-12-23        273.000000\n",
       "\n",
       "[4437 rows x 2 columns]"
      ]
     },
     "execution_count": 79,
     "metadata": {},
     "output_type": "execute_result"
    }
   ],
   "source": [
    "#creating dataset for adding external factor\n",
    "df_temp = daily_data_sum.rename(columns={'Each Date': 'Service Start Date','Daily Consumption':'Consumption (KWH)'})\n",
    "df_temp"
   ]
  },
  {
   "cell_type": "code",
   "execution_count": 80,
   "metadata": {},
   "outputs": [],
   "source": [
    "daily_data_sum.set_index('Service Start Date', inplace = True)"
   ]
  },
  {
   "cell_type": "code",
   "execution_count": 81,
   "metadata": {},
   "outputs": [],
   "source": [
    "#creating Monthly Dataset\n",
    "#group by month and calculate the sum\n",
    "monthly_data = daily_data_sum.resample('M').sum()"
   ]
  },
  {
   "cell_type": "code",
   "execution_count": 84,
   "metadata": {},
   "outputs": [],
   "source": [
    "#format the index to keep only the year and month\n",
    "monthly_data.index = monthly_data.index.strftime('%Y-%m')"
   ]
  },
  {
   "cell_type": "code",
   "execution_count": 86,
   "metadata": {},
   "outputs": [
    {
     "data": {
      "text/plain": [
       "<AxesSubplot:xlabel='Service Start Date'>"
      ]
     },
     "execution_count": 86,
     "metadata": {},
     "output_type": "execute_result"
    },
    {
     "data": {
      "image/png": "[encoded data removed]",
      "text/plain": [
       "<Figure size 2000x1000 with 1 Axes>"
      ]
     },
     "metadata": {},
     "output_type": "display_data"
    }
   ],
   "source": [
    "monthly_data.plot(figsize=(20,10))"
   ]
  },
  {
   "cell_type": "code",
   "execution_count": 87,
   "metadata": {},
   "outputs": [
    {
     "data": {
      "text/html": [
       "<div>\n",
       "<style scoped>\n",
       "    .dataframe tbody tr th:only-of-type {\n",
       "        vertical-align: middle;\n",
       "    }\n",
       "\n",
       "    .dataframe tbody tr th {\n",
       "        vertical-align: top;\n",
       "    }\n",
       "\n",
       "    .dataframe thead th {\n",
       "        text-align: right;\n",
       "    }\n",
       "</style>\n",
       "<table border=\"1\" class=\"dataframe\">\n",
       "  <thead>\n",
       "    <tr style=\"text-align: right;\">\n",
       "      <th></th>\n",
       "      <th>Consumption(KWH)</th>\n",
       "    </tr>\n",
       "    <tr>\n",
       "      <th>Service Start Date</th>\n",
       "      <th></th>\n",
       "    </tr>\n",
       "  </thead>\n",
       "  <tbody>\n",
       "    <tr>\n",
       "      <th>2009-12</th>\n",
       "      <td>3.621596e+05</td>\n",
       "    </tr>\n",
       "    <tr>\n",
       "      <th>2010-01</th>\n",
       "      <td>1.925583e+07</td>\n",
       "    </tr>\n",
       "    <tr>\n",
       "      <th>2010-02</th>\n",
       "      <td>8.812384e+07</td>\n",
       "    </tr>\n",
       "    <tr>\n",
       "      <th>2010-03</th>\n",
       "      <td>9.615110e+07</td>\n",
       "    </tr>\n",
       "    <tr>\n",
       "      <th>2010-04</th>\n",
       "      <td>7.372609e+07</td>\n",
       "    </tr>\n",
       "    <tr>\n",
       "      <th>...</th>\n",
       "      <td>...</td>\n",
       "    </tr>\n",
       "    <tr>\n",
       "      <th>2023-08</th>\n",
       "      <td>8.463000e+03</td>\n",
       "    </tr>\n",
       "    <tr>\n",
       "      <th>2023-09</th>\n",
       "      <td>8.190000e+03</td>\n",
       "    </tr>\n",
       "    <tr>\n",
       "      <th>2023-10</th>\n",
       "      <td>8.463000e+03</td>\n",
       "    </tr>\n",
       "    <tr>\n",
       "      <th>2023-11</th>\n",
       "      <td>8.190000e+03</td>\n",
       "    </tr>\n",
       "    <tr>\n",
       "      <th>2023-12</th>\n",
       "      <td>6.279000e+03</td>\n",
       "    </tr>\n",
       "  </tbody>\n",
       "</table>\n",
       "<p>169 rows × 1 columns</p>\n",
       "</div>"
      ],
      "text/plain": [
       "                    Consumption(KWH)\n",
       "Service Start Date                  \n",
       "2009-12                 3.621596e+05\n",
       "2010-01                 1.925583e+07\n",
       "2010-02                 8.812384e+07\n",
       "2010-03                 9.615110e+07\n",
       "2010-04                 7.372609e+07\n",
       "...                              ...\n",
       "2023-08                 8.463000e+03\n",
       "2023-09                 8.190000e+03\n",
       "2023-10                 8.463000e+03\n",
       "2023-11                 8.190000e+03\n",
       "2023-12                 6.279000e+03\n",
       "\n",
       "[169 rows x 1 columns]"
      ]
     },
     "execution_count": 87,
     "metadata": {},
     "output_type": "execute_result"
    }
   ],
   "source": [
    "monthly_data"
   ]
  },
  {
   "cell_type": "code",
   "execution_count": 89,
   "metadata": {},
   "outputs": [],
   "source": [
    "#creating Yearly Dataset\n",
    "#group by year and calculate the sum\n",
    "yearly_data = daily_data_sum.resample('Y').sum()"
   ]
  },
  {
   "cell_type": "code",
   "execution_count": 90,
   "metadata": {},
   "outputs": [],
   "source": [
    "#format the index to keep only the year\n",
    "yearly_data.index = yearly_data.index.strftime('%Y')"
   ]
  },
  {
   "cell_type": "code",
   "execution_count": 91,
   "metadata": {},
   "outputs": [
    {
     "data": {
      "text/html": [
       "<div>\n",
       "<style scoped>\n",
       "    .dataframe tbody tr th:only-of-type {\n",
       "        vertical-align: middle;\n",
       "    }\n",
       "\n",
       "    .dataframe tbody tr th {\n",
       "        vertical-align: top;\n",
       "    }\n",
       "\n",
       "    .dataframe thead th {\n",
       "        text-align: right;\n",
       "    }\n",
       "</style>\n",
       "<table border=\"1\" class=\"dataframe\">\n",
       "  <thead>\n",
       "    <tr style=\"text-align: right;\">\n",
       "      <th></th>\n",
       "      <th>Consumption(KWH)</th>\n",
       "    </tr>\n",
       "    <tr>\n",
       "      <th>Service Start Date</th>\n",
       "      <th></th>\n",
       "    </tr>\n",
       "  </thead>\n",
       "  <tbody>\n",
       "    <tr>\n",
       "      <th>2009</th>\n",
       "      <td>3.621596e+05</td>\n",
       "    </tr>\n",
       "    <tr>\n",
       "      <th>2010</th>\n",
       "      <td>1.144945e+09</td>\n",
       "    </tr>\n",
       "    <tr>\n",
       "      <th>2011</th>\n",
       "      <td>4.300726e+05</td>\n",
       "    </tr>\n",
       "    <tr>\n",
       "      <th>2012</th>\n",
       "      <td>1.138230e+09</td>\n",
       "    </tr>\n",
       "    <tr>\n",
       "      <th>2013</th>\n",
       "      <td>1.195232e+09</td>\n",
       "    </tr>\n",
       "    <tr>\n",
       "      <th>2014</th>\n",
       "      <td>1.131948e+09</td>\n",
       "    </tr>\n",
       "    <tr>\n",
       "      <th>2015</th>\n",
       "      <td>1.177361e+09</td>\n",
       "    </tr>\n",
       "    <tr>\n",
       "      <th>2016</th>\n",
       "      <td>1.193828e+09</td>\n",
       "    </tr>\n",
       "    <tr>\n",
       "      <th>2017</th>\n",
       "      <td>9.979534e+08</td>\n",
       "    </tr>\n",
       "    <tr>\n",
       "      <th>2018</th>\n",
       "      <td>2.199994e+07</td>\n",
       "    </tr>\n",
       "    <tr>\n",
       "      <th>2019</th>\n",
       "      <td>1.056271e+09</td>\n",
       "    </tr>\n",
       "    <tr>\n",
       "      <th>2020</th>\n",
       "      <td>1.497022e+09</td>\n",
       "    </tr>\n",
       "    <tr>\n",
       "      <th>2021</th>\n",
       "      <td>1.255433e+09</td>\n",
       "    </tr>\n",
       "    <tr>\n",
       "      <th>2022</th>\n",
       "      <td>1.029778e+09</td>\n",
       "    </tr>\n",
       "    <tr>\n",
       "      <th>2023</th>\n",
       "      <td>1.306795e+06</td>\n",
       "    </tr>\n",
       "  </tbody>\n",
       "</table>\n",
       "</div>"
      ],
      "text/plain": [
       "                    Consumption(KWH)\n",
       "Service Start Date                  \n",
       "2009                    3.621596e+05\n",
       "2010                    1.144945e+09\n",
       "2011                    4.300726e+05\n",
       "2012                    1.138230e+09\n",
       "2013                    1.195232e+09\n",
       "2014                    1.131948e+09\n",
       "2015                    1.177361e+09\n",
       "2016                    1.193828e+09\n",
       "2017                    9.979534e+08\n",
       "2018                    2.199994e+07\n",
       "2019                    1.056271e+09\n",
       "2020                    1.497022e+09\n",
       "2021                    1.255433e+09\n",
       "2022                    1.029778e+09\n",
       "2023                    1.306795e+06"
      ]
     },
     "execution_count": 91,
     "metadata": {},
     "output_type": "execute_result"
    }
   ],
   "source": [
    "yearly_data"
   ]
  },
  {
   "cell_type": "code",
   "execution_count": 92,
   "metadata": {},
   "outputs": [
    {
     "data": {
      "text/plain": [
       "<AxesSubplot:xlabel='Service Start Date'>"
      ]
     },
     "execution_count": 92,
     "metadata": {},
     "output_type": "execute_result"
    },
    {
     "data": {
      "image/png": "[encoded data removed]",
      "text/plain": [
       "<Figure size 640x480 with 1 Axes>"
      ]
     },
     "metadata": {},
     "output_type": "display_data"
    }
   ],
   "source": [
    "yearly_data.plot()"
   ]
  },
  {
   "cell_type": "code",
   "execution_count": 93,
   "metadata": {},
   "outputs": [
    {
     "data": {
      "text/html": [
       "<div>\n",
       "<style scoped>\n",
       "    .dataframe tbody tr th:only-of-type {\n",
       "        vertical-align: middle;\n",
       "    }\n",
       "\n",
       "    .dataframe tbody tr th {\n",
       "        vertical-align: top;\n",
       "    }\n",
       "\n",
       "    .dataframe thead th {\n",
       "        text-align: right;\n",
       "    }\n",
       "</style>\n",
       "<table border=\"1\" class=\"dataframe\">\n",
       "  <thead>\n",
       "    <tr style=\"text-align: right;\">\n",
       "      <th></th>\n",
       "      <th>Consumption(KWH)</th>\n",
       "    </tr>\n",
       "    <tr>\n",
       "      <th>Service Start Date</th>\n",
       "      <th></th>\n",
       "    </tr>\n",
       "  </thead>\n",
       "  <tbody>\n",
       "    <tr>\n",
       "      <th>2009-12-17</th>\n",
       "      <td>0.970588</td>\n",
       "    </tr>\n",
       "    <tr>\n",
       "      <th>2009-12-18</th>\n",
       "      <td>0.970588</td>\n",
       "    </tr>\n",
       "    <tr>\n",
       "      <th>2009-12-19</th>\n",
       "      <td>0.970588</td>\n",
       "    </tr>\n",
       "    <tr>\n",
       "      <th>2009-12-20</th>\n",
       "      <td>0.970588</td>\n",
       "    </tr>\n",
       "    <tr>\n",
       "      <th>2009-12-21</th>\n",
       "      <td>0.970588</td>\n",
       "    </tr>\n",
       "    <tr>\n",
       "      <th>...</th>\n",
       "      <td>...</td>\n",
       "    </tr>\n",
       "    <tr>\n",
       "      <th>2023-12-19</th>\n",
       "      <td>273.000000</td>\n",
       "    </tr>\n",
       "    <tr>\n",
       "      <th>2023-12-20</th>\n",
       "      <td>273.000000</td>\n",
       "    </tr>\n",
       "    <tr>\n",
       "      <th>2023-12-21</th>\n",
       "      <td>273.000000</td>\n",
       "    </tr>\n",
       "    <tr>\n",
       "      <th>2023-12-22</th>\n",
       "      <td>273.000000</td>\n",
       "    </tr>\n",
       "    <tr>\n",
       "      <th>2023-12-23</th>\n",
       "      <td>273.000000</td>\n",
       "    </tr>\n",
       "  </tbody>\n",
       "</table>\n",
       "<p>4437 rows × 1 columns</p>\n",
       "</div>"
      ],
      "text/plain": [
       "                    Consumption(KWH)\n",
       "Service Start Date                  \n",
       "2009-12-17                  0.970588\n",
       "2009-12-18                  0.970588\n",
       "2009-12-19                  0.970588\n",
       "2009-12-20                  0.970588\n",
       "2009-12-21                  0.970588\n",
       "...                              ...\n",
       "2023-12-19                273.000000\n",
       "2023-12-20                273.000000\n",
       "2023-12-21                273.000000\n",
       "2023-12-22                273.000000\n",
       "2023-12-23                273.000000\n",
       "\n",
       "[4437 rows x 1 columns]"
      ]
     },
     "execution_count": 93,
     "metadata": {},
     "output_type": "execute_result"
    }
   ],
   "source": [
    "#training and evaluating xgbooster model with the original dataframe containing daily energy consumption\n",
    "daily_data_sum"
   ]
  },
  {
   "cell_type": "code",
   "execution_count": 96,
   "metadata": {},
   "outputs": [
    {
     "name": "stdout",
     "output_type": "stream",
     "text": [
      "Index(['Consumption(KWH)'], dtype='object')\n"
     ]
    }
   ],
   "source": [
    "# Display the column names\n",
    "print(daily_data_sum.columns)\n"
   ]
  },
  {
   "cell_type": "code",
   "execution_count": 100,
   "metadata": {},
   "outputs": [],
   "source": [
    "daily_data_sum.columns = daily_data_sum.columns.str.strip()\n"
   ]
  },
  {
   "cell_type": "code",
   "execution_count": 104,
   "metadata": {},
   "outputs": [],
   "source": [
    "#ADDING LAG FEATURE TO SEE HOW A PREVIOUS CONSUMPTION VALUE AFFECTS THE NEXT DAY'S CONSUMPTION AS HAVING NOTHING TO CORRELATE LEADS IN A STRAIGHT LINE WITH NO CHANGE\n",
    "\n",
    "daily_data_sum['Consumption_Lag1'] = daily_data_sum['Consumption(KWH)'].shift(1)"
   ]
  },
  {
   "cell_type": "code",
   "execution_count": 105,
   "metadata": {},
   "outputs": [
    {
     "data": {
      "text/html": [
       "<div>\n",
       "<style scoped>\n",
       "    .dataframe tbody tr th:only-of-type {\n",
       "        vertical-align: middle;\n",
       "    }\n",
       "\n",
       "    .dataframe tbody tr th {\n",
       "        vertical-align: top;\n",
       "    }\n",
       "\n",
       "    .dataframe thead th {\n",
       "        text-align: right;\n",
       "    }\n",
       "</style>\n",
       "<table border=\"1\" class=\"dataframe\">\n",
       "  <thead>\n",
       "    <tr style=\"text-align: right;\">\n",
       "      <th></th>\n",
       "      <th>Consumption(KWH)</th>\n",
       "      <th>Consumption_Lag1</th>\n",
       "    </tr>\n",
       "    <tr>\n",
       "      <th>Service Start Date</th>\n",
       "      <th></th>\n",
       "      <th></th>\n",
       "    </tr>\n",
       "  </thead>\n",
       "  <tbody>\n",
       "    <tr>\n",
       "      <th>2009-12-17</th>\n",
       "      <td>0.970588</td>\n",
       "      <td>NaN</td>\n",
       "    </tr>\n",
       "    <tr>\n",
       "      <th>2009-12-18</th>\n",
       "      <td>0.970588</td>\n",
       "      <td>0.970588</td>\n",
       "    </tr>\n",
       "    <tr>\n",
       "      <th>2009-12-19</th>\n",
       "      <td>0.970588</td>\n",
       "      <td>0.970588</td>\n",
       "    </tr>\n",
       "    <tr>\n",
       "      <th>2009-12-20</th>\n",
       "      <td>0.970588</td>\n",
       "      <td>0.970588</td>\n",
       "    </tr>\n",
       "    <tr>\n",
       "      <th>2009-12-21</th>\n",
       "      <td>0.970588</td>\n",
       "      <td>0.970588</td>\n",
       "    </tr>\n",
       "    <tr>\n",
       "      <th>...</th>\n",
       "      <td>...</td>\n",
       "      <td>...</td>\n",
       "    </tr>\n",
       "    <tr>\n",
       "      <th>2023-12-19</th>\n",
       "      <td>273.000000</td>\n",
       "      <td>273.000000</td>\n",
       "    </tr>\n",
       "    <tr>\n",
       "      <th>2023-12-20</th>\n",
       "      <td>273.000000</td>\n",
       "      <td>273.000000</td>\n",
       "    </tr>\n",
       "    <tr>\n",
       "      <th>2023-12-21</th>\n",
       "      <td>273.000000</td>\n",
       "      <td>273.000000</td>\n",
       "    </tr>\n",
       "    <tr>\n",
       "      <th>2023-12-22</th>\n",
       "      <td>273.000000</td>\n",
       "      <td>273.000000</td>\n",
       "    </tr>\n",
       "    <tr>\n",
       "      <th>2023-12-23</th>\n",
       "      <td>273.000000</td>\n",
       "      <td>273.000000</td>\n",
       "    </tr>\n",
       "  </tbody>\n",
       "</table>\n",
       "<p>4437 rows × 2 columns</p>\n",
       "</div>"
      ],
      "text/plain": [
       "                    Consumption(KWH)  Consumption_Lag1\n",
       "Service Start Date                                    \n",
       "2009-12-17                  0.970588               NaN\n",
       "2009-12-18                  0.970588          0.970588\n",
       "2009-12-19                  0.970588          0.970588\n",
       "2009-12-20                  0.970588          0.970588\n",
       "2009-12-21                  0.970588          0.970588\n",
       "...                              ...               ...\n",
       "2023-12-19                273.000000        273.000000\n",
       "2023-12-20                273.000000        273.000000\n",
       "2023-12-21                273.000000        273.000000\n",
       "2023-12-22                273.000000        273.000000\n",
       "2023-12-23                273.000000        273.000000\n",
       "\n",
       "[4437 rows x 2 columns]"
      ]
     },
     "execution_count": 105,
     "metadata": {},
     "output_type": "execute_result"
    }
   ],
   "source": [
    "daily_data_sum"
   ]
  },
  {
   "cell_type": "code",
   "execution_count": null,
   "metadata": {},
   "outputs": [],
   "source": [
    "#dropping the first row if it still contains NaN after filling"
   ]
  },
  {
   "cell_type": "code",
   "execution_count": 106,
   "metadata": {},
   "outputs": [],
   "source": [
    "daily_data_sum.dropna(inplace = True)"
   ]
  },
  {
   "cell_type": "code",
   "execution_count": null,
   "metadata": {},
   "outputs": [],
   "source": [
    "#dropping the service start date column as xgboost models dont support data types other than bool, int, float, category"
   ]
  },
  {
   "cell_type": "code",
   "execution_count": 107,
   "metadata": {},
   "outputs": [],
   "source": [
    "daily_data_sum.reset_index(inplace = True)"
   ]
  },
  {
   "cell_type": "code",
   "execution_count": 109,
   "metadata": {},
   "outputs": [],
   "source": [
    "daily_data_sum.drop('Service Start Date',inplace = True,axis = 1)"
   ]
  },
  {
   "cell_type": "code",
   "execution_count": 110,
   "metadata": {},
   "outputs": [
    {
     "data": {
      "text/html": [
       "<div>\n",
       "<style scoped>\n",
       "    .dataframe tbody tr th:only-of-type {\n",
       "        vertical-align: middle;\n",
       "    }\n",
       "\n",
       "    .dataframe tbody tr th {\n",
       "        vertical-align: top;\n",
       "    }\n",
       "\n",
       "    .dataframe thead th {\n",
       "        text-align: right;\n",
       "    }\n",
       "</style>\n",
       "<table border=\"1\" class=\"dataframe\">\n",
       "  <thead>\n",
       "    <tr style=\"text-align: right;\">\n",
       "      <th></th>\n",
       "      <th>Consumption(KWH)</th>\n",
       "      <th>Consumption_Lag1</th>\n",
       "    </tr>\n",
       "  </thead>\n",
       "  <tbody>\n",
       "    <tr>\n",
       "      <th>0</th>\n",
       "      <td>0.970588</td>\n",
       "      <td>0.970588</td>\n",
       "    </tr>\n",
       "    <tr>\n",
       "      <th>1</th>\n",
       "      <td>0.970588</td>\n",
       "      <td>0.970588</td>\n",
       "    </tr>\n",
       "    <tr>\n",
       "      <th>2</th>\n",
       "      <td>0.970588</td>\n",
       "      <td>0.970588</td>\n",
       "    </tr>\n",
       "    <tr>\n",
       "      <th>3</th>\n",
       "      <td>0.970588</td>\n",
       "      <td>0.970588</td>\n",
       "    </tr>\n",
       "    <tr>\n",
       "      <th>4</th>\n",
       "      <td>0.970588</td>\n",
       "      <td>0.970588</td>\n",
       "    </tr>\n",
       "    <tr>\n",
       "      <th>...</th>\n",
       "      <td>...</td>\n",
       "      <td>...</td>\n",
       "    </tr>\n",
       "    <tr>\n",
       "      <th>4431</th>\n",
       "      <td>273.000000</td>\n",
       "      <td>273.000000</td>\n",
       "    </tr>\n",
       "    <tr>\n",
       "      <th>4432</th>\n",
       "      <td>273.000000</td>\n",
       "      <td>273.000000</td>\n",
       "    </tr>\n",
       "    <tr>\n",
       "      <th>4433</th>\n",
       "      <td>273.000000</td>\n",
       "      <td>273.000000</td>\n",
       "    </tr>\n",
       "    <tr>\n",
       "      <th>4434</th>\n",
       "      <td>273.000000</td>\n",
       "      <td>273.000000</td>\n",
       "    </tr>\n",
       "    <tr>\n",
       "      <th>4435</th>\n",
       "      <td>273.000000</td>\n",
       "      <td>273.000000</td>\n",
       "    </tr>\n",
       "  </tbody>\n",
       "</table>\n",
       "<p>4436 rows × 2 columns</p>\n",
       "</div>"
      ],
      "text/plain": [
       "      Consumption(KWH)  Consumption_Lag1\n",
       "0             0.970588          0.970588\n",
       "1             0.970588          0.970588\n",
       "2             0.970588          0.970588\n",
       "3             0.970588          0.970588\n",
       "4             0.970588          0.970588\n",
       "...                ...               ...\n",
       "4431        273.000000        273.000000\n",
       "4432        273.000000        273.000000\n",
       "4433        273.000000        273.000000\n",
       "4434        273.000000        273.000000\n",
       "4435        273.000000        273.000000\n",
       "\n",
       "[4436 rows x 2 columns]"
      ]
     },
     "execution_count": 110,
     "metadata": {},
     "output_type": "execute_result"
    }
   ],
   "source": [
    "daily_data_sum"
   ]
  },
  {
   "cell_type": "code",
   "execution_count": 115,
   "metadata": {},
   "outputs": [],
   "source": [
    "#dropping the first row if it still contains NaN after filling\n",
    "daily_data_sum.dropna(inplace = True)"
   ]
  },
  {
   "cell_type": "code",
   "execution_count": 117,
   "metadata": {},
   "outputs": [
    {
     "name": "stdout",
     "output_type": "stream",
     "text": [
      "Index(['Consumption(KWH)', 'Consumption_Lag1'], dtype='object')\n"
     ]
    }
   ],
   "source": [
    "print(daily_data_sum.columns)\n"
   ]
  },
  {
   "cell_type": "code",
   "execution_count": 119,
   "metadata": {},
   "outputs": [],
   "source": [
    "#dropping the service start date column as xgboost models dont support data types other than bool, int, float, category\n",
    "daily_data_sum.reset_index(drop = True, inplace=True)\n"
   ]
  },
  {
   "cell_type": "code",
   "execution_count": 122,
   "metadata": {},
   "outputs": [
    {
     "data": {
      "text/html": [
       "<div>\n",
       "<style scoped>\n",
       "    .dataframe tbody tr th:only-of-type {\n",
       "        vertical-align: middle;\n",
       "    }\n",
       "\n",
       "    .dataframe tbody tr th {\n",
       "        vertical-align: top;\n",
       "    }\n",
       "\n",
       "    .dataframe thead th {\n",
       "        text-align: right;\n",
       "    }\n",
       "</style>\n",
       "<table border=\"1\" class=\"dataframe\">\n",
       "  <thead>\n",
       "    <tr style=\"text-align: right;\">\n",
       "      <th></th>\n",
       "      <th>Consumption(KWH)</th>\n",
       "      <th>Consumption_Lag1</th>\n",
       "    </tr>\n",
       "  </thead>\n",
       "  <tbody>\n",
       "    <tr>\n",
       "      <th>0</th>\n",
       "      <td>0.970588</td>\n",
       "      <td>0.970588</td>\n",
       "    </tr>\n",
       "    <tr>\n",
       "      <th>1</th>\n",
       "      <td>0.970588</td>\n",
       "      <td>0.970588</td>\n",
       "    </tr>\n",
       "    <tr>\n",
       "      <th>2</th>\n",
       "      <td>0.970588</td>\n",
       "      <td>0.970588</td>\n",
       "    </tr>\n",
       "    <tr>\n",
       "      <th>3</th>\n",
       "      <td>0.970588</td>\n",
       "      <td>0.970588</td>\n",
       "    </tr>\n",
       "    <tr>\n",
       "      <th>4</th>\n",
       "      <td>0.970588</td>\n",
       "      <td>0.970588</td>\n",
       "    </tr>\n",
       "    <tr>\n",
       "      <th>...</th>\n",
       "      <td>...</td>\n",
       "      <td>...</td>\n",
       "    </tr>\n",
       "    <tr>\n",
       "      <th>4431</th>\n",
       "      <td>273.000000</td>\n",
       "      <td>273.000000</td>\n",
       "    </tr>\n",
       "    <tr>\n",
       "      <th>4432</th>\n",
       "      <td>273.000000</td>\n",
       "      <td>273.000000</td>\n",
       "    </tr>\n",
       "    <tr>\n",
       "      <th>4433</th>\n",
       "      <td>273.000000</td>\n",
       "      <td>273.000000</td>\n",
       "    </tr>\n",
       "    <tr>\n",
       "      <th>4434</th>\n",
       "      <td>273.000000</td>\n",
       "      <td>273.000000</td>\n",
       "    </tr>\n",
       "    <tr>\n",
       "      <th>4435</th>\n",
       "      <td>273.000000</td>\n",
       "      <td>273.000000</td>\n",
       "    </tr>\n",
       "  </tbody>\n",
       "</table>\n",
       "<p>4436 rows × 2 columns</p>\n",
       "</div>"
      ],
      "text/plain": [
       "      Consumption(KWH)  Consumption_Lag1\n",
       "0             0.970588          0.970588\n",
       "1             0.970588          0.970588\n",
       "2             0.970588          0.970588\n",
       "3             0.970588          0.970588\n",
       "4             0.970588          0.970588\n",
       "...                ...               ...\n",
       "4431        273.000000        273.000000\n",
       "4432        273.000000        273.000000\n",
       "4433        273.000000        273.000000\n",
       "4434        273.000000        273.000000\n",
       "4435        273.000000        273.000000\n",
       "\n",
       "[4436 rows x 2 columns]"
      ]
     },
     "execution_count": 122,
     "metadata": {},
     "output_type": "execute_result"
    }
   ],
   "source": [
    "daily_data_sum"
   ]
  },
  {
   "cell_type": "code",
   "execution_count": null,
   "metadata": {},
   "outputs": [],
   "source": [
    "#adding the index column"
   ]
  },
  {
   "cell_type": "code",
   "execution_count": 124,
   "metadata": {},
   "outputs": [],
   "source": [
    "daily_data_sum.reset_index(inplace = True)"
   ]
  },
  {
   "cell_type": "code",
   "execution_count": 125,
   "metadata": {},
   "outputs": [
    {
     "data": {
      "text/html": [
       "<div>\n",
       "<style scoped>\n",
       "    .dataframe tbody tr th:only-of-type {\n",
       "        vertical-align: middle;\n",
       "    }\n",
       "\n",
       "    .dataframe tbody tr th {\n",
       "        vertical-align: top;\n",
       "    }\n",
       "\n",
       "    .dataframe thead th {\n",
       "        text-align: right;\n",
       "    }\n",
       "</style>\n",
       "<table border=\"1\" class=\"dataframe\">\n",
       "  <thead>\n",
       "    <tr style=\"text-align: right;\">\n",
       "      <th></th>\n",
       "      <th>index</th>\n",
       "      <th>Consumption(KWH)</th>\n",
       "      <th>Consumption_Lag1</th>\n",
       "    </tr>\n",
       "  </thead>\n",
       "  <tbody>\n",
       "    <tr>\n",
       "      <th>0</th>\n",
       "      <td>0</td>\n",
       "      <td>0.970588</td>\n",
       "      <td>0.970588</td>\n",
       "    </tr>\n",
       "    <tr>\n",
       "      <th>1</th>\n",
       "      <td>1</td>\n",
       "      <td>0.970588</td>\n",
       "      <td>0.970588</td>\n",
       "    </tr>\n",
       "    <tr>\n",
       "      <th>2</th>\n",
       "      <td>2</td>\n",
       "      <td>0.970588</td>\n",
       "      <td>0.970588</td>\n",
       "    </tr>\n",
       "    <tr>\n",
       "      <th>3</th>\n",
       "      <td>3</td>\n",
       "      <td>0.970588</td>\n",
       "      <td>0.970588</td>\n",
       "    </tr>\n",
       "    <tr>\n",
       "      <th>4</th>\n",
       "      <td>4</td>\n",
       "      <td>0.970588</td>\n",
       "      <td>0.970588</td>\n",
       "    </tr>\n",
       "    <tr>\n",
       "      <th>...</th>\n",
       "      <td>...</td>\n",
       "      <td>...</td>\n",
       "      <td>...</td>\n",
       "    </tr>\n",
       "    <tr>\n",
       "      <th>4431</th>\n",
       "      <td>4431</td>\n",
       "      <td>273.000000</td>\n",
       "      <td>273.000000</td>\n",
       "    </tr>\n",
       "    <tr>\n",
       "      <th>4432</th>\n",
       "      <td>4432</td>\n",
       "      <td>273.000000</td>\n",
       "      <td>273.000000</td>\n",
       "    </tr>\n",
       "    <tr>\n",
       "      <th>4433</th>\n",
       "      <td>4433</td>\n",
       "      <td>273.000000</td>\n",
       "      <td>273.000000</td>\n",
       "    </tr>\n",
       "    <tr>\n",
       "      <th>4434</th>\n",
       "      <td>4434</td>\n",
       "      <td>273.000000</td>\n",
       "      <td>273.000000</td>\n",
       "    </tr>\n",
       "    <tr>\n",
       "      <th>4435</th>\n",
       "      <td>4435</td>\n",
       "      <td>273.000000</td>\n",
       "      <td>273.000000</td>\n",
       "    </tr>\n",
       "  </tbody>\n",
       "</table>\n",
       "<p>4436 rows × 3 columns</p>\n",
       "</div>"
      ],
      "text/plain": [
       "      index  Consumption(KWH)  Consumption_Lag1\n",
       "0         0          0.970588          0.970588\n",
       "1         1          0.970588          0.970588\n",
       "2         2          0.970588          0.970588\n",
       "3         3          0.970588          0.970588\n",
       "4         4          0.970588          0.970588\n",
       "...     ...               ...               ...\n",
       "4431   4431        273.000000        273.000000\n",
       "4432   4432        273.000000        273.000000\n",
       "4433   4433        273.000000        273.000000\n",
       "4434   4434        273.000000        273.000000\n",
       "4435   4435        273.000000        273.000000\n",
       "\n",
       "[4436 rows x 3 columns]"
      ]
     },
     "execution_count": 125,
     "metadata": {},
     "output_type": "execute_result"
    }
   ],
   "source": [
    "daily_data_sum"
   ]
  },
  {
   "cell_type": "code",
   "execution_count": 129,
   "metadata": {},
   "outputs": [],
   "source": [
    "#define the train and test sets\n",
    "train = daily_data_sum[:-3065]\n",
    "test = daily_data_sum[-3065:]\n",
    "\n",
    "X_train = train.drop('Consumption(KWH)', axis = 1)\n",
    "y_train = train['Consumption(KWH)']\n",
    "\n",
    "X_test = test.drop('Consumption(KWH)', axis = 1)\n",
    "y_test = test['Consumption(KWH)']"
   ]
  },
  {
   "cell_type": "code",
   "execution_count": null,
   "metadata": {},
   "outputs": [],
   "source": [
    "#from xgboost import regressor"
   ]
  },
  {
   "cell_type": "code",
   "execution_count": null,
   "metadata": {},
   "outputs": [],
   "source": [
    "periods = [100,200,365]\n",
    "fig.axes = plt.subplots(), 1, figsize(10,15)\n",
    "\n",
    "for i, period in enumerate(periods):\n",
    "    model = XGBRegressor(_estimators = 100)\n",
    "    model.fit(x_train, y_train)\n",
    "    predictions = model.predict(X_test)\n",
    "    mae = mean_absolute_error(y_test[:period], predictions[:period])\n",
    "    mape = np.mean(np.abs(y_test[:period] - predictions[:period]) / y_test))"
   ]
  },
  {
   "cell_type": "code",
   "execution_count": null,
   "metadata": {},
   "outputs": [],
   "source": []
  },
  {
   "cell_type": "code",
   "execution_count": null,
   "metadata": {},
   "outputs": [],
   "source": []
  },
  {
   "cell_type": "code",
   "execution_count": null,
   "metadata": {},
   "outputs": [],
   "source": []
  },
  {
   "cell_type": "code",
   "execution_count": null,
   "metadata": {},
   "outputs": [],
   "source": []
  },
  {
   "cell_type": "code",
   "execution_count": null,
   "metadata": {},
   "outputs": [],
   "source": []
  },
  {
   "cell_type": "code",
   "execution_count": null,
   "metadata": {},
   "outputs": [],
   "source": []
  },
  {
   "cell_type": "code",
   "execution_count": null,
   "metadata": {},
   "outputs": [],
   "source": []
  },
  {
   "cell_type": "code",
   "execution_count": null,
   "metadata": {},
   "outputs": [],
   "source": []
  }
 ],
 "metadata": {
  "colab": {
   "provenance": []
  },
  "kernelspec": {
   "display_name": "Python 3 (ipykernel)",
   "language": "python",
   "name": "python3"
  },
  "language_info": {
   "codemirror_mode": {
    "name": "ipython",
    "version": 3
   },
   "file_extension": ".py",
   "mimetype": "text/x-python",
   "name": "python",
   "nbconvert_exporter": "python",
   "pygments_lexer": "ipython3",
   "version": "3.9.13"
  }
 },
 "nbformat": 4,
 "nbformat_minor": 1
}
