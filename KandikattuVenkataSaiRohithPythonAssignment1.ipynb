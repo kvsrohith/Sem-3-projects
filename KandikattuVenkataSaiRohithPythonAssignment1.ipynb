{
  "nbformat": 4,
  "nbformat_minor": 0,
  "metadata": {
    "anaconda-cloud": {},
    "kernelspec": {
      "display_name": "Python 3",
      "language": "python",
      "name": "python3"
    },
    "language_info": {
      "codemirror_mode": {
        "name": "ipython",
        "version": 3
      },
      "file_extension": ".py",
      "mimetype": "text/x-python",
      "name": "python",
      "nbconvert_exporter": "python",
      "pygments_lexer": "ipython3",
      "version": "3.6.6"
    },
    "colab": {
      "provenance": []
    }
  },
  "cells": [
    {
      "cell_type": "markdown",
      "metadata": {
        "collapsed": true,
        "id": "S0hfOJqUcBY1"
      },
      "source": [
        "##Assignment - 1\n",
        "\n",
        "**Answer the following questions, after completing answering please download the .ipynb or .py file and submit the file.**\n",
        "* Name : Kandikattu Venkata Sai Rohith\n",
        "* Sesion : 6:00 PM - 9:00PM\n",
        "* CRN : 72541\n",
        "\n"
      ]
    },
    {
      "cell_type": "markdown",
      "metadata": {
        "collapsed": true,
        "id": "MABk3xshcBY2"
      },
      "source": [
        "Write a brief description of all the following Object Types. To write the answers in below cell by double clicking on it.\n"
      ]
    },
    {
      "cell_type": "markdown",
      "metadata": {
        "id": "aL0Du7xdcBY3"
      },
      "source": [
        "Double Click HERE to edit this markdown cell and write answers.\n",
        "\n",
        "Numbers:\n",
        "\n",
        "Strings:\n",
        "\n",
        "Lists:\n",
        "\n",
        "Tuples:\n",
        "\n",
        "Dictionaries:\n"
      ]
    },
    {
      "cell_type": "markdown",
      "metadata": {
        "id": "MBFc54NpcBY5"
      },
      "source": [
        "## Numbers"
      ]
    },
    {
      "cell_type": "markdown",
      "metadata": {
        "id": "gYTUJwWUcBY8"
      },
      "source": [
        "Answer these 3 questions type code to check your answer. In the below code cell.\n",
        "\n",
        "    What is the value of the expression 4 * (6 + 5)\n",
        "    \n",
        "    What is the value of the expression 4 * 6 + 5\n",
        "    \n",
        "    What is the value of the expression 4 + 6 * 5"
      ]
    },
    {
      "cell_type": "code",
      "metadata": {
        "collapsed": true,
        "id": "L4H_eoNrcBY8",
        "outputId": "ea61f72c-f3d2-4381-8f9d-fb9de30c07dc",
        "colab": {
          "base_uri": "https://localhost:8080/"
        }
      },
      "source": [
        "# What is the value of the expression 4 * (6 + 5)\n",
        "result1 = 4 * (6 + 5)\n",
        "\n",
        "# What is the value of the expression 4 * 6 + 5\n",
        "result2 = 4 * 6 + 5\n",
        "\n",
        "# What is the value of the expression 4 + 6 * 5\n",
        "result3 = 4 + 6 * 5\n",
        "\n",
        "result1, result2, result3\n"
      ],
      "execution_count": null,
      "outputs": [
        {
          "output_type": "execute_result",
          "data": {
            "text/plain": [
              "(44, 29, 34)"
            ]
          },
          "metadata": {},
          "execution_count": 1
        }
      ]
    },
    {
      "cell_type": "markdown",
      "metadata": {
        "id": "2E2kZcZzcBY_"
      },
      "source": [
        "## Strings"
      ]
    },
    {
      "cell_type": "markdown",
      "metadata": {
        "id": "pqmtspH1cBZA"
      },
      "source": [
        "Given the string 'Python Programming', with the help of index get 'm'. Enter your code in the cell below:"
      ]
    },
    {
      "cell_type": "code",
      "metadata": {
        "collapsed": true,
        "id": "F1DGfjF-cBZA",
        "outputId": "960c755d-dbf9-434a-b0b6-2ac433a9a637",
        "colab": {
          "base_uri": "https://localhost:8080/"
        }
      },
      "source": [
        "s = 'Python Programming'\n",
        "# Print out 'm' using indexing\n",
        "print(s[13])\n"
      ],
      "execution_count": null,
      "outputs": [
        {
          "output_type": "stream",
          "name": "stdout",
          "text": [
            "m\n"
          ]
        }
      ]
    },
    {
      "cell_type": "markdown",
      "metadata": {
        "id": "110A93MvcBZB"
      },
      "source": [
        "Reverse the string 'Python Programming' using slicing:"
      ]
    },
    {
      "cell_type": "code",
      "metadata": {
        "collapsed": true,
        "id": "WP5iPKI8cBZB",
        "outputId": "8bd5d720-5597-46f6-d9b9-bcbeb033e284",
        "colab": {
          "base_uri": "https://localhost:8080/"
        }
      },
      "source": [
        "s ='Python Programming'\n",
        "# Reverse the string using slicing\n",
        "reversed_s = s[::-1]\n",
        "print(reversed_s)\n"
      ],
      "execution_count": null,
      "outputs": [
        {
          "output_type": "stream",
          "name": "stdout",
          "text": [
            "gnimmargorP nohtyP\n"
          ]
        }
      ]
    },
    {
      "cell_type": "markdown",
      "metadata": {
        "id": "h9450vGScBZB"
      },
      "source": [
        "Given the string \"Python Programming\", give two methods of producing the letter 'i' using indexing."
      ]
    },
    {
      "cell_type": "code",
      "metadata": {
        "collapsed": true,
        "id": "3IvgQWBOcBZC",
        "outputId": "07d80c38-fd53-44e1-ff4c-f96a26b7cf63",
        "colab": {
          "base_uri": "https://localhost:8080/"
        }
      },
      "source": [
        "s ='Python Programming'\n",
        "# Print out the 'i'\n",
        "\n",
        "# Method 1:\n",
        "print(s[8])\n"
      ],
      "execution_count": null,
      "outputs": [
        {
          "output_type": "stream",
          "name": "stdout",
          "text": [
            "r\n"
          ]
        }
      ]
    },
    {
      "cell_type": "code",
      "metadata": {
        "collapsed": true,
        "id": "dMuumu19cBZD",
        "outputId": "6e30f589-e101-4290-a890-2e0d002c6296",
        "colab": {
          "base_uri": "https://localhost:8080/"
        }
      },
      "source": [
        "# Method 2:\n",
        "\n",
        "s = 'Python Programming'\n",
        "index_of_i = s.find('i')\n",
        "\n",
        "if index_of_i != -1:\n",
        "    print(s[index_of_i])\n",
        "else:\n",
        "    print(\"'i' not found in the string.\")\n"
      ],
      "execution_count": null,
      "outputs": [
        {
          "output_type": "stream",
          "name": "stdout",
          "text": [
            "i\n"
          ]
        }
      ]
    },
    {
      "cell_type": "markdown",
      "metadata": {
        "id": "AI-9eMHpcBZD"
      },
      "source": [
        "## Lists"
      ]
    },
    {
      "cell_type": "markdown",
      "metadata": {
        "id": "_KiUBOztcBZD"
      },
      "source": [
        "Build this list [0,0,0] two separate ways."
      ]
    },
    {
      "cell_type": "code",
      "metadata": {
        "collapsed": true,
        "id": "LKs_RnaZcBZE",
        "outputId": "669081da-da24-4a86-f071-ef94130dc4d2",
        "colab": {
          "base_uri": "https://localhost:8080/"
        }
      },
      "source": [
        "# Method 1:\n",
        "my_list = [0, 0, 0]\n",
        "print(my_list)"
      ],
      "execution_count": null,
      "outputs": [
        {
          "output_type": "stream",
          "name": "stdout",
          "text": [
            "[0, 0, 0]\n"
          ]
        }
      ]
    },
    {
      "cell_type": "code",
      "metadata": {
        "collapsed": true,
        "id": "--1hFUExcBZE",
        "outputId": "6373666f-cda7-401e-c9cc-0bbaba8e634f",
        "colab": {
          "base_uri": "https://localhost:8080/"
        }
      },
      "source": [
        "# Method 2:\n",
        "my_list = []\n",
        "for _ in range(3):\n",
        "    my_list.append(0)\n",
        "print(my_list)"
      ],
      "execution_count": null,
      "outputs": [
        {
          "output_type": "stream",
          "name": "stdout",
          "text": [
            "[0, 0, 0]\n"
          ]
        }
      ]
    },
    {
      "cell_type": "markdown",
      "metadata": {
        "id": "i3GPSmiUcBZF"
      },
      "source": [
        "Reassign 'hello' in this nested list to say 'goodbye' instead:"
      ]
    },
    {
      "cell_type": "code",
      "metadata": {
        "collapsed": true,
        "id": "nvLDLZNZcBZF",
        "outputId": "f59deefa-4c4b-4b89-afbf-36de5bdbb475",
        "colab": {
          "base_uri": "https://localhost:8080/"
        }
      },
      "source": [
        "list3 = [1,2,[3,4,'hello']]\n",
        "\n",
        "list3 = [1, 2, [3, 4, 'hello']]\n",
        "list3[2][2] = 'goodbye'\n",
        "print(list3)"
      ],
      "execution_count": null,
      "outputs": [
        {
          "output_type": "stream",
          "name": "stdout",
          "text": [
            "[1, 2, [3, 4, 'goodbye']]\n"
          ]
        }
      ]
    },
    {
      "cell_type": "markdown",
      "metadata": {
        "id": "-buyM2D9cBZF"
      },
      "source": [
        "Sort the list below:"
      ]
    },
    {
      "cell_type": "code",
      "metadata": {
        "collapsed": true,
        "id": "6w_wMOBDcBZG",
        "outputId": "39c3e3d7-d7c7-4aef-d9ee-58689f976825",
        "colab": {
          "base_uri": "https://localhost:8080/"
        }
      },
      "source": [
        "list4 = [5, 3, 4, 6, 1]\n",
        "sorted_list = sorted(list4)\n",
        "print(sorted_list)"
      ],
      "execution_count": null,
      "outputs": [
        {
          "output_type": "stream",
          "name": "stdout",
          "text": [
            "[1, 3, 4, 5, 6]\n"
          ]
        }
      ]
    },
    {
      "cell_type": "markdown",
      "metadata": {
        "id": "3RTt3IpLcBZG"
      },
      "source": [
        "## Dictionaries"
      ]
    },
    {
      "cell_type": "markdown",
      "metadata": {
        "id": "KjgadBzncBZG"
      },
      "source": [
        "Using keys and indexing, grab the 'Python' from the following dictionaries:"
      ]
    },
    {
      "cell_type": "code",
      "metadata": {
        "collapsed": true,
        "id": "eGoKX-05cBZG",
        "outputId": "e06211de-0747-4759-c1f2-3a5f0b4f2267",
        "colab": {
          "base_uri": "https://localhost:8080/"
        }
      },
      "source": [
        "d = {'simple_key':'Python'}\n",
        "# Grab 'Python'\n",
        "value = d['simple_key']\n",
        "print(value)"
      ],
      "execution_count": null,
      "outputs": [
        {
          "output_type": "stream",
          "name": "stdout",
          "text": [
            "Python\n"
          ]
        }
      ]
    },
    {
      "cell_type": "code",
      "metadata": {
        "collapsed": true,
        "id": "U9K_FLBocBZH",
        "outputId": "3bfdcb3e-96ea-4373-9cc0-361d52a1ae9a",
        "colab": {
          "base_uri": "https://localhost:8080/"
        }
      },
      "source": [
        "d = {'k1':{'k2':'Programming'}}\n",
        "# Grab 'Programming'\n",
        "value = d['k1']['k2']\n",
        "print(value)"
      ],
      "execution_count": null,
      "outputs": [
        {
          "output_type": "stream",
          "name": "stdout",
          "text": [
            "Programming\n"
          ]
        }
      ]
    },
    {
      "cell_type": "code",
      "metadata": {
        "collapsed": true,
        "id": "KoUlByj7cBZH",
        "outputId": "c752d848-3987-4ac6-995b-d3e642cfe4a2",
        "colab": {
          "base_uri": "https://localhost:8080/"
        }
      },
      "source": [
        "# Getting a little tricker\n",
        "d = {'k1':[{'nest_key':['this is CS632',['Python']]}]}\n",
        "\n",
        "#Grab Python\n",
        "value = d['k1'][0]['nest_key'][1][0]\n",
        "print(value)"
      ],
      "execution_count": null,
      "outputs": [
        {
          "output_type": "stream",
          "name": "stdout",
          "text": [
            "Python\n"
          ]
        }
      ]
    },
    {
      "cell_type": "code",
      "metadata": {
        "collapsed": true,
        "id": "QfaOrfKvcBZI",
        "outputId": "512b019f-6862-40df-fbd4-acb0c0a84d12",
        "colab": {
          "base_uri": "https://localhost:8080/"
        }
      },
      "source": [
        "# This will be hard and annoying!\n",
        "d = {'k1':[1,2,{'k2':['this is tricky',{'tough':[1,2,['hello']]}]}]}\n",
        "value = d['k1'][2]['k2'][1]['tough'][2][0]\n",
        "print(value)"
      ],
      "execution_count": null,
      "outputs": [
        {
          "output_type": "stream",
          "name": "stdout",
          "text": [
            "hello\n"
          ]
        }
      ]
    },
    {
      "cell_type": "markdown",
      "metadata": {
        "id": "Xk84ULBEcBZJ"
      },
      "source": [
        "Is sorting a dictionary possible? Why or why not?<br><br>\n",
        "\n",
        "---\n",
        "\n"
      ]
    },
    {
      "cell_type": "markdown",
      "source": [
        "Sorting a dictionary is possible but with certain considerations. Python dictionaries are inherently unordered collections of key-value pairs prior to Python 3.7. However, from Python 3.7 onwards, dictionaries maintain insertion order. You can sort a dictionary by its keys or values into a list of key-value pairs using techniques like sorted() or items() method. Sorting by keys is straightforward, but sorting by values requires a bit more complexity. Remember, the resulting sorted structure will be a list, not a dictionary, because dictionaries themselves are unordered. So, sorting enables access to dictionary data in a specific order but doesn't modify the dictionary itself.\n",
        "\n",
        "\n",
        "\n",
        "\n"
      ],
      "metadata": {
        "id": "kxjbsUw3thmQ"
      }
    },
    {
      "cell_type": "code",
      "source": [],
      "metadata": {
        "id": "YRpoev4Htek1"
      },
      "execution_count": null,
      "outputs": []
    },
    {
      "cell_type": "markdown",
      "source": [],
      "metadata": {
        "id": "5dPNiTCPqyu-"
      }
    },
    {
      "cell_type": "markdown",
      "metadata": {
        "id": "iozXKIu9cBZJ"
      },
      "source": [
        "## Tuples"
      ]
    },
    {
      "cell_type": "markdown",
      "metadata": {
        "id": "eqX8TWt_cBZK"
      },
      "source": [
        "What is the major difference between tuples and lists?<br><br>"
      ]
    },
    {
      "cell_type": "markdown",
      "source": [
        "Tuples and lists in Python are both used to store collections of items, but they have some fundamental differences:\n",
        "\n",
        "Mutability:\n",
        "\n",
        "Lists are mutable, which means you can add, remove, or modify elements after the list is created.\n",
        "Tuples are immutable, meaning once you create a tuple, you cannot change its contents. You can't add, remove, or modify elements within a tuple.\n",
        "Syntax:\n",
        "\n",
        "Lists are created using square brackets: [1, 2, 3].\n",
        "Tuples are created using parentheses: (1, 2, 3).\n",
        "Performance:\n",
        "\n",
        "Because tuples are immutable, they are generally more memory-efficient and have slightly better performance than lists for certain operations.\n",
        "Lists, with their mutability, are better suited for situations where you need to frequently change the contents of the collection.\n",
        "Use Cases:\n",
        "\n",
        "Lists are commonly used when you need a collection of items that can change over time. For example, a list of tasks that you can add to or mark as completed.\n",
        "Tuples are often used when you want to ensure that the data in the collection remains constant and shouldn't be accidentally modified. For example, representing a set of coordinates (x, y) that should stay fixed.\n",
        "Iteration:\n",
        "\n",
        "Both lists and tuples can be iterated over using loops, but their immutability makes tuples safer to use in situations where the data should not be altered during iteration.\n",
        "In summary, the major difference between tuples and lists is mutability. Lists are mutable, while tuples are immutable. Your choice between them depends on whether you need a collection that can change or one that should remain constant throughout the program's execution.\n",
        "\n",
        "\n",
        "\n",
        "\n",
        "\n",
        "\n",
        "Regenerate\n",
        "\n"
      ],
      "metadata": {
        "id": "kz1mHq-vr3jG"
      }
    },
    {
      "cell_type": "markdown",
      "source": [],
      "metadata": {
        "id": "6a69RHBor3Yf"
      }
    },
    {
      "cell_type": "markdown",
      "metadata": {
        "id": "Plrl6LBMcBZM"
      },
      "source": [
        "How do you create a tuple?<br><br>"
      ]
    },
    {
      "cell_type": "markdown",
      "source": [],
      "metadata": {
        "id": "lo7GgFmktA2U"
      }
    },
    {
      "cell_type": "markdown",
      "source": [
        "In Python, you create a tuple by enclosing a sequence of values in parentheses. For example, to create a tuple of integers, you can do `(1, 2, 3)`, and for a tuple of mixed data types, you can use `('apple', 5, True)`. Commas separate the values inside the parentheses, and in most cases, parentheses are optional, but including them is a good practice for clarity. Tuples are immutable, meaning their elements cannot be changed after creation, making them suitable for representing fixed collections of data, such as coordinates or configuration settings."
      ],
      "metadata": {
        "id": "YnrkI31ntAgt"
      }
    },
    {
      "cell_type": "markdown",
      "source": [],
      "metadata": {
        "id": "FiOTqQ1zshHy"
      }
    },
    {
      "cell_type": "markdown",
      "metadata": {
        "id": "Cy2trzRNcBZM"
      },
      "source": [
        "## Sets"
      ]
    },
    {
      "cell_type": "markdown",
      "metadata": {
        "id": "NRc8xn7JcBZN"
      },
      "source": [
        "What is unique about a set?<br><br>"
      ]
    },
    {
      "cell_type": "markdown",
      "source": [
        "A set in Python is a collection of unique, unordered elements. What makes sets unique is their ability to automatically eliminate duplicate values, ensuring that each element appears only once. Sets are defined using curly braces or the set() constructor. They provide a powerful way to perform operations like union, intersection, and difference on collections of data. Being unordered, sets do not support indexing, but they are highly efficient for membership tests, as they use hashing to determine whether an element exists in constant time. This uniqueness makes sets ideal for tasks that involve eliminating duplicates or checking for the presence of specific elements within a collection"
      ],
      "metadata": {
        "id": "Xr079VldtDua"
      }
    },
    {
      "cell_type": "markdown",
      "metadata": {
        "id": "Y2mSJT7bcBZO"
      },
      "source": [
        "Use a set to find the unique values of the list below:"
      ]
    },
    {
      "cell_type": "code",
      "metadata": {
        "collapsed": true,
        "id": "y7phszYycBZO",
        "outputId": "311c7479-7442-47bf-e6df-ab133d8c1cff",
        "colab": {
          "base_uri": "https://localhost:8080/"
        }
      },
      "source": [
        "list5 = [1,2,2,33,4,4,11,22,3,3,2]\n",
        "\n",
        "# Convert the list to a set to get unique values\n",
        "unique_values = set(list5)\n",
        "\n",
        "# Now, 'unique_values' contains the unique values from 'list5'\n",
        "print(unique_values)\n"
      ],
      "execution_count": null,
      "outputs": [
        {
          "output_type": "stream",
          "name": "stdout",
          "text": [
            "{1, 2, 33, 4, 3, 11, 22}\n"
          ]
        }
      ]
    },
    {
      "cell_type": "markdown",
      "metadata": {
        "id": "ot0FnHF0cBZP"
      },
      "source": [
        "## Booleans"
      ]
    },
    {
      "cell_type": "markdown",
      "metadata": {
        "id": "B02AHvQycBZP"
      },
      "source": [
        "What will be the resulting Boolean of the following pieces of code (answer fist then check by typing it in!)"
      ]
    },
    {
      "cell_type": "code",
      "metadata": {
        "collapsed": true,
        "id": "9eMthx1FcBZQ",
        "outputId": "9b701205-81e2-4b3a-8474-4e6d047b02aa",
        "colab": {
          "base_uri": "https://localhost:8080/"
        }
      },
      "source": [
        "# What the outcome?\n",
        "2 > 3\n",
        "result = 2 > 3\n",
        "print(result)\n"
      ],
      "execution_count": null,
      "outputs": [
        {
          "output_type": "stream",
          "name": "stdout",
          "text": [
            "False\n"
          ]
        }
      ]
    }
  ]
}