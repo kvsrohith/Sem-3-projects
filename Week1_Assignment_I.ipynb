{
  "nbformat": 4,
  "nbformat_minor": 0,
  "metadata": {
    "anaconda-cloud": {},
    "kernelspec": {
      "display_name": "Python 3",
      "language": "python",
      "name": "python3"
    },
    "language_info": {
      "codemirror_mode": {
        "name": "ipython",
        "version": 3
      },
      "file_extension": ".py",
      "mimetype": "text/x-python",
      "name": "python",
      "nbconvert_exporter": "python",
      "pygments_lexer": "ipython3",
      "version": "3.6.6"
    },
    "colab": {
      "name": "Week1- Assignment I.ipynb",
      "provenance": [],
      "collapsed_sections": []
    }
  },
  "cells": [
    {
      "cell_type": "markdown",
      "metadata": {
        "collapsed": true,
        "id": "S0hfOJqUcBY1"
      },
      "source": [
        "##Assignment - 1\n",
        "\n",
        "**Answer the following questions, download the .ipynb file and submit the file.**\n",
        "* Name : \n",
        "* Sesion :\n",
        "* CRN :\n",
        "\n"
      ]
    },
    {
      "cell_type": "markdown",
      "metadata": {
        "collapsed": true,
        "id": "MABk3xshcBY2"
      },
      "source": [
        "Write a brief description of all the following Object Types. To write the answers in below cell by double clicking on it."
      ]
    },
    {
      "cell_type": "markdown",
      "metadata": {
        "id": "aL0Du7xdcBY3"
      },
      "source": [
        "Double Click HERE to edit this markdown cell and write answers.\n",
        "\n",
        "Numbers:\n",
        "\n",
        "Strings:\n",
        "\n",
        "Lists:\n",
        "\n",
        "Tuples:\n",
        "\n",
        "Dictionaries:\n"
      ]
    },
    {
      "cell_type": "markdown",
      "metadata": {
        "id": "MBFc54NpcBY5"
      },
      "source": [
        "## Numbers"
      ]
    },
    {
      "cell_type": "markdown",
      "metadata": {
        "id": "gYTUJwWUcBY8"
      },
      "source": [
        "Answer these 3 questions type code to check your answer. In the below code cell.\n",
        "\n",
        "    What is the value of the expression 4 * (6 + 5)\n",
        "    \n",
        "    What is the value of the expression 4 * 6 + 5 \n",
        "    \n",
        "    What is the value of the expression 4 + 6 * 5 "
      ]
    },
    {
      "cell_type": "code",
      "metadata": {
        "collapsed": true,
        "id": "L4H_eoNrcBY8"
      },
      "source": [
        ""
      ],
      "execution_count": null,
      "outputs": []
    },
    {
      "cell_type": "markdown",
      "metadata": {
        "id": "2E2kZcZzcBY_"
      },
      "source": [
        "## Strings"
      ]
    },
    {
      "cell_type": "markdown",
      "metadata": {
        "id": "pqmtspH1cBZA"
      },
      "source": [
        "Given the string 'Python Programming', with the help of index get 'm'. Enter your code in the cell below:"
      ]
    },
    {
      "cell_type": "code",
      "metadata": {
        "collapsed": true,
        "id": "F1DGfjF-cBZA"
      },
      "source": [
        "s = 'Python Programming'\n",
        "# Print out 'm' using indexing\n",
        "\n"
      ],
      "execution_count": null,
      "outputs": []
    },
    {
      "cell_type": "markdown",
      "metadata": {
        "id": "110A93MvcBZB"
      },
      "source": [
        "Reverse the string 'Python Programming' using slicing:"
      ]
    },
    {
      "cell_type": "code",
      "metadata": {
        "collapsed": true,
        "id": "WP5iPKI8cBZB"
      },
      "source": [
        "s ='Python Programming'\n",
        "# Reverse the string using slicing\n",
        "\n"
      ],
      "execution_count": null,
      "outputs": []
    },
    {
      "cell_type": "markdown",
      "metadata": {
        "id": "h9450vGScBZB"
      },
      "source": [
        "Given the string \"Python Programming\", give two methods of producing the letter 'i' using indexing."
      ]
    },
    {
      "cell_type": "code",
      "metadata": {
        "collapsed": true,
        "id": "3IvgQWBOcBZC"
      },
      "source": [
        "s ='Python Programming'\n",
        "# Print out the 'i'\n",
        "\n",
        "# Method 1:\n",
        "\n"
      ],
      "execution_count": null,
      "outputs": []
    },
    {
      "cell_type": "code",
      "metadata": {
        "collapsed": true,
        "id": "dMuumu19cBZD"
      },
      "source": [
        "# Method 2:\n",
        "\n"
      ],
      "execution_count": null,
      "outputs": []
    },
    {
      "cell_type": "markdown",
      "metadata": {
        "id": "AI-9eMHpcBZD"
      },
      "source": [
        "## Lists"
      ]
    },
    {
      "cell_type": "markdown",
      "metadata": {
        "id": "_KiUBOztcBZD"
      },
      "source": [
        "Build this list [0,0,0] two separate ways."
      ]
    },
    {
      "cell_type": "code",
      "metadata": {
        "collapsed": true,
        "id": "LKs_RnaZcBZE"
      },
      "source": [
        "# Method 1:\n"
      ],
      "execution_count": null,
      "outputs": []
    },
    {
      "cell_type": "code",
      "metadata": {
        "collapsed": true,
        "id": "--1hFUExcBZE"
      },
      "source": [
        "# Method 2:\n"
      ],
      "execution_count": null,
      "outputs": []
    },
    {
      "cell_type": "markdown",
      "metadata": {
        "id": "i3GPSmiUcBZF"
      },
      "source": [
        "Reassign 'hello' in this nested list to say 'goodbye' instead:"
      ]
    },
    {
      "cell_type": "code",
      "metadata": {
        "collapsed": true,
        "id": "nvLDLZNZcBZF"
      },
      "source": [
        "list3 = [1,2,[3,4,'hello']]\n",
        "\n"
      ],
      "execution_count": null,
      "outputs": []
    },
    {
      "cell_type": "markdown",
      "metadata": {
        "id": "-buyM2D9cBZF"
      },
      "source": [
        "Sort the list below:"
      ]
    },
    {
      "cell_type": "code",
      "metadata": {
        "collapsed": true,
        "id": "6w_wMOBDcBZG"
      },
      "source": [
        "list4 = [5,3,4,6,1]\n",
        "\n"
      ],
      "execution_count": null,
      "outputs": []
    },
    {
      "cell_type": "markdown",
      "metadata": {
        "id": "3RTt3IpLcBZG"
      },
      "source": [
        "## Dictionaries"
      ]
    },
    {
      "cell_type": "markdown",
      "metadata": {
        "id": "KjgadBzncBZG"
      },
      "source": [
        "Using keys and indexing, grab the 'Python' from the following dictionaries:"
      ]
    },
    {
      "cell_type": "code",
      "metadata": {
        "collapsed": true,
        "id": "eGoKX-05cBZG"
      },
      "source": [
        "d = {'simple_key':'Python'}\n",
        "# Grab 'Python'\n"
      ],
      "execution_count": null,
      "outputs": []
    },
    {
      "cell_type": "code",
      "metadata": {
        "collapsed": true,
        "id": "U9K_FLBocBZH"
      },
      "source": [
        "d = {'k1':{'k2':'Programming'}}\n",
        "# Grab 'Programming'\n"
      ],
      "execution_count": null,
      "outputs": []
    },
    {
      "cell_type": "code",
      "metadata": {
        "collapsed": true,
        "id": "KoUlByj7cBZH"
      },
      "source": [
        "# Getting a little tricker\n",
        "d = {'k1':[{'nest_key':['this is CS632',['Python']]}]}\n",
        "\n",
        "#Grab Python\n"
      ],
      "execution_count": null,
      "outputs": []
    },
    {
      "cell_type": "code",
      "metadata": {
        "collapsed": true,
        "id": "QfaOrfKvcBZI"
      },
      "source": [
        "# This will be hard and annoying!\n",
        "d = {'k1':[1,2,{'k2':['this is tricky',{'tough':[1,2,['hello']]}]}]}"
      ],
      "execution_count": null,
      "outputs": []
    },
    {
      "cell_type": "markdown",
      "metadata": {
        "id": "Xk84ULBEcBZJ"
      },
      "source": [
        "Is sorting a dictionary possible? Why or why not?<br><br>"
      ]
    },
    {
      "cell_type": "markdown",
      "metadata": {
        "id": "iozXKIu9cBZJ"
      },
      "source": [
        "## Tuples"
      ]
    },
    {
      "cell_type": "markdown",
      "metadata": {
        "id": "eqX8TWt_cBZK"
      },
      "source": [
        "What is the major difference between tuples and lists?<br><br>"
      ]
    },
    {
      "cell_type": "markdown",
      "metadata": {
        "id": "Plrl6LBMcBZM"
      },
      "source": [
        "How do you create a tuple?<br><br>"
      ]
    },
    {
      "cell_type": "markdown",
      "metadata": {
        "id": "Cy2trzRNcBZM"
      },
      "source": [
        "## Sets "
      ]
    },
    {
      "cell_type": "markdown",
      "metadata": {
        "id": "NRc8xn7JcBZN"
      },
      "source": [
        "What is unique about a set?<br><br>"
      ]
    },
    {
      "cell_type": "markdown",
      "metadata": {
        "id": "Y2mSJT7bcBZO"
      },
      "source": [
        "Use a set to find the unique values of the list below:"
      ]
    },
    {
      "cell_type": "code",
      "metadata": {
        "collapsed": true,
        "id": "y7phszYycBZO"
      },
      "source": [
        "list5 = [1,2,2,33,4,4,11,22,3,3,2]\n",
        "\n",
        "\n"
      ],
      "execution_count": null,
      "outputs": []
    },
    {
      "cell_type": "markdown",
      "metadata": {
        "id": "ot0FnHF0cBZP"
      },
      "source": [
        "## Booleans"
      ]
    },
    {
      "cell_type": "markdown",
      "metadata": {
        "id": "B02AHvQycBZP"
      },
      "source": [
        "What will be the resulting Boolean of the following pieces of code (answer fist then check by typing it in!)"
      ]
    },
    {
      "cell_type": "code",
      "metadata": {
        "collapsed": true,
        "id": "9eMthx1FcBZQ"
      },
      "source": [
        "# What the outcome?\n",
        "2 > 3"
      ],
      "execution_count": null,
      "outputs": []
    }
  ]
}