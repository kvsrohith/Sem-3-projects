{
  "nbformat": 4,
  "nbformat_minor": 0,
  "metadata": {
    "colab": {
      "provenance": []
    },
    "kernelspec": {
      "name": "python3",
      "display_name": "Python 3"
    },
    "language_info": {
      "name": "python"
    }
  },
  "cells": [
    {
      "cell_type": "markdown",
      "metadata": {
        "id": "uIuWzucxmFZb"
      },
      "source": [
        "##Knowlwdge Check - 2\n",
        "\n",
        "**Answer the following questions, download the .ipynb file and submit the file.**\n",
        "* Name : KANDIKATTU VENKATA SAI ROHITH\n",
        "* Sesion : 6:10 P.M. - 9:00 P.M.\n",
        "* CRN : 72541"
      ]
    },
    {
      "cell_type": "markdown",
      "metadata": {
        "id": "k3zhx1CTxv7h"
      },
      "source": [
        "### Lists"
      ]
    },
    {
      "cell_type": "markdown",
      "metadata": {
        "id": "5fo8YXJQZcDk"
      },
      "source": [
        "1 - Create a **list** of **lists** of integers elements"
      ]
    },
    {
      "cell_type": "code",
      "metadata": {
        "id": "pV543zCX-gWr"
      },
      "source": [
        "list_of_lists = [\n",
        "    [91,92,93],\n",
        "    [101,102,103],\n",
        "]\n"
      ],
      "execution_count": null,
      "outputs": []
    },
    {
      "cell_type": "markdown",
      "metadata": {
        "id": "uF2uLP_1H5iP"
      },
      "source": [
        "2 - Create a **list** of **lists** of Text elements"
      ]
    },
    {
      "cell_type": "code",
      "metadata": {
        "id": "CQV73Bas-i81"
      },
      "source": [
        "list_of_lists = [\n",
        "    [\"Mahesh\",\"Ileana\",\"Pokiri\"],\n",
        "    [\"AlluArjun\",\"Hansika\",\"Desamuduru\"],\n",
        "    [\"NTR\",\"Kajal\",\"Temper\"],\n",
        "]"
      ],
      "execution_count": null,
      "outputs": []
    },
    {
      "cell_type": "markdown",
      "metadata": {
        "id": "zElfh4_nZ6Oa"
      },
      "source": [
        "3 - Construct a list composed of the elements from previous list, starting at  **position 2 to 5** using **slicing**"
      ]
    },
    {
      "cell_type": "code",
      "metadata": {
        "id": "mRIHDUSC-mYz",
        "outputId": "9032ec4b-0658-4ee6-f60a-b26ed1801743",
        "colab": {
          "base_uri": "https://localhost:8080/"
        }
      },
      "source": [
        "\n",
        "list_of_lists = [\n",
        "    [\"Mahesh\",\"Ileana\",\"Pokiri\"],\n",
        "    [\"AlluArjun\",\"Hansika\",\"Desamuduru\"],\n",
        "    [\"NTR\",\"Kajal\",\"Temper\"],\n",
        "]\n",
        "new_list = []\n",
        "for sublist in list_of_lists:\n",
        "  new_sublist= sublist[2:5]\n",
        "  new_list.append(new_sublist)\n",
        "\n",
        "  print(new_list)\n"
      ],
      "execution_count": null,
      "outputs": [
        {
          "output_type": "stream",
          "name": "stdout",
          "text": [
            "[['Pokiri']]\n",
            "[['Pokiri'], ['Desamuduru']]\n",
            "[['Pokiri'], ['Desamuduru'], ['Temper']]\n"
          ]
        }
      ]
    },
    {
      "cell_type": "markdown",
      "metadata": {
        "id": "oc9Z93gp-rou"
      },
      "source": [
        "#### More questions on List"
      ]
    },
    {
      "cell_type": "markdown",
      "metadata": {
        "id": "QryzobLoaNbE"
      },
      "source": [
        "4 - Reassign **hello** in this list to say **goodbye** instead."
      ]
    },
    {
      "cell_type": "code",
      "source": [],
      "metadata": {
        "id": "cPvxzWlv5b7y"
      },
      "execution_count": null,
      "outputs": []
    },
    {
      "cell_type": "code",
      "metadata": {
        "id": "g2D5IysQyBc6",
        "outputId": "ed2a55d5-efdf-48ad-bd44-b3fe18350997",
        "colab": {
          "base_uri": "https://localhost:8080/"
        }
      },
      "source": [
        "list1 = [1, 2, 3,'hello']\n",
        "list1[3] = 'goodbye'\n",
        "print(list1)\n",
        "\n"
      ],
      "execution_count": null,
      "outputs": [
        {
          "output_type": "stream",
          "name": "stdout",
          "text": [
            "[1, 2, 3, 'goodbye']\n"
          ]
        }
      ]
    },
    {
      "cell_type": "markdown",
      "metadata": {
        "id": "CnFzGM4JaeN8"
      },
      "source": [
        "5 - Sort the list in **asending order**."
      ]
    },
    {
      "cell_type": "code",
      "metadata": {
        "id": "jrGAtWUhyOcK",
        "outputId": "ba2746f4-3ba4-410b-b670-a0e08d6392ca",
        "colab": {
          "base_uri": "https://localhost:8080/"
        }
      },
      "source": [
        "list4 = [5,3,4,6,1]\n",
        "list4.sort()\n",
        "print(list4)\n"
      ],
      "execution_count": null,
      "outputs": [
        {
          "output_type": "stream",
          "name": "stdout",
          "text": [
            "[1, 3, 4, 5, 6]\n"
          ]
        }
      ]
    },
    {
      "cell_type": "markdown",
      "metadata": {
        "id": "panBAgwLa3P3"
      },
      "source": [
        "6 - Add the item **Raya** to the list after **Kung Fu Panda 2**"
      ]
    },
    {
      "cell_type": "code",
      "metadata": {
        "id": "iYMjLR0VyUGw",
        "outputId": "e3adb8ab-060c-4853-c8b0-4d75bcfb29a3",
        "colab": {
          "base_uri": "https://localhost:8080/"
        }
      },
      "source": [
        "netflix2021 = ['Kung Fu Panda 2', 'The Mitchells vs. the Machines', 'We Can Be Heroes']\n",
        "netflix2021.insert(netflix2021.index('Kung Fu Panda 2') + 1,'Raya')\n",
        "print(netflix2021)"
      ],
      "execution_count": null,
      "outputs": [
        {
          "output_type": "stream",
          "name": "stdout",
          "text": [
            "['Kung Fu Panda 2', 'Raya', 'The Mitchells vs. the Machines', 'We Can Be Heroes']\n"
          ]
        }
      ]
    },
    {
      "cell_type": "markdown",
      "metadata": {
        "id": "LmecjLDXbKue"
      },
      "source": [
        "7 - Concatinate two lists\n",
        "      \n",
        "      \n",
        "      List1 = [1, 2, 3, 4]\n",
        "      List2 = [5,6,7,8,9,10]'''"
      ]
    },
    {
      "cell_type": "code",
      "metadata": {
        "id": "MLiPEiCzzKDi",
        "outputId": "f1b337db-5ed4-40f6-ed4c-b3d91569b06a",
        "colab": {
          "base_uri": "https://localhost:8080/"
        }
      },
      "source": [
        "from typing_extensions import Concatenate\n",
        "list1 = [1,2,3,4]\n",
        "list2 = [5,6,7,8,9,10]\n",
        "Concatenated_list = list1 + list2\n",
        "print(Concatenated_list)\n"
      ],
      "execution_count": null,
      "outputs": [
        {
          "output_type": "stream",
          "name": "stdout",
          "text": [
            "[1, 2, 3, 4, 5, 6, 7, 8, 9, 10]\n"
          ]
        }
      ]
    },
    {
      "cell_type": "markdown",
      "metadata": {
        "id": "ode7JNakbbM8"
      },
      "source": [
        "8 - Use **range** function to creat a list with 10 elements"
      ]
    },
    {
      "cell_type": "code",
      "metadata": {
        "id": "xr3hVtJuzpIX",
        "outputId": "21655c82-20a7-4b9a-fe53-a4151ebc8521",
        "colab": {
          "base_uri": "https://localhost:8080/"
        }
      },
      "source": [
        "my_list= list(range(10))\n",
        "print(my_list)"
      ],
      "execution_count": null,
      "outputs": [
        {
          "output_type": "stream",
          "name": "stdout",
          "text": [
            "[0, 1, 2, 3, 4, 5, 6, 7, 8, 9]\n"
          ]
        }
      ]
    },
    {
      "cell_type": "markdown",
      "metadata": {
        "id": "kMzqCHBEbkJ5"
      },
      "source": [
        "9 - Extract **hello** from the below list"
      ]
    },
    {
      "cell_type": "code",
      "metadata": {
        "colab": {
          "base_uri": "https://localhost:8080/"
        },
        "id": "k5yef-sQ2Cw0",
        "outputId": "fa1bc0e5-51a8-40a4-c94e-d262799f3250"
      },
      "source": [
        "list3 = [1,2,[3,4,'hello']]\n",
        "extracted_element = list3[2][2]\n",
        "print(extracted_element)"
      ],
      "execution_count": null,
      "outputs": [
        {
          "output_type": "stream",
          "name": "stdout",
          "text": [
            "hello\n"
          ]
        }
      ]
    },
    {
      "cell_type": "markdown",
      "metadata": {
        "id": "Vpkp1e-B0uQw"
      },
      "source": [
        "###Tuples"
      ]
    },
    {
      "cell_type": "markdown",
      "metadata": {
        "id": "vFif0LgbbsBl"
      },
      "source": [
        "10 - What is the major difference between **tuples** and **lists**?"
      ]
    },
    {
      "cell_type": "code",
      "metadata": {
        "id": "6wF1W42i0thI"
      },
      "source": [
        "#Tuples and lists are both used to store collections of data in python\n",
        "#lists : Lists are mutable which means you can add  or remove elements after creating a list. You can also modify elements or append new elements and delete elements from an existed list\n",
        "#Tuples: tuples are immutable which means once a tuple is created you can not add, remove or modify the elements in a tuple. You can only create a new tuple using modified elements.\n",
        "#example : Lists are created using square brackets - my_list[1,2,3], whereas tuples use parenthesis - my_tuple(1,2,3) or my_tuple= 1, 2, 3"
      ],
      "execution_count": null,
      "outputs": []
    },
    {
      "cell_type": "markdown",
      "metadata": {
        "id": "mK8uc0fpb6k1"
      },
      "source": [
        "11 - From the given tuple get the **item at index 3**"
      ]
    },
    {
      "cell_type": "code",
      "metadata": {
        "id": "XBH2Q0ac0xrS",
        "outputId": "80bc1b93-2e58-4c4d-bd78-6c6b926c6600",
        "colab": {
          "base_uri": "https://localhost:8080/"
        }
      },
      "source": [
        "t1 = ('New York', 'Texas', 'California', 'Florida', ' New York')\n",
        "item_at_index3 = t1[3]\n",
        "print(item_at_index3)\n",
        "\n"
      ],
      "execution_count": null,
      "outputs": [
        {
          "output_type": "stream",
          "name": "stdout",
          "text": [
            "Florida\n"
          ]
        }
      ]
    },
    {
      "cell_type": "markdown",
      "metadata": {
        "id": "RTUfCPdgcE1I"
      },
      "source": [
        "12 - From the given tuple count how many times **New York** appeared"
      ]
    },
    {
      "cell_type": "code",
      "metadata": {
        "id": "aw98N1HC87An",
        "outputId": "858b7642-40dc-48eb-8597-c444973066cc",
        "colab": {
          "base_uri": "https://localhost:8080/"
        }
      },
      "source": [
        "t1 = ('New York', 'Texas', 'California', 'Florida', 'New York')\n",
        "count_new_york= t1.count('New York')\n",
        "\n",
        "print(count_new_york)\n"
      ],
      "execution_count": null,
      "outputs": [
        {
          "output_type": "stream",
          "name": "stdout",
          "text": [
            "2\n"
          ]
        }
      ]
    },
    {
      "cell_type": "markdown",
      "metadata": {
        "id": "Y3Vd8t4s3JU8"
      },
      "source": [
        "### Dictionaries"
      ]
    },
    {
      "cell_type": "markdown",
      "metadata": {
        "id": "yIX3FE9XcPkl"
      },
      "source": [
        "13 - Create a dictionary of Stores and their locations (boroughs)"
      ]
    },
    {
      "cell_type": "code",
      "metadata": {
        "id": "ORsqXN86-7CE"
      },
      "source": [
        "Store_locations = {\n",
        "    \"Store1\" : \"Manhattan\",\n",
        "    \"Store2\" : \"Brooklyn\",\n",
        "    \"Store3\" : \"Bronx\",\n",
        "    \"Store4\" : \"Queens\",\n",
        "    \"Store5\" : \"Staten Island\"\n",
        "}\n",
        "\n",
        "\n"
      ],
      "execution_count": null,
      "outputs": []
    },
    {
      "cell_type": "markdown",
      "metadata": {
        "id": "4rTJkarN_Bln"
      },
      "source": [
        "#### More on Dictionaries"
      ]
    },
    {
      "cell_type": "markdown",
      "metadata": {
        "id": "nyTCMrCechnV"
      },
      "source": [
        "15 - Clear the items from following dictionary"
      ]
    },
    {
      "cell_type": "code",
      "metadata": {
        "id": "_LanzYOb3LbE",
        "outputId": "906435c0-80ea-49e2-d4bb-a0c40a34c5cc",
        "colab": {
          "base_uri": "https://localhost:8080/"
        }
      },
      "source": [
        "my_dict = {'Ahmad': 1, 'Jane': 42}\n",
        "my_dict.clear()\n",
        "print(my_dict)"
      ],
      "execution_count": null,
      "outputs": [
        {
          "output_type": "stream",
          "name": "stdout",
          "text": [
            "{}\n"
          ]
        }
      ]
    },
    {
      "cell_type": "markdown",
      "metadata": {
        "id": "dg2UnGd-cqTy"
      },
      "source": [
        "16 - Call values by their  **key**"
      ]
    },
    {
      "cell_type": "code",
      "metadata": {
        "id": "MbiVhMhW36gO",
        "outputId": "5956ab54-0a93-45ec-f356-22e2763fbc83",
        "colab": {
          "base_uri": "https://localhost:8080/"
        }
      },
      "source": [
        "my_dict1 = {'id1':'Vivek','id2':'Alexa', 'id3':'John','id4':'Juan', 'id5':'Julia'}\n",
        "\n",
        "value1 = my_dict1['id1']\n",
        "value2 = my_dict1['id3']\n",
        "value3 = my_dict1['id5']\n",
        "\n",
        "print(\"Value for 'id1' :\", value1)\n",
        "print(\"Value for 'id2' :\", value2)\n",
        "print(\"Value for 'id3' :\", value3)"
      ],
      "execution_count": null,
      "outputs": [
        {
          "output_type": "stream",
          "name": "stdout",
          "text": [
            "Value for 'id1' : Vivek\n",
            "Value for 'id2' : John\n",
            "Value for 'id3' : Julia\n"
          ]
        }
      ]
    },
    {
      "cell_type": "markdown",
      "metadata": {
        "id": "HEtHYCBDcygz"
      },
      "source": [
        "17 - Get the value **item2** from the following dictionary"
      ]
    },
    {
      "cell_type": "code",
      "metadata": {
        "id": "MRTWv_F66xlx",
        "outputId": "0485377c-fc53-4f88-917f-b0676ba043bb",
        "colab": {
          "base_uri": "https://localhost:8080/"
        }
      },
      "source": [
        "my_dict2 = {'key1':123,'key2':[12,23,33],'key3':['item0','item1','item2']}\n",
        "value_item2 = my_dict2['key3'][2]\n",
        "print(\"Value of 'item2':\", value_item2)\n"
      ],
      "execution_count": null,
      "outputs": [
        {
          "output_type": "stream",
          "name": "stdout",
          "text": [
            "Value of 'item2': item2\n"
          ]
        }
      ]
    },
    {
      "cell_type": "markdown",
      "metadata": {
        "id": "xHfeL-T1c453"
      },
      "source": [
        "18 - Call methods on values to convert into **UPPER** case"
      ]
    },
    {
      "cell_type": "code",
      "metadata": {
        "id": "csbuvSay8XTb",
        "outputId": "753faea6-02f4-4af4-cde4-5177b8e9e9c3",
        "colab": {
          "base_uri": "https://localhost:8080/"
        }
      },
      "source": [
        "my_dict1 = {'id1':'Vivek','id2':'Alexa', 'id3':'John','id4':'Juan', 'id5':'Julia'}\n",
        "u = {key:value.upper() for key,value in my_dict1.items()}\n",
        "print(u)"
      ],
      "execution_count": null,
      "outputs": [
        {
          "output_type": "stream",
          "name": "stdout",
          "text": [
            "{'id1': 'VIVEK', 'id2': 'ALEXA', 'id3': 'JOHN', 'id4': 'JUAN', 'id5': 'JULIA'}\n"
          ]
        }
      ]
    },
    {
      "cell_type": "markdown",
      "metadata": {
        "id": "tNK4My2MdEnQ"
      },
      "source": [
        "19 - Use method to return a list of all **keys**"
      ]
    },
    {
      "cell_type": "code",
      "metadata": {
        "id": "gP4e7cYW8rEQ",
        "outputId": "8327ec99-f1a1-401a-b34c-2a19b10531d0",
        "colab": {
          "base_uri": "https://localhost:8080/"
        }
      },
      "source": [
        "d ={'k1':1,'k2':2, 'k3':3, 'k4':4}\n",
        "key_list = list(d.keys())\n",
        "print(key_list)\n"
      ],
      "execution_count": null,
      "outputs": [
        {
          "output_type": "stream",
          "name": "stdout",
          "text": [
            "['k1', 'k2', 'k3', 'k4']\n"
          ]
        }
      ]
    },
    {
      "cell_type": "markdown",
      "metadata": {
        "id": "yzQzYcMpdLLb"
      },
      "source": [
        "20 -Use method to return a list of all **values**"
      ]
    },
    {
      "cell_type": "code",
      "metadata": {
        "id": "Wbwoa5UD8xHK",
        "outputId": "818dc629-d5a2-4c6f-a4e0-ba8a195686a6",
        "colab": {
          "base_uri": "https://localhost:8080/"
        }
      },
      "source": [
        "d ={'k1':1,'k2':2, 'k3':3, 'k4':4}\n",
        "\n",
        "value_list = list(d.values())\n",
        "print(value_list)"
      ],
      "execution_count": null,
      "outputs": [
        {
          "output_type": "stream",
          "name": "stdout",
          "text": [
            "[1, 2, 3, 4]\n"
          ]
        }
      ]
    },
    {
      "cell_type": "markdown",
      "metadata": {
        "id": "jXU5VenxzlCd"
      },
      "source": [
        "### Branching  staements\n",
        "if - elif -  else"
      ]
    },
    {
      "cell_type": "markdown",
      "metadata": {
        "id": "EBvh7mBzxy5-"
      },
      "source": [
        "24- Given three values a, b, c, check which value is minimum and remove that value from other values. Write an algorithm.\n",
        "\n",
        "        Ex: If the input is:\n",
        "        a = 130\n",
        "        b = 50\n",
        "        c = 130\n",
        "        The output is:\n",
        "        a = 80\n",
        "        b = 0\n",
        "        c = 80"
      ]
    },
    {
      "cell_type": "code",
      "metadata": {
        "id": "rvkqUdjLz1ra"
      },
      "source": [
        "#Input : a, b, c\n",
        "#min_value = min(a,b,c)\n",
        "#a = a - min_value\n",
        "#b = b - min_value\n",
        "#c = c - min_value\n",
        "\n",
        "#Output : a,b,c"
      ],
      "execution_count": null,
      "outputs": []
    },
    {
      "cell_type": "markdown",
      "metadata": {
        "id": "CvYvK_Gxz2gb"
      },
      "source": [
        "25 - Giving change to customer: Total change amount as an integer input, and output the change using the fewest coins,\n",
        "\n",
        "\n",
        "      If the input is: 45\n",
        "      The output is:\n",
        "                    1 Quarter\n",
        "                    2 Dimes\n",
        "\n",
        "      Input: 156\n",
        "      The output is:\n",
        "                    1 Dollar\n",
        "                    2 Quarters\n",
        "                    1 Nickel\n",
        "                    1 Penny"
      ]
    },
    {
      "cell_type": "code",
      "metadata": {
        "id": "wptHro-c35NL",
        "outputId": "43f1c004-7da8-4446-8d05-63c98b82d3fc",
        "colab": {
          "base_uri": "https://localhost:8080/"
        }
      },
      "source": [
        "change_amount = int(input(\"Enter the total change amount as an integer: \"))\n",
        "\n",
        "denominations = [100, 25, 10, 5, 1]  # Dollar, Quarter, Dime, Nickel, Penny\n",
        "\n",
        "coin_counts = {100: 0, 25: 0, 10: 0, 5: 0, 1: 0}\n",
        "\n",
        "for denomination in denominations:\n",
        "    count = change_amount // denomination\n",
        "    if count > 0:\n",
        "        coin_counts[denomination] = count\n",
        "        change_amount -= count * denomination\n",
        "\n",
        "for denomination, count in coin_counts.items():\n",
        "    if count > 0:\n",
        "        if denomination == 100:\n",
        "            print(f\"{count} Dollar{'s' if count > 1 else ''}\")\n",
        "        elif denomination == 25:\n",
        "            print(f\"{count} Quarter{'s' if count > 1 else ''}\")\n",
        "        elif denomination == 10:\n",
        "            print(f\"{count} Dime{'s' if count > 1 else ''}\")\n",
        "        elif denomination == 5:\n",
        "            print(f\"{count} Nickel{'s' if count > 1 else ''}\")\n",
        "        elif denomination == 1:\n",
        "            print(f\"{count} Penny{'s' if count > 1 else ''}\")\n"
      ],
      "execution_count": null,
      "outputs": [
        {
          "output_type": "stream",
          "name": "stdout",
          "text": [
            "Enter the total change amount as an integer: 52\n",
            "2 Quarters\n",
            "2 Pennys\n"
          ]
        }
      ]
    },
    {
      "cell_type": "markdown",
      "metadata": {
        "id": "ODYKstn3z2XL"
      },
      "source": [
        "26 - Write a program that takes in a year and determines whether that year is a leap year.\n",
        "\n",
        "      Ex: If the input is:  1712\n",
        "          the output is: 1712 - leap year\n",
        "\n",
        "          Note : 1) The year must be divisible by 4\n",
        "                  2) If the year is a century year (1700, 1800, etc.), the year must be evenly divisible by 400"
      ]
    },
    {
      "cell_type": "code",
      "metadata": {
        "id": "lpqlkM_R56wf",
        "outputId": "7669d46d-2469-4e59-ddb3-35c90bcb5fcd",
        "colab": {
          "base_uri": "https://localhost:8080/"
        }
      },
      "source": [
        "a = int(input('enter a year'))\n",
        "if(a%4==0 and a%100!=0 or a%400==0):\n",
        "    print(\"The year is a leap year!\")\n",
        "else:\n",
        "    print(\"The year isn't a leap year!\")"
      ],
      "execution_count": null,
      "outputs": [
        {
          "output_type": "stream",
          "name": "stdout",
          "text": [
            "enter a year2027\n",
            "The year isn't a leap year!\n"
          ]
        }
      ]
    },
    {
      "cell_type": "markdown",
      "metadata": {
        "id": "BM0zCQmi7pCv"
      },
      "source": [
        "### Loops"
      ]
    },
    {
      "cell_type": "markdown",
      "metadata": {
        "id": "H4YqppqW-wmf"
      },
      "source": [
        "27 - Write a program that takes a simple password and makes it stronger by replacing certain characters as per list below and appending \"!\" to the end of the input string.\n",
        "\n",
        "        i becomes 1\n",
        "        a becomes @\n",
        "        m becomes M\n",
        "        B becomes 8\n",
        "        s becomes $\n",
        "        z becomes 2\n",
        "        o becomes 0\n",
        "        \n",
        "        If the input is: mypassword\n",
        "        the output is: Myp@$$w0rd!"
      ]
    },
    {
      "cell_type": "code",
      "metadata": {
        "id": "4qjMTqb7_oss",
        "outputId": "17b637ec-410a-4609-9663-2062d9be979b",
        "colab": {
          "base_uri": "https://localhost:8080/"
        }
      },
      "source": [
        "char_map = {\n",
        "    'i': '1',\n",
        "    'a': '@',\n",
        "    'm': 'M',\n",
        "    'B': '8',\n",
        "    's': '$',\n",
        "    'z': '2',\n",
        "    'o': '0'\n",
        "}\n",
        "input_password = input(\"Enter your password: \")\n",
        "\n",
        "\n",
        "strengthened_password = \"\"\n",
        "\n",
        "for char in input_password:\n",
        "    if char.lower() in char_map:\n",
        "        strengthened_password += char_map[char.lower()]\n",
        "    else:\n",
        "        strengthened_password += char\n",
        "\n",
        "strengthened_password += \"!\"\n",
        "\n",
        "print(\"Strengthened password:\", strengthened_password)\n",
        "\n"
      ],
      "execution_count": null,
      "outputs": [
        {
          "output_type": "stream",
          "name": "stdout",
          "text": [
            "Enter your password: 0929@Rkvs\n",
            "Strengthened password: 0929@Rkv$!\n"
          ]
        }
      ]
    },
    {
      "cell_type": "markdown",
      "metadata": {
        "id": "lZIJMR6FAKWH"
      },
      "source": [
        "28 - Write a program to get 10 multiples of anynumber given.\n",
        "\n",
        "    Example: if Number = 5\n",
        "    Output :5,10,15,20,25,30,35,40,45,50\n",
        "\n",
        "\n",
        "\n"
      ]
    },
    {
      "cell_type": "code",
      "metadata": {
        "id": "Her9B6KaAID7",
        "outputId": "6735360e-9e50-4f73-8416-59af5e27caf2",
        "colab": {
          "base_uri": "https://localhost:8080/"
        }
      },
      "source": [
        "a = int(input('enter a number'))\n",
        "for i in range(a, 11*a, a):\n",
        "    print(i)"
      ],
      "execution_count": null,
      "outputs": [
        {
          "output_type": "stream",
          "name": "stdout",
          "text": [
            "enter a number5\n",
            "5\n",
            "10\n",
            "15\n",
            "20\n",
            "25\n",
            "30\n",
            "35\n",
            "40\n",
            "45\n",
            "50\n"
          ]
        }
      ]
    }
  ]
}