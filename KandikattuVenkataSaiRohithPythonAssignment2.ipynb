{
  "nbformat": 4,
  "nbformat_minor": 0,
  "metadata": {
    "kernelspec": {
      "display_name": "Python 3",
      "language": "python",
      "name": "python3"
    },
    "language_info": {
      "codemirror_mode": {
        "name": "ipython",
        "version": 3
      },
      "file_extension": ".py",
      "mimetype": "text/x-python",
      "name": "python",
      "nbconvert_exporter": "python",
      "pygments_lexer": "ipython3",
      "version": "3.6.6"
    },
    "colab": {
      "provenance": []
    }
  },
  "cells": [
    {
      "cell_type": "markdown",
      "metadata": {
        "collapsed": true,
        "id": "lNteKLPELwaa"
      },
      "source": [
        "##Assignment - 2\n",
        "\n",
        "**Answer the following questions, download the .ipynb file and submit the file.**\n",
        "* Name : KANDIKATTU VENKATA SAI ROHITH\n",
        "* Sesion : 6PM - 9PM\n",
        "* CRN : 72541\n"
      ]
    },
    {
      "cell_type": "markdown",
      "metadata": {
        "id": "aCraHFMeLwab"
      },
      "source": [
        "##Question 1\n",
        "**Use <code>for</code>, .split(), and <code>if</code> to create a Statement that will print out words that start with 's':**"
      ]
    },
    {
      "cell_type": "code",
      "metadata": {
        "collapsed": true,
        "id": "pyOIZ42CLwac"
      },
      "source": [
        "st = 'Print only the words that start with s in this sentence'"
      ],
      "execution_count": null,
      "outputs": []
    },
    {
      "cell_type": "code",
      "metadata": {
        "collapsed": true,
        "id": "z7DCnwCkLwad",
        "outputId": "7882118c-8b82-4803-b472-0487c4a6bb53",
        "colab": {
          "base_uri": "https://localhost:8080/"
        }
      },
      "source": [
        "#Code here\n",
        "st = 'Print only the words that start with s in this sentence'\n",
        "words = st.split()\n",
        "for word in words:\n",
        "  if word[0].lower() == 's':\n",
        "    print(word)"
      ],
      "execution_count": 4,
      "outputs": [
        {
          "output_type": "stream",
          "name": "stdout",
          "text": [
            "start\n",
            "s\n",
            "sentence\n"
          ]
        }
      ]
    },
    {
      "cell_type": "markdown",
      "metadata": {
        "id": "CfbgkKctLwad"
      },
      "source": [
        "##Question 2\n",
        "**Use range() to print all the even numbers from 0 to 10.**"
      ]
    },
    {
      "cell_type": "code",
      "metadata": {
        "collapsed": true,
        "id": "wBejA2YSLwae",
        "outputId": "bf8a7962-8ad0-4506-ed6f-ae919e58403a",
        "colab": {
          "base_uri": "https://localhost:8080/"
        }
      },
      "source": [
        "#Code Here\n",
        "for number in range(0, 11, 2):  # Start at 0, end at 10 (exclusive), step by 2\n",
        "    print(number)\n"
      ],
      "execution_count": 5,
      "outputs": [
        {
          "output_type": "stream",
          "name": "stdout",
          "text": [
            "0\n",
            "2\n",
            "4\n",
            "6\n",
            "8\n",
            "10\n"
          ]
        }
      ]
    },
    {
      "cell_type": "markdown",
      "metadata": {
        "id": "AfUtq6olLwaf"
      },
      "source": [
        "Question 3\n",
        "**Use a List Comprehension to create a list of all numbers between 1 and 50 that are divisible by 3.**"
      ]
    },
    {
      "cell_type": "code",
      "metadata": {
        "collapsed": true,
        "id": "yKoVdHtQLwai"
      },
      "source": [
        "#Code in this cell\n",
        "divisible_by_3 = [number for number in range(1, 51) if number % 3 == 0]\n"
      ],
      "execution_count": 6,
      "outputs": []
    },
    {
      "cell_type": "markdown",
      "metadata": {
        "id": "8UFY5MZoLwaj"
      },
      "source": [
        "## Question 4\n",
        "**Check the length of each word in the string and if the length of a word is even print \"even!\"**"
      ]
    },
    {
      "cell_type": "code",
      "metadata": {
        "collapsed": true,
        "id": "2WeDImMSLwaj"
      },
      "source": [
        "st = 'Print every word in this sentence that has an even number of letters'"
      ],
      "execution_count": null,
      "outputs": []
    },
    {
      "cell_type": "code",
      "metadata": {
        "collapsed": true,
        "id": "V049TIvhLwak",
        "outputId": "cd5e7c79-2e54-405c-88ac-c98277ba93bf",
        "colab": {
          "base_uri": "https://localhost:8080/"
        }
      },
      "source": [
        "#Code in this cell\n",
        "my_string = 'Check the length of each word in the string and if the length of a word is even print \"even!\"'\n",
        "\n",
        "# Split the string into words\n",
        "words = my_string.split()\n",
        "\n",
        "# Iterate through the words and check the length\n",
        "for word in words:\n",
        "    if len(word) % 2 == 0:\n",
        "        print(f'The word \"{word}\" has an even length!')\n"
      ],
      "execution_count": 7,
      "outputs": [
        {
          "output_type": "stream",
          "name": "stdout",
          "text": [
            "The word \"length\" has an even length!\n",
            "The word \"of\" has an even length!\n",
            "The word \"each\" has an even length!\n",
            "The word \"word\" has an even length!\n",
            "The word \"in\" has an even length!\n",
            "The word \"string\" has an even length!\n",
            "The word \"if\" has an even length!\n",
            "The word \"length\" has an even length!\n",
            "The word \"of\" has an even length!\n",
            "The word \"word\" has an even length!\n",
            "The word \"is\" has an even length!\n",
            "The word \"even\" has an even length!\n"
          ]
        }
      ]
    },
    {
      "cell_type": "markdown",
      "metadata": {
        "id": "vClQ-XDdLwak"
      },
      "source": [
        "##Question 5\n",
        "**Write a program that prints the integers from 1 to 100. But for multiples of three print \"3*\" instead of the number, and for the multiples of five print \"5*\". For numbers which are multiples of both three and five print \"3* 5*\".**"
      ]
    },
    {
      "cell_type": "code",
      "metadata": {
        "collapsed": true,
        "id": "dYASF9IOLwak",
        "outputId": "068f3397-b444-4351-c834-e7e72116b71a",
        "colab": {
          "base_uri": "https://localhost:8080/"
        }
      },
      "source": [
        "#Code in this cell\n",
        "for num in range(1, 101):\n",
        "    output = \"\"\n",
        "\n",
        "    if num % 3 == 0:\n",
        "        output += \"3*\"\n",
        "\n",
        "    if num % 5 == 0:\n",
        "        output += \"5*\"\n",
        "\n",
        "    if output == \"\":\n",
        "        output = num\n",
        "\n",
        "    print(output)\n"
      ],
      "execution_count": 9,
      "outputs": [
        {
          "output_type": "stream",
          "name": "stdout",
          "text": [
            "1\n",
            "2\n",
            "3*\n",
            "4\n",
            "5*\n",
            "3*\n",
            "7\n",
            "8\n",
            "3*\n",
            "5*\n",
            "11\n",
            "3*\n",
            "13\n",
            "14\n",
            "3*5*\n",
            "16\n",
            "17\n",
            "3*\n",
            "19\n",
            "5*\n",
            "3*\n",
            "22\n",
            "23\n",
            "3*\n",
            "5*\n",
            "26\n",
            "3*\n",
            "28\n",
            "29\n",
            "3*5*\n",
            "31\n",
            "32\n",
            "3*\n",
            "34\n",
            "5*\n",
            "3*\n",
            "37\n",
            "38\n",
            "3*\n",
            "5*\n",
            "41\n",
            "3*\n",
            "43\n",
            "44\n",
            "3*5*\n",
            "46\n",
            "47\n",
            "3*\n",
            "49\n",
            "5*\n",
            "3*\n",
            "52\n",
            "53\n",
            "3*\n",
            "5*\n",
            "56\n",
            "3*\n",
            "58\n",
            "59\n",
            "3*5*\n",
            "61\n",
            "62\n",
            "3*\n",
            "64\n",
            "5*\n",
            "3*\n",
            "67\n",
            "68\n",
            "3*\n",
            "5*\n",
            "71\n",
            "3*\n",
            "73\n",
            "74\n",
            "3*5*\n",
            "76\n",
            "77\n",
            "3*\n",
            "79\n",
            "5*\n",
            "3*\n",
            "82\n",
            "83\n",
            "3*\n",
            "5*\n",
            "86\n",
            "3*\n",
            "88\n",
            "89\n",
            "3*5*\n",
            "91\n",
            "92\n",
            "3*\n",
            "94\n",
            "5*\n",
            "3*\n",
            "97\n",
            "98\n",
            "3*\n",
            "5*\n"
          ]
        }
      ]
    },
    {
      "cell_type": "code",
      "metadata": {
        "id": "QeKdAoN3NEHw"
      },
      "source": [],
      "execution_count": null,
      "outputs": []
    }
  ]
}