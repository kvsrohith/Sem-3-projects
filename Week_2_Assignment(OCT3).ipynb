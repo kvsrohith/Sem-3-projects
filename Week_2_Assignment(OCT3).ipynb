{
  "nbformat": 4,
  "nbformat_minor": 0,
  "metadata": {
    "kernelspec": {
      "display_name": "Python 3",
      "language": "python",
      "name": "python3"
    },
    "language_info": {
      "codemirror_mode": {
        "name": "ipython",
        "version": 3
      },
      "file_extension": ".py",
      "mimetype": "text/x-python",
      "name": "python",
      "nbconvert_exporter": "python",
      "pygments_lexer": "ipython3",
      "version": "3.6.6"
    },
    "colab": {
      "name": "Week 2 Assignment.ipynb",
      "provenance": [],
      "collapsed_sections": []
    }
  },
  "cells": [
    {
      "cell_type": "markdown",
      "metadata": {
        "collapsed": true,
        "id": "lNteKLPELwaa"
      },
      "source": [
        "##Assignment - 2\n",
        "\n",
        "**Answer the following questions, download the .ipynb file and submit the file.**\n",
        "* Name : \n",
        "* Sesion :\n",
        "* CRN :\n"
      ]
    },
    {
      "cell_type": "markdown",
      "metadata": {
        "id": "aCraHFMeLwab"
      },
      "source": [
        "##Question 1\n",
        "**Use <code>for</code>, .split(), and <code>if</code> to create a Statement that will print out words that start with 's':**"
      ]
    },
    {
      "cell_type": "code",
      "metadata": {
        "collapsed": true,
        "id": "pyOIZ42CLwac"
      },
      "source": [
        "st = 'Print only the words that start with s in this sentence'"
      ],
      "execution_count": null,
      "outputs": []
    },
    {
      "cell_type": "code",
      "metadata": {
        "collapsed": true,
        "id": "z7DCnwCkLwad"
      },
      "source": [
        "#Code here"
      ],
      "execution_count": null,
      "outputs": []
    },
    {
      "cell_type": "markdown",
      "metadata": {
        "id": "CfbgkKctLwad"
      },
      "source": [
        "##Question 2\n",
        "**Use range() to print all the even numbers from 0 to 10.**"
      ]
    },
    {
      "cell_type": "code",
      "metadata": {
        "collapsed": true,
        "id": "wBejA2YSLwae"
      },
      "source": [
        "#Code Here"
      ],
      "execution_count": null,
      "outputs": []
    },
    {
      "cell_type": "markdown",
      "metadata": {
        "id": "AfUtq6olLwaf"
      },
      "source": [
        "Question 3\n",
        "**Use a List Comprehension to create a list of all numbers between 1 and 50 that are divisible by 3.**"
      ]
    },
    {
      "cell_type": "code",
      "metadata": {
        "collapsed": true,
        "id": "yKoVdHtQLwai"
      },
      "source": [
        "#Code in this cell\n",
        "[]"
      ],
      "execution_count": null,
      "outputs": []
    },
    {
      "cell_type": "markdown",
      "metadata": {
        "id": "8UFY5MZoLwaj"
      },
      "source": [
        "## Question 4\n",
        "**Check the length of each word in the string and if the length of a word is even print \"even!\"**"
      ]
    },
    {
      "cell_type": "code",
      "metadata": {
        "collapsed": true,
        "id": "2WeDImMSLwaj"
      },
      "source": [
        "st = 'Print every word in this sentence that has an even number of letters'"
      ],
      "execution_count": null,
      "outputs": []
    },
    {
      "cell_type": "code",
      "metadata": {
        "collapsed": true,
        "id": "V049TIvhLwak"
      },
      "source": [
        "#Code in this cell"
      ],
      "execution_count": null,
      "outputs": []
    },
    {
      "cell_type": "markdown",
      "metadata": {
        "id": "vClQ-XDdLwak"
      },
      "source": [
        "##Question 5\n",
        "**Write a program that prints the integers from 1 to 100. But for multiples of three print \"3*\" instead of the number, and for the multiples of five print \"5*\". For numbers which are multiples of both three and five print \"3* 5*\".**"
      ]
    },
    {
      "cell_type": "code",
      "metadata": {
        "collapsed": true,
        "id": "dYASF9IOLwak"
      },
      "source": [
        "#Code in this cell"
      ],
      "execution_count": null,
      "outputs": []
    },
    {
      "cell_type": "code",
      "metadata": {
        "id": "QeKdAoN3NEHw"
      },
      "source": [
        ""
      ],
      "execution_count": null,
      "outputs": []
    }
  ]
}