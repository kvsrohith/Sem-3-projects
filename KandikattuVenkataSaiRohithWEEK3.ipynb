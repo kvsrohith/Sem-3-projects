{
  "nbformat": 4,
  "nbformat_minor": 0,
  "metadata": {
    "kernelspec": {
      "display_name": "Python 3",
      "language": "python",
      "name": "python3"
    },
    "language_info": {
      "codemirror_mode": {
        "name": "ipython",
        "version": 3
      },
      "file_extension": ".py",
      "mimetype": "text/x-python",
      "name": "python",
      "nbconvert_exporter": "python",
      "pygments_lexer": "ipython3",
      "version": "3.6.6"
    },
    "colab": {
      "provenance": []
    }
  },
  "cells": [
    {
      "cell_type": "markdown",
      "metadata": {
        "id": "gK6DXBJO8P8i"
      },
      "source": [
        "# Functions and Methods Homework - CS661 Python Programming\n",
        "Assignment - 2\n",
        "\n",
        "Total points  - 50\n",
        "\n",
        "*5 points for optimized code*\n",
        "\n",
        "Answer the following questions, download the .ipynb file and submit the file.\n",
        "\n",
        "    * Name : KANDIKATTU VENKATA SAI ROHITH\n",
        "    * Sesion : 6pm - 9pm\n",
        "    * CRN :"
      ]
    },
    {
      "cell_type": "markdown",
      "metadata": {
        "id": "XfU24AwxXI7k"
      },
      "source": [
        "## Question #1\n",
        "Points : 5"
      ]
    },
    {
      "cell_type": "markdown",
      "metadata": {
        "id": "F4BcjT2sV9gN"
      },
      "source": [
        "\n",
        "One lap around a running track is exactly 0.25 miles. Write the function miles_to_laps() that takes a number of miles as an argument and returns the number of laps. Complete the program to output the number of laps.\n",
        "\n",
        "Output each floating-point value with two digits after the decimal point, which can be achieved as follows:\n",
        "print('{:.2f}'.format(your_value))\n",
        "\n",
        "    Ex: If the input is:1.5\n",
        "    the output is:6.00\n",
        "    Ex: If the input is:2.2\n",
        "    the output is:8.80\n",
        "    Your program must define and call the following function:\n",
        "            def miles_to_laps(user_miles)"
      ]
    },
    {
      "cell_type": "code",
      "metadata": {
        "collapsed": true,
        "id": "LgJtXasi8P8j"
      },
      "source": [
        "# define your function here:\n",
        "def function_name():\n",
        "  #write code here\n",
        "\n",
        "\n",
        ""
      ],
      "execution_count": null,
      "outputs": []
    },
    {
      "cell_type": "code",
      "metadata": {
        "id": "tQTA2xzy8P8k",
        "outputId": "f233b002-1c47-4b06-d569-6732057b8dd2"
      },
      "source": [
        "if __name__ ==' __main__':\n",
        "    #call your function here!!\n"
      ],
      "execution_count": null,
      "outputs": [
        {
          "output_type": "execute_result",
          "data": {
            "text/plain": [
              "33.49333333333333"
            ]
          },
          "metadata": {
            "tags": []
          },
          "execution_count": 2
        }
      ]
    },
    {
      "cell_type": "markdown",
      "metadata": {
        "id": "u92B0DdfX2oD"
      },
      "source": [
        "## Question #2\n",
        "Points : 5"
      ]
    },
    {
      "cell_type": "markdown",
      "metadata": {
        "id": "0y7wX2Oa8P8l"
      },
      "source": [
        "\n",
        "Write a function that checks whether a number is in a given range (inclusive of high and low)"
      ]
    },
    {
      "cell_type": "code",
      "metadata": {
        "collapsed": true,
        "id": "CEM0B2pe8P8m"
      },
      "source": [
        "def ran_check(num,low,high):\n",
        "    #Write code here!"
      ],
      "execution_count": null,
      "outputs": []
    },
    {
      "cell_type": "code",
      "metadata": {
        "id": "m2c1E3We8P8n",
        "outputId": "fdce8be0-0f87-4d11-9aba-9e642773370f"
      },
      "source": [
        "# Check\n",
        "ran_check(5,2,7)"
      ],
      "execution_count": null,
      "outputs": [
        {
          "output_type": "stream",
          "text": [
            "5 is in the range between 2 and 7\n"
          ],
          "name": "stdout"
        }
      ]
    },
    {
      "cell_type": "markdown",
      "metadata": {
        "id": "ssMOQEqj8P8o"
      },
      "source": [
        "Write a function that checks whether a number is in a given range return a boolean:"
      ]
    },
    {
      "cell_type": "code",
      "metadata": {
        "collapsed": true,
        "id": "EfoWCKHU8P8o"
      },
      "source": [
        "def ran_bool(num,low,high):\n",
        "    #Write code here!"
      ],
      "execution_count": null,
      "outputs": []
    },
    {
      "cell_type": "code",
      "metadata": {
        "id": "9VtNSTkZ8P8p",
        "outputId": "02e20377-8e97-4496-f8fa-6cf8bf0a125e"
      },
      "source": [
        "ran_bool(3,1,10)"
      ],
      "execution_count": null,
      "outputs": [
        {
          "output_type": "execute_result",
          "data": {
            "text/plain": [
              "True"
            ]
          },
          "metadata": {
            "tags": []
          },
          "execution_count": 6
        }
      ]
    },
    {
      "cell_type": "markdown",
      "metadata": {
        "id": "T3c9I8EeYEFj"
      },
      "source": [
        "## Question #3\n",
        "Points : 5"
      ]
    },
    {
      "cell_type": "markdown",
      "metadata": {
        "id": "slZHyP5l8P8q"
      },
      "source": [
        "Write a Python function that accepts a string and calculates the number of upper case letters and lower case letters.\n",
        "\n",
        "    Sample String : 'Hello Students, how are you this fine Tuesday?'\n",
        "    Expected Output :\n",
        "    No. of Upper case characters : 3\n",
        "    No. of Lower case Characters : 34\n",
        "\n",
        "Note: You can use tring methods **.isupper()** and **.islower()**\n"
      ]
    },
    {
      "cell_type": "code",
      "metadata": {
        "collapsed": true,
        "id": "Ol_OBmm28P8q",
        "colab": {
          "base_uri": "https://localhost:8080/",
          "height": 140
        },
        "outputId": "1056abee-d882-4c68-943c-d3b70be82e89"
      },
      "source": [
        "def upper_lower(s):\n",
        "    #Write code here!\n",
        "    def upper_lower(s):\n",
        "    upper_count = 0\n",
        "    lower_count = 0\n",
        "\n",
        "    for char in s:\n",
        "        if char.isupper():\n",
        "            upper_count += 1\n",
        "        elif char.islower():\n",
        "            lower_count += 1\n",
        "\n",
        "    print(\"No. of Upper case characters:\", upper_count)\n",
        "    print(\"No. of Lower case characters:\", lower_count)\n",
        "\n"
      ],
      "execution_count": 26,
      "outputs": [
        {
          "output_type": "error",
          "ename": "IndentationError",
          "evalue": "ignored",
          "traceback": [
            "\u001b[0;36m  File \u001b[0;32m\"<ipython-input-26-20c390938448>\"\u001b[0;36m, line \u001b[0;32m4\u001b[0m\n\u001b[0;31m    upper_count = 0\u001b[0m\n\u001b[0m    ^\u001b[0m\n\u001b[0;31mIndentationError\u001b[0m\u001b[0;31m:\u001b[0m expected an indented block after function definition on line 3\n"
          ]
        }
      ]
    },
    {
      "cell_type": "code",
      "metadata": {
        "id": "zWWR_09c8P8r",
        "colab": {
          "base_uri": "https://localhost:8080/",
          "height": 192
        },
        "outputId": "7f932fd7-5fe5-4484-a96e-7b562c82390a"
      },
      "source": [
        "s = 'Hello Students, how are you this fine Tuesday?'\n",
        "upper_lower(s)"
      ],
      "execution_count": 25,
      "outputs": [
        {
          "output_type": "error",
          "ename": "NameError",
          "evalue": "ignored",
          "traceback": [
            "\u001b[0;31m---------------------------------------------------------------------------\u001b[0m",
            "\u001b[0;31mNameError\u001b[0m                                 Traceback (most recent call last)",
            "\u001b[0;32m<ipython-input-25-bc69a07becd0>\u001b[0m in \u001b[0;36m<cell line: 2>\u001b[0;34m()\u001b[0m\n\u001b[1;32m      1\u001b[0m \u001b[0ms\u001b[0m \u001b[0;34m=\u001b[0m \u001b[0;34m'Hello Students, how are you this fine Tuesday?'\u001b[0m\u001b[0;34m\u001b[0m\u001b[0;34m\u001b[0m\u001b[0m\n\u001b[0;32m----> 2\u001b[0;31m \u001b[0mupper_lower\u001b[0m\u001b[0;34m(\u001b[0m\u001b[0ms\u001b[0m\u001b[0;34m)\u001b[0m\u001b[0;34m\u001b[0m\u001b[0;34m\u001b[0m\u001b[0m\n\u001b[0m",
            "\u001b[0;31mNameError\u001b[0m: name 'upper_lower' is not defined"
          ]
        }
      ]
    },
    {
      "cell_type": "markdown",
      "metadata": {
        "id": "5olwRuwIZqNU"
      },
      "source": [
        "## Question #4\n",
        "Points : 5"
      ]
    },
    {
      "cell_type": "markdown",
      "metadata": {
        "id": "7zUFQ41G8P8s"
      },
      "source": [
        "Write a function to check if the given year is a leap year. A leap year is when a year has 366 days: An extra day, February 29th. The requirements for a given year to be a leap year are:\n",
        "\n",
        "    1) The year must be divisible by 4\n",
        "\n",
        "    2) If the year is a century year (1700, 1800, etc.),\n",
        "       the year must be evenly divisible by 400\n",
        "\n",
        "Some example leap years are 1600, 1712, and 2016.\n",
        "\n",
        "Funtion should takes in a year and determines whether that year is a leap year.\n",
        "\n",
        "    Ex: If the input is: 1712\n",
        "        the output is: 1712 is a leap year."
      ]
    },
    {
      "cell_type": "code",
      "metadata": {
        "id": "5C-ujE18Z1DJ",
        "colab": {
          "base_uri": "https://localhost:8080/"
        },
        "outputId": "45bf27fe-c930-4807-a3de-ba6c44032f41"
      },
      "source": [
        "#Define your function here\n",
        "\n",
        "\n",
        "def leap_year(year):\n",
        "    if (year % 4 == 0 and year % 100 != 0) or (year % 400 == 0):\n",
        "        return f\"{year} is a leap year.\"\n",
        "    else:\n",
        "        return f\"{year} is not a leap year.\"\n",
        "\n",
        "# Test the function\n",
        "input_year = 1712\n",
        "result = leap_year(input_year)\n",
        "print(result)\n"
      ],
      "execution_count": 22,
      "outputs": [
        {
          "output_type": "stream",
          "name": "stdout",
          "text": [
            "1712 is a leap year.\n"
          ]
        }
      ]
    },
    {
      "cell_type": "markdown",
      "metadata": {
        "id": "idUf_Py6aGXk"
      },
      "source": [
        "## Question #5\n",
        "Points : 2.5"
      ]
    },
    {
      "cell_type": "markdown",
      "metadata": {
        "id": "c7snZQu28P8t"
      },
      "source": [
        "**Write a Python function to multiply all the numbers in a list.**\n",
        "\n",
        "    Sample List : [1, 2, 3, -4]\n",
        "    Expected Output : -24"
      ]
    },
    {
      "cell_type": "code",
      "metadata": {
        "collapsed": true,
        "id": "Xe8YuS6G8P8t",
        "colab": {
          "base_uri": "https://localhost:8080/",
          "height": 140
        },
        "outputId": "73a7e3f3-3175-47a7-b23f-613aab60a748"
      },
      "source": [
        "def multiply(numbers):\n",
        "   #Write code here\n",
        "   result = 1  # Initialize the result as 1\n",
        "\n",
        "    for num in numbers:\n",
        "        result *= num  # Multiply each number with the result\n",
        "\n",
        "    return result\n"
      ],
      "execution_count": 20,
      "outputs": [
        {
          "output_type": "error",
          "ename": "IndentationError",
          "evalue": "ignored",
          "traceback": [
            "\u001b[0;36m  File \u001b[0;32m\"<ipython-input-20-40829b0af9ea>\"\u001b[0;36m, line \u001b[0;32m5\u001b[0m\n\u001b[0;31m    for num in numbers:\u001b[0m\n\u001b[0m    ^\u001b[0m\n\u001b[0;31mIndentationError\u001b[0m\u001b[0;31m:\u001b[0m unexpected indent\n"
          ]
        }
      ]
    },
    {
      "cell_type": "code",
      "metadata": {
        "id": "dxkO6chD8P8u",
        "outputId": "b934d70a-55f2-49eb-a4a3-dba085a4efb9",
        "colab": {
          "base_uri": "https://localhost:8080/",
          "height": 210
        }
      },
      "source": [
        "\n",
        "numbers = [1, 2, 3, -4]\n",
        "result = multiply(numbers)\n",
        "print(\"The product of the numbers in the list:\", result)"
      ],
      "execution_count": 19,
      "outputs": [
        {
          "output_type": "error",
          "ename": "NameError",
          "evalue": "ignored",
          "traceback": [
            "\u001b[0;31m---------------------------------------------------------------------------\u001b[0m",
            "\u001b[0;31mNameError\u001b[0m                                 Traceback (most recent call last)",
            "\u001b[0;32m<ipython-input-19-62ec687b10e1>\u001b[0m in \u001b[0;36m<cell line: 2>\u001b[0;34m()\u001b[0m\n\u001b[1;32m      1\u001b[0m \u001b[0mnumbers\u001b[0m \u001b[0;34m=\u001b[0m \u001b[0;34m[\u001b[0m\u001b[0;36m1\u001b[0m\u001b[0;34m,\u001b[0m \u001b[0;36m2\u001b[0m\u001b[0;34m,\u001b[0m \u001b[0;36m3\u001b[0m\u001b[0;34m,\u001b[0m \u001b[0;34m-\u001b[0m\u001b[0;36m4\u001b[0m\u001b[0;34m]\u001b[0m\u001b[0;34m\u001b[0m\u001b[0;34m\u001b[0m\u001b[0m\n\u001b[0;32m----> 2\u001b[0;31m \u001b[0mresult\u001b[0m \u001b[0;34m=\u001b[0m \u001b[0mmultiply\u001b[0m\u001b[0;34m(\u001b[0m\u001b[0mnumbers\u001b[0m\u001b[0;34m)\u001b[0m\u001b[0;34m\u001b[0m\u001b[0;34m\u001b[0m\u001b[0m\n\u001b[0m\u001b[1;32m      3\u001b[0m \u001b[0mprint\u001b[0m\u001b[0;34m(\u001b[0m\u001b[0;34m\"The product of the numbers in the list:\"\u001b[0m\u001b[0;34m,\u001b[0m \u001b[0mresult\u001b[0m\u001b[0;34m)\u001b[0m\u001b[0;34m\u001b[0m\u001b[0;34m\u001b[0m\u001b[0m\n",
            "\u001b[0;31mNameError\u001b[0m: name 'multiply' is not defined"
          ]
        }
      ]
    },
    {
      "cell_type": "markdown",
      "metadata": {
        "id": "M9Rfe1OOaOcO"
      },
      "source": [
        "## Question #6\n",
        "Points : 2.5"
      ]
    },
    {
      "cell_type": "markdown",
      "metadata": {
        "id": "RoyqHLjc8P8u"
      },
      "source": [
        "**Write a Python function that checks whether a word or phrase is palindrome or not.**\n",
        "\n",
        "Note: A palindrome is word, phrase, or sequence that reads the same backward as forward.\n",
        "\n",
        "    e.g., madam,kayak,racecar\n",
        "\n",
        "    input : madam\n",
        "    output: Given 'madam' is a palidrome."
      ]
    },
    {
      "cell_type": "code",
      "metadata": {
        "collapsed": true,
        "id": "sFvhrDVD8P8v",
        "colab": {
          "base_uri": "https://localhost:8080/",
          "height": 140
        },
        "outputId": "ddf45061-8fd5-4bcc-a48d-0e92db0f245e"
      },
      "source": [
        "def palindrome(s):\n",
        "     #Write code here!\n",
        "     s = s.replace(\" \", \"\").lower()\n",
        "\n",
        "    # Check if the input is equal to its reverse\n",
        "    if s == s[::-1]:\n",
        "        return True\n",
        "    else:\n",
        "        return False\n",
        "\n",
        "# Test the function\n",
        "input_str = 'helleh'\n",
        "if is_palindrome(input_str):\n",
        "    print(f\"Given '{input_str}' is a palindrome.\")\n",
        "else:\n",
        "    print(f\"Given '{input_str}' is not a palindrome.\")"
      ],
      "execution_count": 12,
      "outputs": [
        {
          "output_type": "error",
          "ename": "IndentationError",
          "evalue": "ignored",
          "traceback": [
            "\u001b[0;36m  File \u001b[0;32m\"<tokenize>\"\u001b[0;36m, line \u001b[0;32m6\u001b[0m\n\u001b[0;31m    if s == s[::-1]:\u001b[0m\n\u001b[0m    ^\u001b[0m\n\u001b[0;31mIndentationError\u001b[0m\u001b[0;31m:\u001b[0m unindent does not match any outer indentation level\n"
          ]
        }
      ]
    },
    {
      "cell_type": "code",
      "metadata": {
        "id": "zdl8a6PV8P8v",
        "outputId": "36313c08-f30c-40b7-a94c-d6b315cdd56e"
      },
      "source": [
        "palindrome('helleh')"
      ],
      "execution_count": null,
      "outputs": [
        {
          "output_type": "execute_result",
          "data": {
            "text/plain": [
              "True"
            ]
          },
          "metadata": {
            "tags": []
          },
          "execution_count": 14
        }
      ]
    },
    {
      "cell_type": "markdown",
      "metadata": {
        "id": "3a2N6cOkbRO3"
      },
      "source": [
        "## Question #7\n",
        "Points : 2.5"
      ]
    },
    {
      "cell_type": "markdown",
      "metadata": {
        "id": "ZglZKEBk8P8v"
      },
      "source": [
        "\n",
        "**Write a Python function to check whether a string is pangram or not. (Assume the string passed in does not have any punctuation)**\n",
        "\n",
        "    Note : Pangrams are words or sentences containing every letter of the alphabet at least once.\n",
        "    For example : \"The quick brown fox jumps over the lazy dog\"\n"
      ]
    },
    {
      "cell_type": "code",
      "metadata": {
        "collapsed": true,
        "id": "yddAUm4q8P8w"
      },
      "source": [
        "import string\n",
        "\n",
        "def ispangram():\n",
        "    #Write code here!\n",
        "    alphabet = set(string.ascii_lowercase)\n",
        "\n",
        "    # Convert the input string to lowercase and remove spaces\n",
        "    s = s.lower().replace(\" \", \"\")\n",
        "\n",
        "    # Create a set of unique letters in the string\n",
        "    unique_letters = set(s)\n",
        "\n",
        "    # Check if the unique letters set contains all the alphabet letters\n",
        "    return unique_letters == alphabet"
      ],
      "execution_count": 14,
      "outputs": []
    },
    {
      "cell_type": "code",
      "metadata": {
        "id": "lbJkVFz18P8w",
        "outputId": "2dad56b1-553a-403c-e405-ce7fa539d083",
        "colab": {
          "base_uri": "https://localhost:8080/",
          "height": 245
        }
      },
      "source": [
        "input_str = \"The quick brown fox jumps over the lazy dog\"\n",
        "if is_pangram(input_str):\n",
        "    print(f\"'{input_str}' is a pangram.\")\n",
        "else:\n",
        "    print(f\"'{input_str}' is not a pangram.\")"
      ],
      "execution_count": 15,
      "outputs": [
        {
          "output_type": "error",
          "ename": "NameError",
          "evalue": "ignored",
          "traceback": [
            "\u001b[0;31m---------------------------------------------------------------------------\u001b[0m",
            "\u001b[0;31mNameError\u001b[0m                                 Traceback (most recent call last)",
            "\u001b[0;32m<ipython-input-15-900569da5a61>\u001b[0m in \u001b[0;36m<cell line: 2>\u001b[0;34m()\u001b[0m\n\u001b[1;32m      1\u001b[0m \u001b[0minput_str\u001b[0m \u001b[0;34m=\u001b[0m \u001b[0;34m\"The quick brown fox jumps over the lazy dog\"\u001b[0m\u001b[0;34m\u001b[0m\u001b[0;34m\u001b[0m\u001b[0m\n\u001b[0;32m----> 2\u001b[0;31m \u001b[0;32mif\u001b[0m \u001b[0mis_pangram\u001b[0m\u001b[0;34m(\u001b[0m\u001b[0minput_str\u001b[0m\u001b[0;34m)\u001b[0m\u001b[0;34m:\u001b[0m\u001b[0;34m\u001b[0m\u001b[0;34m\u001b[0m\u001b[0m\n\u001b[0m\u001b[1;32m      3\u001b[0m     \u001b[0mprint\u001b[0m\u001b[0;34m(\u001b[0m\u001b[0;34mf\"'{input_str}' is a pangram.\"\u001b[0m\u001b[0;34m)\u001b[0m\u001b[0;34m\u001b[0m\u001b[0;34m\u001b[0m\u001b[0m\n\u001b[1;32m      4\u001b[0m \u001b[0;32melse\u001b[0m\u001b[0;34m:\u001b[0m\u001b[0;34m\u001b[0m\u001b[0;34m\u001b[0m\u001b[0m\n\u001b[1;32m      5\u001b[0m     \u001b[0mprint\u001b[0m\u001b[0;34m(\u001b[0m\u001b[0;34mf\"'{input_str}' is not a pangram.\"\u001b[0m\u001b[0;34m)\u001b[0m\u001b[0;34m\u001b[0m\u001b[0;34m\u001b[0m\u001b[0m\n",
            "\u001b[0;31mNameError\u001b[0m: name 'is_pangram' is not defined"
          ]
        }
      ]
    },
    {
      "cell_type": "markdown",
      "metadata": {
        "id": "12Xq7f2-bTpM"
      },
      "source": [
        "## Question #8\n",
        "Points : 5"
      ]
    },
    {
      "cell_type": "markdown",
      "metadata": {
        "id": "1tQN6Z4SbqkK"
      },
      "source": [
        "Toll gates have different fees based on the time of day, weekdays/weekends. Write a function that has three parameters: the current hour of time (int), time is morning (boolean) and whether the day is a weekend(boolean). The function returns the correct toll fee (float), based on the chart below.\n",
        "\n",
        "    Weekday Tolls\n",
        "\n",
        "    Before 7:00 am ($1.15)\n",
        "    7:00 am to 9:59 am ($2.95)\n",
        "    10:00 am to 2:59 pm ($1.90)\n",
        "    3:00 pm to 7:59 pm ($3.95)\n",
        "    Starting 8:00 pm ($1.40)\n",
        "    \n",
        "    Weekend Tolls\n",
        "\n",
        "    Before 7:00 am ($1.05)\n",
        "    7:00 am to 7:59 pm ($2.15)\n",
        "    Starting 8:00 pm ($1.10)\n",
        "\n",
        "    input : toll_fee(8, True, False)\n",
        "    Output : $ 2.95\n"
      ]
    },
    {
      "cell_type": "code",
      "metadata": {
        "id": "8wIRatoUc4rN",
        "colab": {
          "base_uri": "https://localhost:8080/",
          "height": 140
        },
        "outputId": "f47e6d66-474d-48db-e34d-9422cbc9453a"
      },
      "source": [
        "#define your code here\n",
        "\n",
        "def toll_fee(hour, morning,weekend):\n",
        "  #write code here\n",
        "     if weekend:  # Weekend\n",
        "        if hour < 7:\n",
        "            return 1.05\n",
        "        elif 7 <= hour < 20:\n",
        "            return 2.15\n",
        "        else:\n",
        "            return 1.10\n",
        "    else:  # Weekday\n",
        "        if morning:\n",
        "            if hour < 7:\n",
        "                return 1.15\n",
        "            elif 7 <= hour < 10:\n",
        "                return 2.95\n",
        "            elif 10 <= hour < 15:\n",
        "                return 1.90\n",
        "            elif 15 <= hour < 20:\n",
        "                return 3.95\n",
        "            else:\n",
        "                return 1.40\n",
        "        else:\n",
        "            if hour < 7:\n",
        "                return 1.15\n",
        "            elif 7 <= hour < 20:\n",
        "                return 2.15\n",
        "            else:\n",
        "                return 1.40\n",
        "fee = toll_fee(8, True, False)\n",
        "print(\"The fee of the hour: $\", format(fee, \".2f\"))\n",
        "\n",
        ""
      ],
      "execution_count": 9,
      "outputs": [
        {
          "output_type": "error",
          "ename": "IndentationError",
          "evalue": "ignored",
          "traceback": [
            "\u001b[0;36m  File \u001b[0;32m\"<tokenize>\"\u001b[0;36m, line \u001b[0;32m12\u001b[0m\n\u001b[0;31m    else:  # Weekday\u001b[0m\n\u001b[0m    ^\u001b[0m\n\u001b[0;31mIndentationError\u001b[0m\u001b[0;31m:\u001b[0m unindent does not match any outer indentation level\n"
          ]
        }
      ]
    },
    {
      "cell_type": "code",
      "metadata": {
        "id": "cVHmOwIYdE0-",
        "colab": {
          "base_uri": "https://localhost:8080/",
          "height": 227
        },
        "outputId": "e0b757a3-b234-4d09-c978-fff5656bb669"
      },
      "source": [
        "#call your function\n",
        "\n",
        "fee = toll_fee(8, True, False)\n",
        "print(\"The fee of the hour: $\", format(fee, \".2f\"))"
      ],
      "execution_count": 7,
      "outputs": [
        {
          "output_type": "error",
          "ename": "NameError",
          "evalue": "ignored",
          "traceback": [
            "\u001b[0;31m---------------------------------------------------------------------------\u001b[0m",
            "\u001b[0;31mNameError\u001b[0m                                 Traceback (most recent call last)",
            "\u001b[0;32m<ipython-input-7-9649e8dde263>\u001b[0m in \u001b[0;36m<cell line: 3>\u001b[0;34m()\u001b[0m\n\u001b[1;32m      1\u001b[0m \u001b[0;31m#call your function\u001b[0m\u001b[0;34m\u001b[0m\u001b[0;34m\u001b[0m\u001b[0m\n\u001b[1;32m      2\u001b[0m \u001b[0;34m\u001b[0m\u001b[0m\n\u001b[0;32m----> 3\u001b[0;31m \u001b[0mfee\u001b[0m \u001b[0;34m=\u001b[0m \u001b[0mtoll_fee\u001b[0m\u001b[0;34m(\u001b[0m\u001b[0;36m8\u001b[0m\u001b[0;34m,\u001b[0m \u001b[0;32mTrue\u001b[0m\u001b[0;34m,\u001b[0m \u001b[0;32mFalse\u001b[0m\u001b[0;34m)\u001b[0m\u001b[0;34m\u001b[0m\u001b[0;34m\u001b[0m\u001b[0m\n\u001b[0m\u001b[1;32m      4\u001b[0m \u001b[0mprint\u001b[0m\u001b[0;34m(\u001b[0m\u001b[0;34m\"The fee of the hour: $\"\u001b[0m\u001b[0;34m,\u001b[0m \u001b[0mformat\u001b[0m\u001b[0;34m(\u001b[0m\u001b[0mfee\u001b[0m\u001b[0;34m,\u001b[0m \u001b[0;34m\".2f\"\u001b[0m\u001b[0;34m)\u001b[0m\u001b[0;34m)\u001b[0m\u001b[0;34m\u001b[0m\u001b[0;34m\u001b[0m\u001b[0m\n",
            "\u001b[0;31mNameError\u001b[0m: name 'toll_fee' is not defined"
          ]
        }
      ]
    },
    {
      "cell_type": "markdown",
      "metadata": {
        "id": "QYvtpZXAdaG-"
      },
      "source": [
        "*If you extend the program to add roud trip fee extra credit point 5 will be awarded.*"
      ]
    },
    {
      "cell_type": "markdown",
      "source": [
        "## Question #9\n",
        "Points : 2.5"
      ],
      "metadata": {
        "id": "m05eI0qx0yQ-"
      }
    },
    {
      "cell_type": "markdown",
      "metadata": {
        "id": "jXU5VenxzlCd"
      },
      "source": [
        "### Branching  staements\n",
        "if - elif -  else"
      ]
    },
    {
      "cell_type": "markdown",
      "metadata": {
        "id": "EBvh7mBzxy5-"
      },
      "source": [
        "Given three values a, b, c, check which value is minimum and remove that value from other values. Write an algorithm.\n",
        "\n",
        "        Ex: If the input is:\n",
        "        a = 130\n",
        "        b = 50\n",
        "        c = 130\n",
        "        The output is:\n",
        "        a = 80\n",
        "        b = 0\n",
        "        c = 80"
      ]
    },
    {
      "cell_type": "code",
      "metadata": {
        "id": "rvkqUdjLz1ra",
        "colab": {
          "base_uri": "https://localhost:8080/"
        },
        "outputId": "7e8a26db-61f2-4713-8434-3446d4057ef2"
      },
      "source": [
        "a = int(input(\"Enter the value for a: \"))\n",
        "b = int(input(\"Enter the value for b: \"))\n",
        "c = int(input(\"Enter the value for c: \"))\n",
        "min_value = min(a, b, c)\n",
        "a -= min_value\n",
        "b -= min_value\n",
        "c -= min_value\n",
        "min_value = 0\n",
        "print(f\"a = {a}\")\n",
        "print(f\"b = {b}\")\n",
        "print(f\"c = {c}\")\n"
      ],
      "execution_count": 5,
      "outputs": [
        {
          "output_type": "stream",
          "name": "stdout",
          "text": [
            "Enter the value for a: 5\n",
            "Enter the value for b: 6\n",
            "Enter the value for c: 4\n",
            "a = 1\n",
            "b = 2\n",
            "c = 0\n"
          ]
        }
      ]
    },
    {
      "cell_type": "code",
      "metadata": {
        "id": "wptHro-c35NL"
      },
      "source": [],
      "execution_count": null,
      "outputs": []
    },
    {
      "cell_type": "markdown",
      "source": [
        "## Question #10\n",
        "Points : 5"
      ],
      "metadata": {
        "id": "ecLWyibk1D-K"
      }
    },
    {
      "cell_type": "markdown",
      "metadata": {
        "id": "ODYKstn3z2XL"
      },
      "source": [
        "26 - Write a program that takes in a year and determines whether that year is a leap year.\n",
        "\n",
        "      Ex: If the input is:  1712\n",
        "          the output is: 1712 - leap year\n",
        "\n",
        "          Note : 1) The year must be divisible by 4\n",
        "                  2) If the year is a century year (1700, 1800, etc.), the year must be evenly divisible by 400"
      ]
    },
    {
      "cell_type": "code",
      "metadata": {
        "id": "lpqlkM_R56wf",
        "colab": {
          "base_uri": "https://localhost:8080/"
        },
        "outputId": "89ddfbb1-cba0-4616-ed35-bb12963b969b"
      },
      "source": [
        "\n",
        "year = int(input(\"Enter a year: \"))\n",
        "\n",
        "if (year % 4 == 0 and year % 100 != 0) or (year % 400 == 0):\n",
        "    print(f\"{year} - leap year\")\n",
        "else:\n",
        "    print(f\"{year} - not a leap year\")\n"
      ],
      "execution_count": 4,
      "outputs": [
        {
          "output_type": "stream",
          "name": "stdout",
          "text": [
            "Enter a year: 1997\n",
            "1997 - not a leap year\n"
          ]
        }
      ]
    },
    {
      "cell_type": "markdown",
      "source": [
        "## Question #11\n",
        "Points : 5"
      ],
      "metadata": {
        "id": "7gpChkqW1Idz"
      }
    },
    {
      "cell_type": "markdown",
      "metadata": {
        "id": "BM0zCQmi7pCv"
      },
      "source": [
        "### Loops"
      ]
    },
    {
      "cell_type": "markdown",
      "metadata": {
        "id": "H4YqppqW-wmf"
      },
      "source": [
        "27 - Write a program that takes a simple password and makes it stronger by replacing certain characters as per list below and appending \"!\" to the end of the input string.\n",
        "\n",
        "        i becomes 1\n",
        "        a becomes @\n",
        "        m becomes M\n",
        "        B becomes 8\n",
        "        s becomes $\n",
        "        z becomes 2\n",
        "        o becomes 0\n",
        "        \n",
        "        If the input is: mypassword\n",
        "        the output is: Myp@$$w0rd!"
      ]
    },
    {
      "cell_type": "code",
      "metadata": {
        "id": "4qjMTqb7_oss",
        "colab": {
          "base_uri": "https://localhost:8080/"
        },
        "outputId": "14cdca78-2f25-487a-e6db-ff340f9001e5"
      },
      "source": [
        "def strengthen_password(password):\n",
        "    replacements = {\n",
        "        'i': '1',\n",
        "        'a': '@',\n",
        "        'm': 'M',\n",
        "        'B': '8',\n",
        "        's': '$',\n",
        "        'z': '2',\n",
        "        'o': '0'\n",
        "    }\n",
        "    for char, replacement in replacements.items():\n",
        "        password = password.replace(char, replacement)\n",
        "    password += '!'\n",
        "\n",
        "    return password\n",
        "input_password = input(\"Enter a simple password: \")\n",
        "strong_password = strengthen_password(input_password)\n",
        "print(strong_password)\n",
        "\n",
        "\n"
      ],
      "execution_count": 2,
      "outputs": [
        {
          "output_type": "stream",
          "name": "stdout",
          "text": [
            "Enter a simple password: 0987654\n",
            "0987654!\n"
          ]
        }
      ]
    },
    {
      "cell_type": "markdown",
      "source": [
        "## Question #12\n",
        "Points : 2.5"
      ],
      "metadata": {
        "id": "4SI7Buuu1Ku-"
      }
    },
    {
      "cell_type": "markdown",
      "metadata": {
        "id": "lZIJMR6FAKWH"
      },
      "source": [
        "28 - Write a program to get 10 multiples of anynumber given.\n",
        "\n",
        "    Example: if Number = 5\n",
        "    Output :5,10,15,20,25,30,35,40,45,50\n",
        "\n",
        "\n",
        "\n"
      ]
    },
    {
      "cell_type": "code",
      "metadata": {
        "id": "Her9B6KaAID7",
        "colab": {
          "base_uri": "https://localhost:8080/"
        },
        "outputId": "6ae55ae9-cc63-4af2-8f74-54f821f7247a"
      },
      "source": [
        "\n",
        "number = int(input(\"Enter a number: \"))\n",
        "count = 1\n",
        "while count <= 10:\n",
        "    multiple = number * count\n",
        "    print(multiple, end=\", \")\n",
        "    count += 1"
      ],
      "execution_count": 1,
      "outputs": [
        {
          "output_type": "stream",
          "name": "stdout",
          "text": [
            "Enter a number: 6\n",
            "6, 12, 18, 24, 30, 36, 42, 48, 54, 60, "
          ]
        }
      ]
    }
  ]
}