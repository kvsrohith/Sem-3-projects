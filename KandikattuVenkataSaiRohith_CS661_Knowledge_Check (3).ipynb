{
  "nbformat": 4,
  "nbformat_minor": 0,
  "metadata": {
    "kernelspec": {
      "display_name": "Python 3",
      "language": "python",
      "name": "python3"
    },
    "language_info": {
      "codemirror_mode": {
        "name": "ipython",
        "version": 3
      },
      "file_extension": ".py",
      "mimetype": "text/x-python",
      "name": "python",
      "nbconvert_exporter": "python",
      "pygments_lexer": "ipython3",
      "version": "3.6.6"
    },
    "colab": {
      "provenance": []
    }
  },
  "cells": [
    {
      "cell_type": "markdown",
      "metadata": {
        "id": "EeUIUWVK75zR"
      },
      "source": [
        "##Knowlegde Check - 2\n",
        "Total Point : 50\n",
        "\n",
        "5 Points for each answer  = 45\n",
        "\n",
        "\n",
        "5 points for optimized code, use of lamda, map, etc  = 5\n",
        "\n",
        "**Answer the following questions, download the .ipynb file and submit the file.**\n",
        "\n",
        "    * Name : KANDIKATTU VENKATA SAI ROHITH\n",
        "    * Sesion :6:00 PM - 9:00Pm\n",
        "    * CRN : 72541"
      ]
    },
    {
      "cell_type": "markdown",
      "metadata": {
        "id": "5-1haVuV75zS"
      },
      "source": [
        "## Question# 1\n",
        "\n",
        "Points : 5 *italicized text*\n",
        "\n",
        "Write a function that returns the smallest of two even numbers, if both numbers are even and, the greater if one or both numbers are odd\n",
        "   \n",
        "                   lesser_of_two_evens(2,4) --> 2\n",
        "                   lesser_of_two_evens(2,5) --> 5"
      ]
    },
    {
      "cell_type": "code",
      "metadata": {
        "collapsed": true,
        "id": "0dDpOctA75zT",
        "colab": {
          "base_uri": "https://localhost:8080/"
        },
        "outputId": "0581f06e-f7d0-4cc1-89c8-1d571a425d1e"
      },
      "source": [
        "def smallest_of_two_evens(a,b):\n",
        "    if a % 2 == 0 and b % 2 == 0:\n",
        "      return min(a,b)\n",
        "    else:\n",
        "        return max(a,b)\n",
        "result1 = smallest_of_two_evens(2,4)\n",
        "result2 = smallest_of_two_evens(2,5)\n",
        "print(result1)\n",
        "print(result2)"
      ],
      "execution_count": 8,
      "outputs": [
        {
          "output_type": "stream",
          "name": "stdout",
          "text": [
            "2\n",
            "5\n"
          ]
        }
      ]
    },
    {
      "cell_type": "code",
      "metadata": {
        "collapsed": true,
        "id": "TOqxVEyo75zT"
      },
      "source": [
        "# Check1\n",
        "result1 = smallest_of_two_evens(2,4)"
      ],
      "execution_count": 9,
      "outputs": []
    },
    {
      "cell_type": "code",
      "metadata": {
        "collapsed": true,
        "id": "AdTCl-Go75zU"
      },
      "source": [
        "# Check2\n",
        "result2 = smallest_of_two_evens(2,5)"
      ],
      "execution_count": 10,
      "outputs": []
    },
    {
      "cell_type": "markdown",
      "metadata": {
        "id": "HRbQR0ka75zU"
      },
      "source": [
        "## Question# 2\n",
        "\n",
        "Points : 5\n",
        "\n",
        "Write a function takes a two-word string and returns True if both words begin with same letter.\n",
        "\n",
        "            word_crackers('Lion', 'Lady') --> True\n",
        "            word_crackers('Crazy', 'Drink') --> False"
      ]
    },
    {
      "cell_type": "code",
      "metadata": {
        "collapsed": true,
        "id": "QBFQi-X175zV",
        "colab": {
          "base_uri": "https://localhost:8080/"
        },
        "outputId": "5aa1ed3b-fa71-4b4e-ccaa-3f9820bc07eb"
      },
      "source": [
        "def animal_crackers(word1,word2):\n",
        "    return word1[0].lower() == word2[0].lower()\n",
        "result1 = animal_crackers('Lion', 'Lady')\n",
        "result2 = animal_crackers('Crazy', 'Drink')\n",
        "print(result1)\n",
        "print(result2)"
      ],
      "execution_count": 13,
      "outputs": [
        {
          "output_type": "stream",
          "name": "stdout",
          "text": [
            "True\n",
            "False\n"
          ]
        }
      ]
    },
    {
      "cell_type": "code",
      "metadata": {
        "collapsed": true,
        "id": "OrUKLE2o75zV"
      },
      "source": [
        "# Check1\n",
        "result1 = animal_crackers('Lion', 'Lady')"
      ],
      "execution_count": 14,
      "outputs": []
    },
    {
      "cell_type": "code",
      "metadata": {
        "collapsed": true,
        "id": "OKmWGoaN75zW"
      },
      "source": [
        "# Check2\n",
        "result2 = animal_crackers('Crazy', 'Drink')"
      ],
      "execution_count": 15,
      "outputs": []
    },
    {
      "cell_type": "markdown",
      "metadata": {
        "id": "dTXH0FDi75zW"
      },
      "source": [
        "## Question# 3\n",
        "\n",
        "Points : 5\n",
        "\n",
        "Given two integers, return True if the sum of the integers is 20 *or* if one of the integers is 20. If not, return False\n",
        "\n",
        "    sum_twenty(20,10) --> True\n",
        "    sum_twenty(12,8) --> True\n",
        "    sum_twenty(2,3) --> False"
      ]
    },
    {
      "cell_type": "code",
      "metadata": {
        "collapsed": true,
        "id": "dpE6nfTH75zW",
        "colab": {
          "base_uri": "https://localhost:8080/"
        },
        "outputId": "b58091a0-3f84-444d-ff69-b6ce1ddb2185"
      },
      "source": [
        "def sum_twenty(n1,n2):\n",
        "    return n1 == 20 or n2 == 20 or (n1 + n2) == 20\n",
        "result1 = sum_twenty(20,10)\n",
        "result2 = sum_twenty(12,8)\n",
        "result3 = sum_twenty(2, 3)\n",
        "print(result1)\n",
        "print(result2)\n",
        "print(result3)"
      ],
      "execution_count": 18,
      "outputs": [
        {
          "output_type": "stream",
          "name": "stdout",
          "text": [
            "True\n",
            "True\n",
            "False\n"
          ]
        }
      ]
    },
    {
      "cell_type": "code",
      "metadata": {
        "collapsed": true,
        "id": "EbGjQmGS75zW"
      },
      "source": [
        "# Check1\n",
        "result1 = sum_twenty(20,10)"
      ],
      "execution_count": 19,
      "outputs": []
    },
    {
      "cell_type": "code",
      "metadata": {
        "collapsed": true,
        "id": "dIsHz1Gz75zX"
      },
      "source": [
        "# Check2\n",
        "result3 = sum_twenty(2,3)"
      ],
      "execution_count": 20,
      "outputs": []
    },
    {
      "cell_type": "markdown",
      "metadata": {
        "id": "y-LhSm8J75zX"
      },
      "source": [
        "## Question# 4\n",
        "\n",
        "Points : 5\n",
        "\n",
        "Write a function that capitalizes the first and fourth letters of a name\n",
        "     \n",
        "    cap_first_four('macdonald') --> MacDonald\n"
      ]
    },
    {
      "cell_type": "code",
      "metadata": {
        "collapsed": true,
        "id": "4A1VE97r75zX",
        "colab": {
          "base_uri": "https://localhost:8080/"
        },
        "outputId": "cfb7c139-efcc-476d-dd9a-13db824e4ce0"
      },
      "source": [
        "def cap_first_four(name):\n",
        "  if len(name) >= 4:\n",
        "    result = name[0].capitalize() + name[1:3] + name[3].capitalize() + name[4:]\n",
        "    return result\n",
        "  else:\n",
        "        return name\n",
        "result = cap_first_four('macdonald')\n",
        "print(result)\n"
      ],
      "execution_count": 21,
      "outputs": [
        {
          "output_type": "stream",
          "name": "stdout",
          "text": [
            "MacDonald\n"
          ]
        }
      ]
    },
    {
      "cell_type": "code",
      "metadata": {
        "collapsed": true,
        "id": "xhjCfgwF75zX"
      },
      "source": [
        "# Check\n",
        "result = cap_first_four('macdonald')"
      ],
      "execution_count": 22,
      "outputs": []
    },
    {
      "cell_type": "markdown",
      "metadata": {
        "id": "DFOpc81H75zY"
      },
      "source": [
        "## Question# 5\n",
        "\n",
        "Points : 5\n",
        "\n",
        "Given a sentence, return a sentence with the words reversed\n",
        "\n",
        "    rev_words('I am home') --> 'home am I'\n",
        "    rev_words('We are ready') --> 'ready are We'\n",
        "    \n",
        "Note: The .join() method may be useful here. The .join() method allows you to join.\n",
        "\n",
        "    \" \".join(['Hello','world'])\n",
        "    \"Hello world\""
      ]
    },
    {
      "cell_type": "code",
      "metadata": {
        "collapsed": true,
        "id": "3FVzZTFA75zY",
        "colab": {
          "base_uri": "https://localhost:8080/"
        },
        "outputId": "0edfe803-0aa1-4936-f994-afec61fbb7c7"
      },
      "source": [
        "def rev_words(text):\n",
        "    words = text.split()\n",
        "    reversed_words = words[::-1]\n",
        "    reversed_text = \" \".join(reversed_words)\n",
        "    return reversed_text\n",
        "result1 = rev_words('I am home')\n",
        "result2 = rev_words('We are ready')\n",
        "\n",
        "print(result1)\n",
        "print(result2)"
      ],
      "execution_count": 59,
      "outputs": [
        {
          "output_type": "stream",
          "name": "stdout",
          "text": [
            "home am I\n",
            "ready are We\n"
          ]
        }
      ]
    },
    {
      "cell_type": "code",
      "metadata": {
        "collapsed": true,
        "id": "LAuWsFRa75zY"
      },
      "source": [
        "# Check1\n",
        "result1 = rev_words('I am home')"
      ],
      "execution_count": 60,
      "outputs": []
    },
    {
      "cell_type": "code",
      "metadata": {
        "collapsed": true,
        "id": "idtYNRCX75zZ"
      },
      "source": [
        "# Check2\n",
        "result2 = rev_words('We are ready')"
      ],
      "execution_count": null,
      "outputs": []
    },
    {
      "cell_type": "markdown",
      "metadata": {
        "id": "KosRNbjZ75zZ"
      },
      "source": [
        "## Question# 6\n",
        "\n",
        "Points : 5\n",
        "\n",
        "Given an integer n, return True if n is nearest to either 100 or 200 with the difference of upto 10.\n",
        "\n",
        "    nearest_num(90) --> True\n",
        "    nearest_num(104) --> True\n",
        "    nearest_num(150) --> False\n",
        "    nearest_num(209) --> True\n",
        "    \n",
        "NOTE: `abs(num)` returns the absolute value of a number"
      ]
    },
    {
      "cell_type": "code",
      "metadata": {
        "collapsed": true,
        "id": "mYL-XUKn75zZ",
        "colab": {
          "base_uri": "https://localhost:8080/"
        },
        "outputId": "c23d5d0b-76e6-4881-a98e-87c2657e0dcb"
      },
      "source": [
        "def nearest_num(n):\n",
        "    diff_to_100 = abs(n - 100)\n",
        "    diff_to_200 = abs(n - 200)\n",
        "    return diff_to_100 <= 10 or diff_to_100 <= 10\n",
        "result1 = nearest_num(90)\n",
        "result2 = nearest_num(104)\n",
        "result3 = nearest_num(150)\n",
        "result4 = nearest_num(209)\n",
        "\n",
        "print(result1)\n",
        "print(result2)\n",
        "print(result3)\n",
        "print(result4)\n"
      ],
      "execution_count": 28,
      "outputs": [
        {
          "output_type": "stream",
          "name": "stdout",
          "text": [
            "True\n",
            "True\n",
            "False\n",
            "False\n"
          ]
        }
      ]
    },
    {
      "cell_type": "code",
      "metadata": {
        "collapsed": true,
        "id": "SBy-ceNf75zZ"
      },
      "source": [
        "# Check1\n",
        "result2 = nearest_num(104)"
      ],
      "execution_count": 31,
      "outputs": []
    },
    {
      "cell_type": "code",
      "metadata": {
        "collapsed": true,
        "id": "l3IiEN1w75zZ"
      },
      "source": [
        "# Check2\n",
        "result3 = nearest_num(150)"
      ],
      "execution_count": 30,
      "outputs": []
    },
    {
      "cell_type": "code",
      "metadata": {
        "collapsed": true,
        "id": "lBqJY_II75za"
      },
      "source": [
        "# Check3\n",
        "result4 = nearest_num(209)"
      ],
      "execution_count": 29,
      "outputs": []
    },
    {
      "cell_type": "markdown",
      "metadata": {
        "id": "Aris-wDf75za"
      },
      "source": [
        "## Question# 7\n",
        "\n",
        "Points : 5\n",
        "\n",
        "Given a list of ints, return True if the list contains a same numeric value next.\n",
        "\n",
        "    contains_two_samevalues([1, 3, 3]) → True\n",
        "    contains_two_samevalues([1, 3, 1, 3]) → False\n",
        "    contains_two_samevalues([3, 1, 3]) → False"
      ]
    },
    {
      "cell_type": "code",
      "metadata": {
        "collapsed": true,
        "id": "Dw3iE01275za",
        "colab": {
          "base_uri": "https://localhost:8080/"
        },
        "outputId": "fe26f1d8-a604-4b13-f67b-c29b6cc0b18b"
      },
      "source": [
        "def contains_two_same_values(nums):\n",
        "    for i in range(len(nums) - 1):\n",
        "      if nums[i] == nums[i + 1]:\n",
        "        return True\n",
        "    return False\n",
        "\n",
        "result1 = contains_two_same_values([1, 3, 3])\n",
        "result2 = contains_two_same_values([1, 3, 1, 3])\n",
        "result3 = contains_two_same_values([3, 1, 3])\n",
        "\n",
        "print(result1)\n",
        "print(result2)\n",
        "print(result3)"
      ],
      "execution_count": 34,
      "outputs": [
        {
          "output_type": "stream",
          "name": "stdout",
          "text": [
            "True\n",
            "False\n",
            "False\n"
          ]
        }
      ]
    },
    {
      "cell_type": "code",
      "metadata": {
        "collapsed": true,
        "id": "VTEf2wIu75zb"
      },
      "source": [
        "# Check1\n",
        "result1 = contains_two_same_values([1, 3, 3])"
      ],
      "execution_count": 35,
      "outputs": []
    },
    {
      "cell_type": "code",
      "metadata": {
        "collapsed": true,
        "id": "D1KxBkty75zb"
      },
      "source": [
        "# Check2\n",
        "result2 = contains_two_same_values([1, 3, 1, 3])"
      ],
      "execution_count": 37,
      "outputs": []
    },
    {
      "cell_type": "code",
      "metadata": {
        "collapsed": true,
        "id": "P_VM5Evm75zb",
        "colab": {
          "base_uri": "https://localhost:8080/"
        },
        "outputId": "373acc82-ca5e-4c93-a9c0-059276ecafb4"
      },
      "source": [
        "# Check3\n",
        "contains_two_same_values([3, 1, 3])"
      ],
      "execution_count": 36,
      "outputs": [
        {
          "output_type": "execute_result",
          "data": {
            "text/plain": [
              "False"
            ]
          },
          "metadata": {},
          "execution_count": 36
        }
      ]
    },
    {
      "cell_type": "markdown",
      "metadata": {
        "id": "zUQ5fWNz75zb"
      },
      "source": [
        "## Question# 8\n",
        "\n",
        "Points : 5\n",
        "\n",
        "Given a string, return a string where for every character of the string appears 3 time.\n",
        "\n",
        "    repeat_three('Hello') --> 'HHHeeellllllooo'\n",
        "    repeat_three('Mississippi') --> 'MMMiiissssssiiissssssiiippppppiii'"
      ]
    },
    {
      "cell_type": "code",
      "metadata": {
        "collapsed": true,
        "id": "6vKzWOd475zb",
        "colab": {
          "base_uri": "https://localhost:8080/"
        },
        "outputId": "510a0c77-cf76-409e-b537-d85b042ae137"
      },
      "source": [
        "def repeat_three(text):\n",
        "  result = \" \"\n",
        "  for char in text:\n",
        "    result += char * 3\n",
        "    return result\n",
        "result1 = repeat_three('Hello')\n",
        "result2 = repeat_three('Mississippi')\n",
        "\n",
        "print(result1)\n",
        "print(result2)\n",
        ""
      ],
      "execution_count": 39,
      "outputs": [
        {
          "output_type": "stream",
          "name": "stdout",
          "text": [
            " HHH\n",
            " MMM\n"
          ]
        }
      ]
    },
    {
      "cell_type": "code",
      "metadata": {
        "collapsed": true,
        "id": "TtCaDFgF75zb",
        "colab": {
          "base_uri": "https://localhost:8080/",
          "height": 36
        },
        "outputId": "1b351a92-9b63-43c2-ed0f-768bffa252d7"
      },
      "source": [
        "# Check1\n",
        "repeat_three('Hello')"
      ],
      "execution_count": 40,
      "outputs": [
        {
          "output_type": "execute_result",
          "data": {
            "text/plain": [
              "' HHH'"
            ],
            "application/vnd.google.colaboratory.intrinsic+json": {
              "type": "string"
            }
          },
          "metadata": {},
          "execution_count": 40
        }
      ]
    },
    {
      "cell_type": "code",
      "metadata": {
        "collapsed": true,
        "id": "o8QYdzkO75zc",
        "colab": {
          "base_uri": "https://localhost:8080/",
          "height": 36
        },
        "outputId": "88c8c686-f9e9-4bb3-9ecb-2cffb9856c4f"
      },
      "source": [
        "# Check2\n",
        "repeat_three('Mississippi')"
      ],
      "execution_count": 41,
      "outputs": [
        {
          "output_type": "execute_result",
          "data": {
            "text/plain": [
              "' MMM'"
            ],
            "application/vnd.google.colaboratory.intrinsic+json": {
              "type": "string"
            }
          },
          "metadata": {},
          "execution_count": 41
        }
      ]
    },
    {
      "cell_type": "markdown",
      "metadata": {
        "id": "mKoiX1Je75zg"
      },
      "source": [
        "## Question# 9\n",
        "\n",
        "Points : 5\n",
        "\n",
        "Write a function that returns the *number* of prime numbers that exist up to and including a given number\n",
        "\n",
        "    count_primes(100) --> 25\n",
        "\n",
        "By convention, 0 and 1 are not prime."
      ]
    },
    {
      "cell_type": "code",
      "metadata": {
        "collapsed": true,
        "id": "yYjs542q75zg",
        "colab": {
          "base_uri": "https://localhost:8080/"
        },
        "outputId": "04bc378c-7c76-4148-b74d-3842795a9054"
      },
      "source": [
        "\n",
        "def is_prime(num):\n",
        "    if num <= 1:\n",
        "        return False\n",
        "    if num <= 3:\n",
        "        return True\n",
        "    if num % 2 == 0 or num % 3 == 0:\n",
        "        return False\n",
        "    i = 5\n",
        "    while i * i <= num:\n",
        "        if num % i == 0 or num % (i + 2) == 0:\n",
        "            return False\n",
        "        i += 6\n",
        "    return True\n",
        "\n",
        "def count_primes(num):\n",
        "    count = 0\n",
        "    for num in range(2, num + 1):\n",
        "        if is_prime(num):\n",
        "            count += 1\n",
        "    return count\n",
        "\n",
        "# Test case\n",
        "result = count_primes(100)  # Should return 25\n",
        "print(result)"
      ],
      "execution_count": 49,
      "outputs": [
        {
          "output_type": "stream",
          "name": "stdout",
          "text": [
            "25\n"
          ]
        }
      ]
    },
    {
      "cell_type": "code",
      "metadata": {
        "collapsed": true,
        "id": "62ZQGzsa75zg"
      },
      "source": [
        "# Check1\n",
        "result = count_primes(100)"
      ],
      "execution_count": 50,
      "outputs": []
    }
  ]
}