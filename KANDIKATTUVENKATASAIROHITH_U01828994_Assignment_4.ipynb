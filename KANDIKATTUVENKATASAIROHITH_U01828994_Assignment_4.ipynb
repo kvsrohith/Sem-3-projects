{
  "cells": [
    {
      "cell_type": "markdown",
      "metadata": {
        "id": "EDCxasjKlUKM"
      },
      "source": [
        "##Assignment - 4\n",
        "\n",
        "**Answer the following questions, download the .ipynb file and submit the file.**\n",
        "* Name : KANDIKATTU VENKATA SAI ROHITH\n",
        "* Sesion : 6M - 9PM\n",
        "* CRN : 72451"
      ]
    },
    {
      "cell_type": "markdown",
      "metadata": {
        "id": "Rwo422ngrMme"
      },
      "source": [
        "Question#1 : 20 Points\n",
        "\n",
        "Build the class and it as \"Purchase\" with the following requirements:\n",
        "\n",
        "    Attributes :\n",
        "    item_name (string)\n",
        "    item_price (int)\n",
        "    item_quantity (int)\n",
        "    \n",
        "    Default constructor: With the following default values\n",
        "    Item_name = \"none\",\n",
        "    item_price = 0,\n",
        "    item_quantity = 0\n",
        "\n",
        "    Method:\n",
        "    item_cost()\n",
        "\n",
        "    This method should calculate the item cost example :\n",
        "    Coca Cola 10 @ $1 = $10\n",
        "\n",
        "If there are more than one item then you should add up the cost.\n",
        "    Item 1\n",
        "    Enter the item name: Chocolate\n",
        "    Enter the item price:3\n",
        "    Enter the item quantity:1\n",
        "\n",
        "    Item 2\n",
        "    Enter the item name: Cola\n",
        "    Enter the item price: 1\n",
        "    Enter the item quantity: 10\n",
        "\n",
        "(3) Add the costs of the two items together and output the total cost.\n",
        "\n",
        "    Ex:\n",
        "    TOTAL COST\n",
        "    Chocolate 1 @ $3 = $3\n",
        "    Cola 10 @ $1 = $10\n",
        "    Total: $13"
      ]
    },
    {
      "cell_type": "code",
      "execution_count": null,
      "metadata": {
        "id": "kaW0d1uSpskH"
      },
      "outputs": [],
      "source": [
        "class Purchase:\n",
        "    def __init__(self, item_name=\"none\", item_price=0, item_quantity=0):\n",
        "        self.item_name = item_name\n",
        "        self.item_price = item_price\n",
        "        self.item_quantity = item_quantity\n",
        "\n",
        "    def item_cost(self):\n",
        "        return f\"{self.item_name} {self.item_quantity} @ ${self.item_price} = ${self.item_price * self.item_quantity}\"\n",
        "\n",
        "if __name__ == \"__main__\":\n",
        "    total_cost = 0\n",
        "\n",
        "    item_name = input(\"Enter the item name: \")\n",
        "    item_price = int(input(\"Enter the item price: \"))\n",
        "    item_quantity = int(input(\"Enter the item quantity: \"))\n",
        "\n",
        "    item1 = Purchase(item_name, item_price, item_quantity)\n",
        "    total_cost += item_price * item_quantity\n",
        "\n",
        "    item_name = input(\"Enter the item name: \")\n",
        "    item_price = int(input(\"Enter the item price: \"))\n",
        "    item_quantity = int(input(\"Enter the item quantity: \"))\n",
        "\n",
        "    item2 = Purchase(item_name, item_price, item_quantity)\n",
        "    total_cost += item_price * item_quantity\n",
        "\n",
        "    print(\"\\nTOTAL COST\")\n",
        "    print(item1.item_cost())\n",
        "    print(item2.item_cost())\n",
        "    print(f\"Total: ${total_cost}\")\n"
      ]
    },
    {
      "cell_type": "code",
      "execution_count": null,
      "metadata": {
        "id": "aPnte2jypsg4"
      },
      "outputs": [],
      "source": []
    },
    {
      "cell_type": "markdown",
      "metadata": {
        "id": "xxz8augHib6N"
      },
      "source": [
        "Question #2\n",
        "Point : 10\n",
        "\n",
        "Write a class called Calculator that performs basic functions of a calculator: add, subtract, multiply, divide, and clear.\n",
        "\n"
      ]
    },
    {
      "cell_type": "code",
      "execution_count": null,
      "metadata": {
        "colab": {
          "base_uri": "https://localhost:8080/"
        },
        "id": "5Ce-X87Jpr_H",
        "outputId": "63fbf420-56de-43f9-b903-c8ca71de26d6"
      },
      "outputs": [
        {
          "metadata": {
            "tags": null
          },
          "name": "stdout",
          "output_type": "stream",
          "text": [
            "Current Result: 0\n",
            "Options:\n",
            "1. Add\n",
            "2. Subtract\n",
            "3. Multiply\n",
            "4. Divide\n",
            "5. Clear\n",
            "6. Exit\n",
            "Current Result: 5.0\n",
            "Options:\n",
            "1. Add\n",
            "2. Subtract\n",
            "3. Multiply\n",
            "4. Divide\n",
            "5. Clear\n",
            "6. Exit\n",
            "Current Result: 2.0\n",
            "Options:\n",
            "1. Add\n",
            "2. Subtract\n",
            "3. Multiply\n",
            "4. Divide\n",
            "5. Clear\n",
            "6. Exit\n"
          ]
        }
      ],
      "source": [
        "class Calculator:\n",
        "    def __init__(self):\n",
        "        self.result = 0\n",
        "    def add(self, num):\n",
        "        self.result += num\n",
        "\n",
        "    def subtract(self, num):\n",
        "        self.result -= num\n",
        "\n",
        "    def multiply(self, num):\n",
        "        self.result *= num\n",
        "\n",
        "    def divide(self, num):\n",
        "        if num != 0:\n",
        "            self.result /= num\n",
        "        else:\n",
        "            print(\"Error: Division by zero\")\n",
        "\n",
        "    def clear(self):\n",
        "        self.result = 0\n",
        "\n",
        "if __name__ == \"__main__\":\n",
        "    calculator = Calculator()\n",
        "\n",
        "    while True:\n",
        "        print(\"Current Result:\", calculator.result)\n",
        "        print(\"Options:\")\n",
        "        print(\"1. Add\")\n",
        "        print(\"2. Subtract\")\n",
        "        print(\"3. Multiply\")\n",
        "        print(\"4. Divide\")\n",
        "        print(\"5. Clear\")\n",
        "        print(\"6. Exit\")\n",
        "\n",
        "        choice = input(\"Enter your choice (1/2/3/4/5/6): \")\n",
        "\n",
        "        if choice == '6':\n",
        "            print(\"Goodbye!\")\n",
        "            break\n",
        "\n",
        "        if choice in ['1', '2', '3', '4']:\n",
        "            num = float(input(\"Enter a number: \"))\n",
        "            if choice == '1':\n",
        "                calculator.add(num)\n",
        "            elif choice == '2':\n",
        "                calculator.subtract(num)\n",
        "            elif choice == '3':\n",
        "                calculator.multiply(num)\n",
        "            elif choice == '4':\n",
        "                calculator.divide(num)\n",
        "        elif choice == '5':\n",
        "            calculator.clear()\n",
        "        else:\n",
        "            print(\"Invalid choice. Please select a valid option.\")\n",
        "\n"
      ]
    },
    {
      "cell_type": "code",
      "execution_count": null,
      "metadata": {
        "id": "HZIKIuJppr7u"
      },
      "outputs": [],
      "source": []
    },
    {
      "cell_type": "code",
      "execution_count": null,
      "metadata": {
        "id": "R4Wknqybprrn"
      },
      "outputs": [],
      "source": []
    },
    {
      "cell_type": "markdown",
      "metadata": {
        "id": "1A0bmhmGitTC"
      },
      "source": [
        "Question#3\n",
        "\n",
        "Points : 10\n",
        "\n",
        "Define the Student class that has two attributes: name and gpa\n",
        "\n",
        "Implement the following instance methods:\n",
        "\n",
        "A constructor that sets name to \"Defualt name\"(What ever you want to give) and gpa to 1.0\n",
        "set_name(self, name) - set student's name to parameter name\n",
        "get_name(self) - return student's name\n",
        "set_gpa(self, gpa) - set student's gpa to parameter gpa\n",
        "get_gpa(self) - return student's gpa\n",
        "Ex. If a new Student object is created, the default output is:\n",
        "\n",
        "Default name/1.0\n",
        "Ex. If the student's name is set to \"Frank\" and the gpa is set to 3.7, the output becomes:\n",
        "\n",
        "Frank/3.7"
      ]
    },
    {
      "cell_type": "code",
      "source": [
        "class Student:\n",
        "    def __init__(self, name=\"Default name\", gpa=1.0):\n",
        "        self.name = name\n",
        "        self.gpa = gpa\n",
        "\n",
        "    def set_name(self, name):\n",
        "        self.name = name\n",
        "\n",
        "    def get_name(self):\n",
        "        return self.name\n",
        "\n",
        "    def set_gpa(self, gpa):\n",
        "        self.gpa = gpa\n",
        "\n",
        "    def get_gpa(self):\n",
        "        return self.gpa\n",
        "\n",
        "if __name__ == \"__main__\":\n",
        "      user_name = input(\"Enter the student's name (or press Enter for default): \")\n",
        "    if not user_name:\n",
        "        user_name = \"Default name\"\n",
        "\n",
        "    user_gpa = input(\"Enter the student's GPA (or press Enter for default): \")\n",
        "    if not user_gpa:\n",
        "        user_gpa = 1.0\n",
        "    else:\n",
        "        user_gpa = float(user_gpa)\n",
        "\n",
        "    student = Student(user_name, user_gpa)\n",
        "\n",
        "    print(f\"{student.get_name()}/{student.get_gpa()}\")\n"
      ],
      "metadata": {
        "id": "RlkYvKkcrtrt"
      },
      "execution_count": null,
      "outputs": []
    },
    {
      "cell_type": "markdown",
      "metadata": {
        "id": "NetjI26fjKfC"
      },
      "source": [
        "Question#4\n",
        "\n",
        "Points : 10\n",
        "\n",
        "Build a class called BankAccount that manages checking and savings accounts.\n",
        "\n",
        "    Attributes:\n",
        "              customer name,\n",
        "              the customer's savings account balance,\n",
        "              and the customer's checking account balance.\n",
        "    \n",
        "    Constructor with parameters (self, new_name, checking_balance, savings_balance)\n",
        "    \n",
        "    deposit_checking(self, amount) - add parameter amount to the checking account balance (only if positive)\n",
        "\n",
        "    deposit_savings(self, amount) - add parameter amount to the savings account balance (only if positive)\n",
        "\n",
        "\n",
        "    withdraw_checking(self, amount) - subtract parameter amount from the checking account balance (only if positive)\n",
        "\n",
        "\n",
        "    withdraw_savings(self, amount) - subtract parameter amount from the savings account balance (only if positive)\n",
        "\n",
        "\n",
        "    transfer_to_savings(self, amount) - subtract parameter amount from the checking account balance and add to the savings account balance (only if positive)"
      ]
    },
    {
      "cell_type": "code",
      "execution_count": null,
      "metadata": {
        "id": "__IfZ7C7avCe"
      },
      "outputs": [],
      "source": [
        "class BankAccount:\n",
        "    def __init__(self, new_name, checking_balance, savings_balance):\n",
        "        self.customer_name = new_name\n",
        "        self.checking_balance = max(checking_balance, 0)\n",
        "        self.savings_balance = max(savings_balance, 0)\n",
        "    def deposit_checking(self, amount):\n",
        "        if amount > 0:\n",
        "            self.checking_balance += amount\n",
        "\n",
        "    def deposit_savings(self, amount):\n",
        "        if amount > 0:\n",
        "            self.savings_balance += amount\n",
        "\n",
        "    def withdraw_checking(self, amount):\n",
        "        if amount > 0 and amount <= self.checking_balance:\n",
        "            self.checking_balance -= amount\n",
        "\n",
        "    def withdraw_savings(self, amount):\n",
        "        if amount > 0 and amount <= self.savings_balance:\n",
        "            self.savings_balance -= amount\n",
        "\n",
        "    def transfer_to_savings(self, amount):\n",
        "        if amount > 0 and amount <= self.checking_balance:\n",
        "            self.checking_balance -= amount\n",
        "            self.savings_balance += amount\n",
        "\n",
        "    def display_account_info(self):\n",
        "        print(f\"Customer Name: {self.customer_name}\")\n",
        "        print(f\"Checking Account Balance: ${self.checking_balance:.2f}\")\n",
        "        print(f\"Savings Account Balance: ${self.savings_balance:.2f}\")\n",
        "if __name__ == \"__main__\":\n",
        "    account1 = BankAccount(\"John Doe\", 1000, 500)\n",
        "\n",
        "    account1.deposit_checking(200)\n",
        "    account1.deposit_savings(300)\n",
        "    account1.withdraw_checking(150)\n",
        "    account1.withdraw_savings(100)\n",
        "    account1.transfer_to_savings(250)\n",
        "    account1.display_account_info()\n"
      ]
    }
  ],
  "metadata": {
    "colab": {
      "provenance": []
    },
    "kernelspec": {
      "display_name": "Python 3",
      "name": "python3"
    },
    "language_info": {
      "name": "python"
    }
  },
  "nbformat": 4,
  "nbformat_minor": 0
}