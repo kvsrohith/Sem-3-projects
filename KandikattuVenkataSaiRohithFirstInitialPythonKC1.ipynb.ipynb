{
  "nbformat": 4,
  "nbformat_minor": 0,
  "metadata": {
    "colab": {
      "provenance": [],
      "toc_visible": true
    },
    "kernelspec": {
      "name": "python3",
      "display_name": "Python 3"
    },
    "language_info": {
      "name": "python"
    }
  },
  "cells": [
    {
      "cell_type": "markdown",
      "metadata": {
        "id": "hIzo8lkOm03D"
      },
      "source": [
        "### Printing output"
      ]
    },
    {
      "cell_type": "markdown",
      "metadata": {
        "id": "9Dj8pYHCHUMI"
      },
      "source": [
        "##Knowlwdge Check - 1\n",
        "\n",
        "**Answer the following questions, download the .ipynb file and submit the file.**\n",
        "* Name :\n",
        "* Sesion :\n",
        "* CRN :\n",
        "* Points: 100"
      ]
    },
    {
      "cell_type": "markdown",
      "metadata": {
        "id": "7AKKps5JXjPH"
      },
      "source": [
        "1 - Using print(), print your name and city following the format:\n",
        "\n",
        "        Name : Angela\n",
        "        City : New York\n"
      ]
    },
    {
      "cell_type": "code",
      "metadata": {
        "id": "ixFUad4Mm0Ei",
        "outputId": "1fd4f2f7-c602-4194-9701-20a461b9108e",
        "colab": {
          "base_uri": "https://localhost:8080/"
        }
      },
      "source": [
        "print(\"Name : Angela\")\n",
        "print(\"City : New York\")\n"
      ],
      "execution_count": 44,
      "outputs": [
        {
          "output_type": "stream",
          "name": "stdout",
          "text": [
            "Name : Angela\n",
            "City : New York\n"
          ]
        }
      ]
    },
    {
      "cell_type": "markdown",
      "metadata": {
        "id": "2vonbXOxXpQH"
      },
      "source": [
        "2 - Print the message below\n",
        "\n",
        "     Emergency Alert\n",
        "     NEWS : FLASH FLOOD WARNING this area till 7:00 PM"
      ]
    },
    {
      "cell_type": "code",
      "metadata": {
        "id": "D4Iacgy_m61W",
        "outputId": "8fcc1e27-4d41-4219-ddc8-66d90e8f2b0f",
        "colab": {
          "base_uri": "https://localhost:8080/"
        }
      },
      "source": [
        "print(\" FLASH FLOOD WARNING this area till 7:00 PM\")\n"
      ],
      "execution_count": 45,
      "outputs": [
        {
          "output_type": "stream",
          "name": "stdout",
          "text": [
            " FLASH FLOOD WARNING this area till 7:00 PM\n"
          ]
        }
      ]
    },
    {
      "cell_type": "markdown",
      "metadata": {
        "id": "lRuqg-hamQGT"
      },
      "source": [
        "### Arithmetic Operators and Variables"
      ]
    },
    {
      "cell_type": "markdown",
      "metadata": {
        "id": "j1-O0lZgX3K1"
      },
      "source": [
        "3 - Take a number and divide it by 2, then take the output and divide it by 2, and again divide by 2. Use variables.\n",
        "\n",
        "\n",
        "    Example\n",
        "    input : 2000\n",
        "    output is: 1000 500 250\n",
        "\n"
      ]
    },
    {
      "cell_type": "code",
      "metadata": {
        "id": "3zsVDZcyl2l0",
        "colab": {
          "base_uri": "https://localhost:8080/"
        },
        "outputId": "ae167325-d906-4ff2-f5df-4aaa03d4242e"
      },
      "source": [
        "input_number = 2000\n",
        "result1 = input_number/2\n",
        "result2 = result1/2\n",
        "result3 = result2/2\n",
        "print(\"Input:\", input_number)\n",
        "print(\"Output is:\", result1, result2, result3)\n",
        "\n"
      ],
      "execution_count": 46,
      "outputs": [
        {
          "output_type": "stream",
          "name": "stdout",
          "text": [
            "Input: 2000\n",
            "Output is: 1000.0 500.0 250.0\n"
          ]
        }
      ]
    },
    {
      "cell_type": "markdown",
      "metadata": {
        "id": "deaFrnkLYGhJ"
      },
      "source": [
        "4 - Given three number x, y, and z,\n",
        "\n",
        "\n",
        "       Output: x to the power of z,\n",
        "               x to the power of y,\n",
        "               x minus y,\n",
        "               remainder value when x is divided by z"
      ]
    },
    {
      "cell_type": "code",
      "metadata": {
        "id": "4SZRBko7mvc-",
        "colab": {
          "base_uri": "https://localhost:8080/"
        },
        "outputId": "a9740ec9-87ce-4245-e1ff-1d12d4d18ab2"
      },
      "source": [
        "x = float(input(\"Enter the value of x = \"))\n",
        "y = float(input(\"Enter the value of y = \"))\n",
        "z = float(input(\"Enter the value of z = \"))\n",
        "\n",
        "power_of_z = x ** z\n",
        "power_of_y = x ** y\n",
        "minus_y = x - y\n",
        "remainder = x%z\n",
        "\n",
        "print(f\"x to the power of z: {power_of_z}\")\n",
        "print(f\"x to the power of y: {power_of_y}\")\n",
        "print(f\"x minus y : {minus_y}\")\n",
        "print(f\"Remainder when x is divided by z : {remainder}\")\n",
        "\n",
        "\n"
      ],
      "execution_count": 47,
      "outputs": [
        {
          "output_type": "stream",
          "name": "stdout",
          "text": [
            "Enter the value of x = 9\n",
            "Enter the value of y = 8\n",
            "Enter the value of z = 7\n",
            "x to the power of z: 4782969.0\n",
            "x to the power of y: 43046721.0\n",
            "x minus y : 1.0\n",
            "Remainder when x is divided by z : 2.0\n"
          ]
        }
      ]
    },
    {
      "cell_type": "markdown",
      "metadata": {
        "id": "GE9xk6_TYcYN"
      },
      "source": [
        "5 - Add\n",
        "\n",
        "        4 quarters (0.25),  3 dimes (0.10), 2 nickels (0.5) and 1 cent\n",
        "        Output:  the total amount as dollars and cents."
      ]
    },
    {
      "cell_type": "code",
      "metadata": {
        "id": "UXZC9qSQsX9_",
        "colab": {
          "base_uri": "https://localhost:8080/"
        },
        "outputId": "7b3327c1-11af-4358-c3ac-413424a929d4"
      },
      "source": [
        "\n",
        "quarter_value = 0.25\n",
        "dime_value = 0.10\n",
        "nickel_value = 0.05\n",
        "cent_value= 0.01\n",
        "\n",
        "quarters = 4\n",
        "dimes = 3\n",
        "nickels = 2\n",
        "cents = 1\n",
        "\n",
        "total_dollars = (quarters * quarter_value + dimes * dime_value + nickels * nickel_value + cents * cent_value)\n",
        "dollars = int(total_dollars)\n",
        "cents = int((total_dollars - dollars) * 100)\n",
        "\n",
        "print(f\"The total amount is ${dollars}.{cents:02} cents\")\n",
        "\n"
      ],
      "execution_count": 48,
      "outputs": [
        {
          "output_type": "stream",
          "name": "stdout",
          "text": [
            "The total amount is $1.41 cents\n"
          ]
        }
      ]
    },
    {
      "cell_type": "markdown",
      "metadata": {
        "id": "O618MLtRtynL"
      },
      "source": [
        "### Strings"
      ]
    },
    {
      "cell_type": "markdown",
      "metadata": {
        "id": "iXtnKBx8Ywy_"
      },
      "source": [
        "6 - Given the string **Python**, with the help of slicing, get **o**."
      ]
    },
    {
      "cell_type": "code",
      "metadata": {
        "id": "EOD6mIiTtOzx",
        "colab": {
          "base_uri": "https://localhost:8080/"
        },
        "outputId": "fe88fe64-01fa-4bf9-a00e-51dafb6d19b7"
      },
      "source": [
        "input_string = \"Python\"\n",
        "character_o = input_string[4]\n",
        "print(character_o)\n",
        "\n"
      ],
      "execution_count": 49,
      "outputs": [
        {
          "output_type": "stream",
          "name": "stdout",
          "text": [
            "o\n"
          ]
        }
      ]
    },
    {
      "cell_type": "markdown",
      "metadata": {
        "id": "mgnqbERkY3-J"
      },
      "source": [
        "7 - Given the string **Python**, with the help of slicing get,  **tho**."
      ]
    },
    {
      "cell_type": "code",
      "metadata": {
        "id": "7R58ftspuJK3",
        "colab": {
          "base_uri": "https://localhost:8080/"
        },
        "outputId": "b192b9f2-0ffe-4dc6-eba1-714e6fc2d41f"
      },
      "source": [
        "input_string = \"Python\"\n",
        "result = input_string[2:5]\n",
        "print(result)\n",
        "\n"
      ],
      "execution_count": 50,
      "outputs": [
        {
          "output_type": "stream",
          "name": "stdout",
          "text": [
            "tho\n"
          ]
        }
      ]
    },
    {
      "cell_type": "markdown",
      "metadata": {
        "id": "U2g51swGY9Hf"
      },
      "source": [
        "8 - Given the string **Python Class**, with the help of slicing, get **Class**."
      ]
    },
    {
      "cell_type": "code",
      "metadata": {
        "id": "sOUYJA0FuN78",
        "colab": {
          "base_uri": "https://localhost:8080/"
        },
        "outputId": "d1b90004-ae1f-420d-81e1-ed3c56d8fa5c"
      },
      "source": [
        "input_string = \"Python Class\"\n",
        "result = input_string[7:12]\n",
        "print(result)\n",
        "\n",
        "\n"
      ],
      "execution_count": 51,
      "outputs": [
        {
          "output_type": "stream",
          "name": "stdout",
          "text": [
            "Class\n"
          ]
        }
      ]
    },
    {
      "cell_type": "markdown",
      "metadata": {
        "id": "tLycBhPYZHsC"
      },
      "source": [
        "9 - Find the length of the String  **Welcome to Pace University**"
      ]
    },
    {
      "cell_type": "code",
      "metadata": {
        "id": "YIERKBvluUdA",
        "colab": {
          "base_uri": "https://localhost:8080/"
        },
        "outputId": "07654f4f-8b45-4faa-881b-d8daf2d22524"
      },
      "source": [
        "input_string = \"Welcome to Pace University\"\n",
        "length = len(input_string)\n",
        "print(f\"The length of the string is : {length} \")\n",
        "\n"
      ],
      "execution_count": 52,
      "outputs": [
        {
          "output_type": "stream",
          "name": "stdout",
          "text": [
            "The length of the string is : 26 \n"
          ]
        }
      ]
    },
    {
      "cell_type": "markdown",
      "metadata": {
        "id": "l7SqRwF7ZNp8"
      },
      "source": [
        "10 - Split the String  **Welcome to Pace University**  into words"
      ]
    },
    {
      "cell_type": "code",
      "metadata": {
        "id": "1SBnxastueix",
        "colab": {
          "base_uri": "https://localhost:8080/"
        },
        "outputId": "b95328be-6d34-433a-9c61-86dad0939f6b"
      },
      "source": [
        "input_string = \"Welcome to Pace University\"\n",
        "words = input_string.split()\n",
        "print(words)\n",
        "\n"
      ],
      "execution_count": 53,
      "outputs": [
        {
          "output_type": "stream",
          "name": "stdout",
          "text": [
            "['Welcome', 'to', 'Pace', 'University']\n"
          ]
        }
      ]
    },
    {
      "cell_type": "markdown",
      "metadata": {
        "id": "YK8s1_BYZSyO"
      },
      "source": [
        "11 - Replace the letter  **i**  with  **o**  in  **Artificial intelligence**"
      ]
    },
    {
      "cell_type": "code",
      "metadata": {
        "id": "EDO4NXUUuoOm",
        "colab": {
          "base_uri": "https://localhost:8080/"
        },
        "outputId": "54d859e6-3a11-4b9a-aa7c-663176cff5cf"
      },
      "source": [
        "from os import replace\n",
        "input_string = \"Artificial intelligence\"\n",
        "output_string = input_string.replace('i', 'o')\n",
        "print(output_string)\n",
        "\n"
      ],
      "execution_count": 54,
      "outputs": [
        {
          "output_type": "stream",
          "name": "stdout",
          "text": [
            "Artofocoal ontellogence\n"
          ]
        }
      ]
    },
    {
      "cell_type": "markdown",
      "metadata": {
        "id": "VLMrFwqhZeNz"
      },
      "source": [
        "12 - convert the text  **DATA Science**  into lower case ( as **data science**)"
      ]
    },
    {
      "cell_type": "code",
      "metadata": {
        "id": "T7NONPC-u94X",
        "colab": {
          "base_uri": "https://localhost:8080/"
        },
        "outputId": "84cc2438-241c-4893-a9d5-ff4dc8baadf3"
      },
      "source": [
        "text = \"DATA Science\"\n",
        "lowercased_text = text.lower()\n",
        "print(lowercased_text)\n",
        "\n"
      ],
      "execution_count": 55,
      "outputs": [
        {
          "output_type": "stream",
          "name": "stdout",
          "text": [
            "data science\n"
          ]
        }
      ]
    },
    {
      "cell_type": "markdown",
      "metadata": {
        "id": "4EHx_9ycZkwh"
      },
      "source": [
        "13 - convert the text  **DATA Science**  into UPPER case ( as **DATA SCIENCE**)"
      ]
    },
    {
      "cell_type": "code",
      "metadata": {
        "id": "Tg1-wbUPvUYI",
        "colab": {
          "base_uri": "https://localhost:8080/"
        },
        "outputId": "4bc557b7-5b60-4cbc-de5b-91f418db3a1c"
      },
      "source": [
        "text = \"DATA Science\"\n",
        "uppercased_text = text.upper()\n",
        "print(uppercased_text)\n",
        "\n"
      ],
      "execution_count": 56,
      "outputs": [
        {
          "output_type": "stream",
          "name": "stdout",
          "text": [
            "DATA SCIENCE\n"
          ]
        }
      ]
    },
    {
      "cell_type": "markdown",
      "metadata": {
        "id": "STL6BSOOZ44L"
      },
      "source": [
        "14 - reverse the given String  **Artificial intelligence**"
      ]
    },
    {
      "cell_type": "code",
      "metadata": {
        "id": "CJPPWcOgvdWN",
        "colab": {
          "base_uri": "https://localhost:8080/"
        },
        "outputId": "77f8ed15-5d6b-44aa-eb71-87ebd8b27b8e"
      },
      "source": [
        "text = \"ARTIFICIAL INTELLIGENCE\"\n",
        "reversed_text = text[::-1]\n",
        "print(reversed_text)\n",
        "\n"
      ],
      "execution_count": 57,
      "outputs": [
        {
          "output_type": "stream",
          "name": "stdout",
          "text": [
            "ECNEGILLETNI LAICIFITRA\n"
          ]
        }
      ]
    },
    {
      "cell_type": "markdown",
      "metadata": {
        "id": "TU_sm0SsoGXV"
      },
      "source": [
        "###Comparision Operators"
      ]
    },
    {
      "cell_type": "markdown",
      "metadata": {
        "id": "XJYziySoaAdz"
      },
      "source": [
        "15 - Compare two number a =150, b = 225 and print if they are:\n",
        "\n",
        "        equal,\n",
        "        greater,\n",
        "        greater than or equal to,\n",
        "        less,\n",
        "        less than or equal to,  \n",
        "        not equal\n",
        "       \n",
        "        example : a < b\n",
        "                  print(\"a is less than b\")"
      ]
    },
    {
      "cell_type": "code",
      "metadata": {
        "id": "4qFJzGo3wIsC",
        "colab": {
          "base_uri": "https://localhost:8080/"
        },
        "outputId": "957abcf5-0f90-4ff5-dec5-aa3955b191c3"
      },
      "source": [
        "a = 150\n",
        "b = 225\n",
        "if a ==b:\n",
        "  print(\"a is equal to b\")\n",
        "elif a > b:\n",
        "  print(\"a is greater than b\")\n",
        "elif a >= b:\n",
        "  print(\"a is greater than or equal to b\")\n",
        "elif a < b:\n",
        "  print(\"a is less than b\")\n",
        "elif a <= b:\n",
        "  print(\"a is less than or equal to b\")\n",
        "else:\n",
        "  print(\"a is not equal to b\")"
      ],
      "execution_count": 58,
      "outputs": [
        {
          "output_type": "stream",
          "name": "stdout",
          "text": [
            "a is less than b\n"
          ]
        }
      ]
    },
    {
      "cell_type": "markdown",
      "metadata": {
        "id": "8kbRYQGy3fsq"
      },
      "source": [
        "###Lists"
      ]
    },
    {
      "cell_type": "markdown",
      "metadata": {
        "id": "UeK6ZxU53cZF"
      },
      "source": [
        "16 - Create a **list** of **lists** of integers elements"
      ]
    },
    {
      "cell_type": "code",
      "metadata": {
        "id": "GdMdQwi33cB5",
        "colab": {
          "base_uri": "https://localhost:8080/"
        },
        "outputId": "c198bd69-37a4-4cbc-f4de-aaf1dbc54272"
      },
      "source": [
        "my_list = []\n",
        "my_list.append(1)\n",
        "my_list.append(2)\n",
        "my_list.append(3)\n",
        "my_list = [1, 2, 3]\n",
        "print(my_list)\n"
      ],
      "execution_count": 59,
      "outputs": [
        {
          "output_type": "stream",
          "name": "stdout",
          "text": [
            "[1, 2, 3]\n"
          ]
        }
      ]
    },
    {
      "cell_type": "markdown",
      "metadata": {
        "id": "pWriOAll3sCF"
      },
      "source": [
        "17 - Create a **list** of **lists** of Text elements"
      ]
    },
    {
      "cell_type": "code",
      "metadata": {
        "id": "eCXFxSi13rXa",
        "colab": {
          "base_uri": "https://localhost:8080/"
        },
        "outputId": "c56ef905-fa52-4372-d091-60380a65315d"
      },
      "source": [
        "list_of_lists = [\n",
        "    [\"Newyork city\",\"Jersey City\",\"Washington DC\"],\n",
        "    [\"NY\",\"NJ\",\"VIRGINIA\"],\n",
        "\n",
        "]\n",
        "print(list_of_lists[0])\n",
        "print(list_of_lists[1])\n",
        "\n"
      ],
      "execution_count": 60,
      "outputs": [
        {
          "output_type": "stream",
          "name": "stdout",
          "text": [
            "['Newyork city', 'Jersey City', 'Washington DC']\n",
            "['NY', 'NJ', 'VIRGINIA']\n"
          ]
        }
      ]
    },
    {
      "cell_type": "markdown",
      "metadata": {
        "id": "8zC2JP7i3ubU"
      },
      "source": []
    }
  ]
}